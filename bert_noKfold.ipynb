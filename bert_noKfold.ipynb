{
  "cells": [
    {
      "cell_type": "markdown",
      "metadata": {
        "id": "OK6fvr6rFdQf"
      },
      "source": [
        "# 2. Read and Prepare the Dataset"
      ]
    },
    {
      "cell_type": "code",
      "execution_count": 6,
      "metadata": {
        "id": "XY5zlDmZtPtS"
      },
      "outputs": [],
      "source": [
        "import numpy as np\n",
        "import pandas as pd\n",
        "from sklearn.model_selection import KFold\n",
        "from sklearn.metrics import classification_report, confusion_matrix\n",
        "from transformers import AutoModelForSequenceClassification, AutoTokenizer, TrainingArguments, Trainer, DataCollatorWithPadding\n",
        "import torch\n",
        "import evaluate\n",
        "import seaborn as sns\n",
        "import matplotlib.pyplot as plt\n",
        "import re"
      ]
    },
    {
      "cell_type": "code",
      "execution_count": 7,
      "metadata": {
        "id": "rNU-0goehOtm"
      },
      "outputs": [],
      "source": [
        "data_path = \"PQEvents_Ticket_csv.csv\" #@param {type:\"string\"}\n",
        "text_column_name = \"Details\" #@param {type:\"string\"}\n",
        "label_column_name = \"Cause\" #@param {type:\"string\"}\n",
        "\n",
        "model_name = \"distilbert-base-uncased\" #@param {type:\"string\"}\n",
        "test_size = 0.2 #@param {type:\"number\"}\n",
        "num_labels = 2 #@param {type:\"number\"}"
      ]
    },
    {
      "cell_type": "code",
      "execution_count": 8,
      "metadata": {
        "id": "kdpGJIfQDEX5"
      },
      "outputs": [],
      "source": [
        "df = pd.read_csv(data_path)"
      ]
    },
    {
      "cell_type": "code",
      "execution_count": 9,
      "metadata": {
        "colab": {
          "base_uri": "https://localhost:8080/",
          "height": 206
        },
        "id": "kVmAn6vSFg-v",
        "outputId": "601ca18d-00f7-4b11-da06-7535a186c405"
      },
      "outputs": [
        {
          "data": {
            "text/html": [
              "<div>\n",
              "<style scoped>\n",
              "    .dataframe tbody tr th:only-of-type {\n",
              "        vertical-align: middle;\n",
              "    }\n",
              "\n",
              "    .dataframe tbody tr th {\n",
              "        vertical-align: top;\n",
              "    }\n",
              "\n",
              "    .dataframe thead th {\n",
              "        text-align: right;\n",
              "    }\n",
              "</style>\n",
              "<table border=\"1\" class=\"dataframe\">\n",
              "  <thead>\n",
              "    <tr style=\"text-align: right;\">\n",
              "      <th></th>\n",
              "      <th>id</th>\n",
              "      <th>SiteName</th>\n",
              "      <th>FeederId</th>\n",
              "      <th>EventId</th>\n",
              "      <th>Phase</th>\n",
              "      <th>First Event</th>\n",
              "      <th>Last Event</th>\n",
              "      <th>Cause</th>\n",
              "      <th>Weather</th>\n",
              "      <th>Isolation Equipment Code</th>\n",
              "      <th>Failed Equipment Code</th>\n",
              "      <th>Details</th>\n",
              "    </tr>\n",
              "  </thead>\n",
              "  <tbody>\n",
              "    <tr>\n",
              "      <th>0</th>\n",
              "      <td>1</td>\n",
              "      <td>Site0006</td>\n",
              "      <td>F_0000041</td>\n",
              "      <td>3042</td>\n",
              "      <td>4</td>\n",
              "      <td>39:06.0</td>\n",
              "      <td>39:06.0</td>\n",
              "      <td>Equipment</td>\n",
              "      <td>Unknown</td>\n",
              "      <td>Fuse</td>\n",
              "      <td>Other</td>\n",
              "      <td>Equipment, Device UG, Damaged.</td>\n",
              "    </tr>\n",
              "    <tr>\n",
              "      <th>1</th>\n",
              "      <td>2</td>\n",
              "      <td>Site0012</td>\n",
              "      <td>F_0000037</td>\n",
              "      <td>3048</td>\n",
              "      <td>3</td>\n",
              "      <td>29:36.0</td>\n",
              "      <td>29:51.0</td>\n",
              "      <td>Equipment</td>\n",
              "      <td>Unknown</td>\n",
              "      <td>Breaker</td>\n",
              "      <td>Capacitor</td>\n",
              "      <td>Equipment, Capacitor Station, Damaged.</td>\n",
              "    </tr>\n",
              "    <tr>\n",
              "      <th>2</th>\n",
              "      <td>3</td>\n",
              "      <td>Site0006</td>\n",
              "      <td>F_0000041</td>\n",
              "      <td>3067</td>\n",
              "      <td>2</td>\n",
              "      <td>10:46.0</td>\n",
              "      <td>10:46.0</td>\n",
              "      <td>Weather</td>\n",
              "      <td>Wind</td>\n",
              "      <td>Breaker</td>\n",
              "      <td>No Damage</td>\n",
              "      <td>Undetermined, Wind / Weather Related.</td>\n",
              "    </tr>\n",
              "    <tr>\n",
              "      <th>3</th>\n",
              "      <td>4</td>\n",
              "      <td>Site0012</td>\n",
              "      <td>F_0000037</td>\n",
              "      <td>3127</td>\n",
              "      <td>2</td>\n",
              "      <td>33:30.0</td>\n",
              "      <td>33:30.0</td>\n",
              "      <td>Equipment</td>\n",
              "      <td>Unknown</td>\n",
              "      <td>Fuse</td>\n",
              "      <td>Transformer</td>\n",
              "      <td>Equipment, Transformer UG, Damaged.</td>\n",
              "    </tr>\n",
              "    <tr>\n",
              "      <th>4</th>\n",
              "      <td>6</td>\n",
              "      <td>Site0006</td>\n",
              "      <td>F_0000041</td>\n",
              "      <td>3152</td>\n",
              "      <td>2</td>\n",
              "      <td>39:58.0</td>\n",
              "      <td>39:58.0</td>\n",
              "      <td>Equipment</td>\n",
              "      <td>Unknown</td>\n",
              "      <td>Fuse</td>\n",
              "      <td>Transformer</td>\n",
              "      <td>Equipment, Transformer UG, Damaged.</td>\n",
              "    </tr>\n",
              "  </tbody>\n",
              "</table>\n",
              "</div>"
            ],
            "text/plain": [
              "   id  SiteName   FeederId  EventId  Phase First Event Last Event      Cause  \\\n",
              "0   1  Site0006  F_0000041     3042      4     39:06.0    39:06.0  Equipment   \n",
              "1   2  Site0012  F_0000037     3048      3     29:36.0    29:51.0  Equipment   \n",
              "2   3  Site0006  F_0000041     3067      2     10:46.0    10:46.0    Weather   \n",
              "3   4  Site0012  F_0000037     3127      2     33:30.0    33:30.0  Equipment   \n",
              "4   6  Site0006  F_0000041     3152      2     39:58.0    39:58.0  Equipment   \n",
              "\n",
              "   Weather Isolation Equipment Code Failed Equipment Code  \\\n",
              "0  Unknown                     Fuse                 Other   \n",
              "1  Unknown                  Breaker             Capacitor   \n",
              "2     Wind                  Breaker             No Damage   \n",
              "3  Unknown                     Fuse           Transformer   \n",
              "4  Unknown                     Fuse           Transformer   \n",
              "\n",
              "                                  Details  \n",
              "0          Equipment, Device UG, Damaged.  \n",
              "1  Equipment, Capacitor Station, Damaged.  \n",
              "2   Undetermined, Wind / Weather Related.  \n",
              "3     Equipment, Transformer UG, Damaged.  \n",
              "4     Equipment, Transformer UG, Damaged.  "
            ]
          },
          "execution_count": 9,
          "metadata": {},
          "output_type": "execute_result"
        }
      ],
      "source": [
        "df.head()"
      ]
    },
    {
      "cell_type": "code",
      "execution_count": 10,
      "metadata": {
        "id": "IMZjdLqTnL7J"
      },
      "outputs": [
        {
          "name": "stdout",
          "output_type": "stream",
          "text": [
            "\n",
            "Unique Cause Classes with Counts:\n",
            "----------------------------------------\n",
            "Equipment               73\n",
            "Tree                    39\n",
            "Vehicle                 23\n",
            "Lightning               21\n",
            "Animal                   7\n",
            "Customer                 6\n",
            "Other                    4\n",
            "Weather                  3\n",
            "Planned                  2\n",
            "\n",
            "Isolation Equipment Codes for Customer causes:\n",
            "Isolation Equipment Code\n",
            "Customer    5\n",
            "Switch      1\n",
            "Name: count, dtype: int64\n",
            "\n",
            "Dataset shape: (178, 12)\n"
          ]
        }
      ],
      "source": [
        "# First, clean up Cause column\n",
        "df = df[~df['Cause'].isin(['Unknown', 'Undetermined'])] # Remove rows with these values in Cause column \n",
        "df['Cause'] = df['Cause'].replace(['Customer Request', 'Customer Caused'], 'Customer')\n",
        "\n",
        "# Replace Unknown/Undetermined in Isolation Equipment Code\n",
        "df['Isolation Equipment Code'] = df['Isolation Equipment Code'].replace(['Unknown', 'Undetermined'], np.nan)\n",
        "\n",
        "# Only drop rows where Cause is NaN\n",
        "df = df.dropna(subset=['Cause'])\n",
        "\n",
        "# If 'Cause' is 'Customer' and 'Isolation Equipment Code' is NaN, set 'Isolation Equipment Code' to 'Customer'\n",
        "df.loc[(df['Cause'] == 'Customer') & (df['Isolation Equipment Code'].isna()), 'Isolation Equipment Code'] = 'Customer'\n",
        "\n",
        "# Drop rows where 'Isolation Equipment Code' is NaN, but only for causes other than 'Customer'\n",
        "df = df.dropna(subset=['Isolation Equipment Code'])\n",
        "\n",
        "\n",
        "# Keep only rows where 'Details' is a string\n",
        "df = df[df['Details'].apply(lambda x: isinstance(x, str))]\n",
        "\n",
        "# Function to clean text data\n",
        "def clean_text(text):\n",
        "    text = text.lower()\n",
        "    text = re.sub(r'[^\\w\\s]', '', text)\n",
        "    return text\n",
        "\n",
        "# Apply text cleaning\n",
        "df['Details'] = df['Details'].apply(clean_text)\n",
        "\n",
        "# Print distributions\n",
        "print(\"\\nUnique Cause Classes with Counts:\")\n",
        "print(\"-\" * 40)\n",
        "cause_unique = df['Cause'].value_counts()\n",
        "for cause, count in cause_unique.items():\n",
        "    print(f\"{cause:<20} {count:>5}\")\n",
        "\n",
        "print(\"\\nIsolation Equipment Codes for Customer causes:\")\n",
        "print(df[df['Cause'] == 'Customer']['Isolation Equipment Code'].value_counts(dropna=False))\n",
        "\n",
        "print(f\"\\nDataset shape: {df.shape}\")\n"
      ]
    },
    {
      "cell_type": "markdown",
      "metadata": {
        "id": "y0jYMs1EDi_Z"
      },
      "source": [
        "### Clean Dataset"
      ]
    },
    {
      "cell_type": "code",
      "execution_count": 11,
      "metadata": {
        "colab": {
          "base_uri": "https://localhost:8080/",
          "height": 206
        },
        "id": "PA2BCrHRbRXo",
        "outputId": "a6ab7272-95f8-437a-c0eb-ac8b0707e5d6"
      },
      "outputs": [
        {
          "data": {
            "text/html": [
              "<div>\n",
              "<style scoped>\n",
              "    .dataframe tbody tr th:only-of-type {\n",
              "        vertical-align: middle;\n",
              "    }\n",
              "\n",
              "    .dataframe tbody tr th {\n",
              "        vertical-align: top;\n",
              "    }\n",
              "\n",
              "    .dataframe thead th {\n",
              "        text-align: right;\n",
              "    }\n",
              "</style>\n",
              "<table border=\"1\" class=\"dataframe\">\n",
              "  <thead>\n",
              "    <tr style=\"text-align: right;\">\n",
              "      <th></th>\n",
              "      <th>id</th>\n",
              "      <th>SiteName</th>\n",
              "      <th>FeederId</th>\n",
              "      <th>EventId</th>\n",
              "      <th>Phase</th>\n",
              "      <th>First Event</th>\n",
              "      <th>Last Event</th>\n",
              "      <th>Cause</th>\n",
              "      <th>Weather</th>\n",
              "      <th>Isolation Equipment Code</th>\n",
              "      <th>Failed Equipment Code</th>\n",
              "      <th>Details</th>\n",
              "    </tr>\n",
              "  </thead>\n",
              "  <tbody>\n",
              "    <tr>\n",
              "      <th>0</th>\n",
              "      <td>1</td>\n",
              "      <td>Site0006</td>\n",
              "      <td>F_0000041</td>\n",
              "      <td>3042</td>\n",
              "      <td>4</td>\n",
              "      <td>39:06.0</td>\n",
              "      <td>39:06.0</td>\n",
              "      <td>Equipment</td>\n",
              "      <td>Unknown</td>\n",
              "      <td>Fuse</td>\n",
              "      <td>Other</td>\n",
              "      <td>equipment device ug damaged</td>\n",
              "    </tr>\n",
              "    <tr>\n",
              "      <th>1</th>\n",
              "      <td>2</td>\n",
              "      <td>Site0012</td>\n",
              "      <td>F_0000037</td>\n",
              "      <td>3048</td>\n",
              "      <td>3</td>\n",
              "      <td>29:36.0</td>\n",
              "      <td>29:51.0</td>\n",
              "      <td>Equipment</td>\n",
              "      <td>Unknown</td>\n",
              "      <td>Breaker</td>\n",
              "      <td>Capacitor</td>\n",
              "      <td>equipment capacitor station damaged</td>\n",
              "    </tr>\n",
              "    <tr>\n",
              "      <th>2</th>\n",
              "      <td>3</td>\n",
              "      <td>Site0006</td>\n",
              "      <td>F_0000041</td>\n",
              "      <td>3067</td>\n",
              "      <td>2</td>\n",
              "      <td>10:46.0</td>\n",
              "      <td>10:46.0</td>\n",
              "      <td>Weather</td>\n",
              "      <td>Wind</td>\n",
              "      <td>Breaker</td>\n",
              "      <td>No Damage</td>\n",
              "      <td>undetermined wind  weather related</td>\n",
              "    </tr>\n",
              "    <tr>\n",
              "      <th>3</th>\n",
              "      <td>4</td>\n",
              "      <td>Site0012</td>\n",
              "      <td>F_0000037</td>\n",
              "      <td>3127</td>\n",
              "      <td>2</td>\n",
              "      <td>33:30.0</td>\n",
              "      <td>33:30.0</td>\n",
              "      <td>Equipment</td>\n",
              "      <td>Unknown</td>\n",
              "      <td>Fuse</td>\n",
              "      <td>Transformer</td>\n",
              "      <td>equipment transformer ug damaged</td>\n",
              "    </tr>\n",
              "    <tr>\n",
              "      <th>4</th>\n",
              "      <td>6</td>\n",
              "      <td>Site0006</td>\n",
              "      <td>F_0000041</td>\n",
              "      <td>3152</td>\n",
              "      <td>2</td>\n",
              "      <td>39:58.0</td>\n",
              "      <td>39:58.0</td>\n",
              "      <td>Equipment</td>\n",
              "      <td>Unknown</td>\n",
              "      <td>Fuse</td>\n",
              "      <td>Transformer</td>\n",
              "      <td>equipment transformer ug damaged</td>\n",
              "    </tr>\n",
              "  </tbody>\n",
              "</table>\n",
              "</div>"
            ],
            "text/plain": [
              "   id  SiteName   FeederId  EventId  Phase First Event Last Event      Cause  \\\n",
              "0   1  Site0006  F_0000041     3042      4     39:06.0    39:06.0  Equipment   \n",
              "1   2  Site0012  F_0000037     3048      3     29:36.0    29:51.0  Equipment   \n",
              "2   3  Site0006  F_0000041     3067      2     10:46.0    10:46.0    Weather   \n",
              "3   4  Site0012  F_0000037     3127      2     33:30.0    33:30.0  Equipment   \n",
              "4   6  Site0006  F_0000041     3152      2     39:58.0    39:58.0  Equipment   \n",
              "\n",
              "   Weather Isolation Equipment Code Failed Equipment Code  \\\n",
              "0  Unknown                     Fuse                 Other   \n",
              "1  Unknown                  Breaker             Capacitor   \n",
              "2     Wind                  Breaker             No Damage   \n",
              "3  Unknown                     Fuse           Transformer   \n",
              "4  Unknown                     Fuse           Transformer   \n",
              "\n",
              "                               Details  \n",
              "0          equipment device ug damaged  \n",
              "1  equipment capacitor station damaged  \n",
              "2   undetermined wind  weather related  \n",
              "3     equipment transformer ug damaged  \n",
              "4     equipment transformer ug damaged  "
            ]
          },
          "execution_count": 11,
          "metadata": {},
          "output_type": "execute_result"
        }
      ],
      "source": [
        "df.head()"
      ]
    },
    {
      "cell_type": "markdown",
      "metadata": {
        "id": "9disOu73d71k"
      },
      "source": [
        "### Label Encoder"
      ]
    },
    {
      "cell_type": "code",
      "execution_count": 102,
      "metadata": {
        "id": "re3wIKaHtDxe"
      },
      "outputs": [],
      "source": [
        "from sklearn import preprocessing"
      ]
    },
    {
      "cell_type": "code",
      "execution_count": 103,
      "metadata": {
        "id": "amv1wYnqfz44"
      },
      "outputs": [],
      "source": [
        "# Update labels to include both Cause and Isolation Equipment Code\n",
        "le_cause = preprocessing.LabelEncoder()\n",
        "le_isolation = preprocessing.LabelEncoder()\n",
        "\n",
        "# Fit both encoders\n",
        "le_cause.fit(df[label_column_name].tolist())\n",
        "le_isolation.fit(df['Isolation Equipment Code'].tolist())\n",
        "\n",
        "# Transform labels\n",
        "df['cause_label'] = le_cause.transform(df[label_column_name].tolist())\n",
        "df['isolation_label'] = le_isolation.transform(df['Isolation Equipment Code'].tolist())"
      ]
    },
    {
      "cell_type": "code",
      "execution_count": 104,
      "metadata": {},
      "outputs": [
        {
          "name": "stdout",
          "output_type": "stream",
          "text": [
            "Label Mapping:\n",
            "Animal: 0\n",
            "Customer: 1\n",
            "Equipment: 2\n",
            "Lightning: 3\n",
            "Other: 4\n",
            "Planned: 5\n",
            "Tree: 6\n",
            "Vehicle: 7\n",
            "Weather: 8\n",
            "\n",
            "Label Mapping:\n",
            "Breaker: 0\n",
            "CO15: 1\n",
            "CO15LB: 2\n",
            "Customer: 3\n",
            "Fuse: 4\n",
            "Fuse CO15: 5\n",
            "OCB: 6\n",
            "R-OVR-1PT: 7\n",
            "R100-4E: 8\n",
            "R100E: 9\n",
            "Recloser: 10\n",
            "SECT200NLB: 11\n",
            "Sectionalizer: 12\n",
            "Service Restorer: 13\n",
            "Switch: 14\n"
          ]
        }
      ],
      "source": [
        "# Print out the labels with their corresponding encoded values\n",
        "label_mapping = dict(zip(le_cause.classes_, le_cause.transform(le_cause.classes_)))\n",
        "print(\"Label Mapping:\")\n",
        "for label, encoded_value in label_mapping.items():\n",
        "    print(f\"{label}: {encoded_value}\")\n",
        "\n",
        "print()\n",
        "\n",
        "# Print out the labels with their corresponding encoded values\n",
        "label_mapping = dict(zip(le_isolation.classes_, le_isolation.transform(le_isolation.classes_)))\n",
        "print(\"Label Mapping:\")\n",
        "for label, encoded_value in label_mapping.items():\n",
        "    print(f\"{label}: {encoded_value}\")"
      ]
    },
    {
      "cell_type": "code",
      "execution_count": 105,
      "metadata": {
        "colab": {
          "base_uri": "https://localhost:8080/",
          "height": 206
        },
        "id": "ynKkUmJPm_QK",
        "outputId": "9b0cbbec-12c0-420e-d76a-305a88dd500e"
      },
      "outputs": [
        {
          "data": {
            "text/html": [
              "<div>\n",
              "<style scoped>\n",
              "    .dataframe tbody tr th:only-of-type {\n",
              "        vertical-align: middle;\n",
              "    }\n",
              "\n",
              "    .dataframe tbody tr th {\n",
              "        vertical-align: top;\n",
              "    }\n",
              "\n",
              "    .dataframe thead th {\n",
              "        text-align: right;\n",
              "    }\n",
              "</style>\n",
              "<table border=\"1\" class=\"dataframe\">\n",
              "  <thead>\n",
              "    <tr style=\"text-align: right;\">\n",
              "      <th></th>\n",
              "      <th>id</th>\n",
              "      <th>SiteName</th>\n",
              "      <th>FeederId</th>\n",
              "      <th>EventId</th>\n",
              "      <th>Phase</th>\n",
              "      <th>First Event</th>\n",
              "      <th>Last Event</th>\n",
              "      <th>Cause</th>\n",
              "      <th>Weather</th>\n",
              "      <th>Isolation Equipment Code</th>\n",
              "      <th>Failed Equipment Code</th>\n",
              "      <th>Details</th>\n",
              "      <th>label</th>\n",
              "      <th>text_cleaned</th>\n",
              "      <th>cause_label</th>\n",
              "      <th>isolation_label</th>\n",
              "    </tr>\n",
              "  </thead>\n",
              "  <tbody>\n",
              "    <tr>\n",
              "      <th>0</th>\n",
              "      <td>1</td>\n",
              "      <td>Site0006</td>\n",
              "      <td>F_0000041</td>\n",
              "      <td>3042</td>\n",
              "      <td>4</td>\n",
              "      <td>39:06.0</td>\n",
              "      <td>39:06.0</td>\n",
              "      <td>Equipment</td>\n",
              "      <td>Unknown</td>\n",
              "      <td>Fuse</td>\n",
              "      <td>Other</td>\n",
              "      <td>equipment device ug damaged</td>\n",
              "      <td>2</td>\n",
              "      <td>equipment device ug damaged</td>\n",
              "      <td>2</td>\n",
              "      <td>4</td>\n",
              "    </tr>\n",
              "    <tr>\n",
              "      <th>1</th>\n",
              "      <td>2</td>\n",
              "      <td>Site0012</td>\n",
              "      <td>F_0000037</td>\n",
              "      <td>3048</td>\n",
              "      <td>3</td>\n",
              "      <td>29:36.0</td>\n",
              "      <td>29:51.0</td>\n",
              "      <td>Equipment</td>\n",
              "      <td>Unknown</td>\n",
              "      <td>Breaker</td>\n",
              "      <td>Capacitor</td>\n",
              "      <td>equipment capacitor station damaged</td>\n",
              "      <td>2</td>\n",
              "      <td>equipment capacitor station damaged</td>\n",
              "      <td>2</td>\n",
              "      <td>0</td>\n",
              "    </tr>\n",
              "    <tr>\n",
              "      <th>2</th>\n",
              "      <td>3</td>\n",
              "      <td>Site0006</td>\n",
              "      <td>F_0000041</td>\n",
              "      <td>3067</td>\n",
              "      <td>2</td>\n",
              "      <td>10:46.0</td>\n",
              "      <td>10:46.0</td>\n",
              "      <td>Weather</td>\n",
              "      <td>Wind</td>\n",
              "      <td>Breaker</td>\n",
              "      <td>No Damage</td>\n",
              "      <td>undetermined wind  weather related</td>\n",
              "      <td>8</td>\n",
              "      <td>undetermined wind  weather related</td>\n",
              "      <td>8</td>\n",
              "      <td>0</td>\n",
              "    </tr>\n",
              "    <tr>\n",
              "      <th>3</th>\n",
              "      <td>4</td>\n",
              "      <td>Site0012</td>\n",
              "      <td>F_0000037</td>\n",
              "      <td>3127</td>\n",
              "      <td>2</td>\n",
              "      <td>33:30.0</td>\n",
              "      <td>33:30.0</td>\n",
              "      <td>Equipment</td>\n",
              "      <td>Unknown</td>\n",
              "      <td>Fuse</td>\n",
              "      <td>Transformer</td>\n",
              "      <td>equipment transformer ug damaged</td>\n",
              "      <td>2</td>\n",
              "      <td>equipment transformer ug damaged</td>\n",
              "      <td>2</td>\n",
              "      <td>4</td>\n",
              "    </tr>\n",
              "    <tr>\n",
              "      <th>4</th>\n",
              "      <td>6</td>\n",
              "      <td>Site0006</td>\n",
              "      <td>F_0000041</td>\n",
              "      <td>3152</td>\n",
              "      <td>2</td>\n",
              "      <td>39:58.0</td>\n",
              "      <td>39:58.0</td>\n",
              "      <td>Equipment</td>\n",
              "      <td>Unknown</td>\n",
              "      <td>Fuse</td>\n",
              "      <td>Transformer</td>\n",
              "      <td>equipment transformer ug damaged</td>\n",
              "      <td>2</td>\n",
              "      <td>equipment transformer ug damaged</td>\n",
              "      <td>2</td>\n",
              "      <td>4</td>\n",
              "    </tr>\n",
              "    <tr>\n",
              "      <th>5</th>\n",
              "      <td>7</td>\n",
              "      <td>Site0006</td>\n",
              "      <td>F_0000039</td>\n",
              "      <td>3153</td>\n",
              "      <td>6</td>\n",
              "      <td>46:21.0</td>\n",
              "      <td>46:21.0</td>\n",
              "      <td>Vehicle</td>\n",
              "      <td>Unknown</td>\n",
              "      <td>Fuse</td>\n",
              "      <td>Pole</td>\n",
              "      <td>motor vehicle pole oh down</td>\n",
              "      <td>7</td>\n",
              "      <td>motor vehicle pole oh down</td>\n",
              "      <td>7</td>\n",
              "      <td>4</td>\n",
              "    </tr>\n",
              "    <tr>\n",
              "      <th>6</th>\n",
              "      <td>8</td>\n",
              "      <td>Site0012</td>\n",
              "      <td>F_0000037</td>\n",
              "      <td>3162</td>\n",
              "      <td>7</td>\n",
              "      <td>24:53.0</td>\n",
              "      <td>25:33.0</td>\n",
              "      <td>Vehicle</td>\n",
              "      <td>Unknown</td>\n",
              "      <td>Breaker</td>\n",
              "      <td>Pole</td>\n",
              "      <td>motor vehicle pole oh contact</td>\n",
              "      <td>7</td>\n",
              "      <td>motor vehicle pole oh contact</td>\n",
              "      <td>7</td>\n",
              "      <td>0</td>\n",
              "    </tr>\n",
              "    <tr>\n",
              "      <th>7</th>\n",
              "      <td>9</td>\n",
              "      <td>Site0012</td>\n",
              "      <td>F_0000037</td>\n",
              "      <td>3163</td>\n",
              "      <td>7</td>\n",
              "      <td>24:53.0</td>\n",
              "      <td>25:33.0</td>\n",
              "      <td>Vehicle</td>\n",
              "      <td>Unknown</td>\n",
              "      <td>Breaker</td>\n",
              "      <td>Pole</td>\n",
              "      <td>motor vehicle pole oh contact</td>\n",
              "      <td>7</td>\n",
              "      <td>motor vehicle pole oh contact</td>\n",
              "      <td>7</td>\n",
              "      <td>0</td>\n",
              "    </tr>\n",
              "    <tr>\n",
              "      <th>8</th>\n",
              "      <td>10</td>\n",
              "      <td>Site0012</td>\n",
              "      <td>F_0000037</td>\n",
              "      <td>3164</td>\n",
              "      <td>7</td>\n",
              "      <td>24:53.0</td>\n",
              "      <td>25:33.0</td>\n",
              "      <td>Vehicle</td>\n",
              "      <td>Unknown</td>\n",
              "      <td>Breaker</td>\n",
              "      <td>Pole</td>\n",
              "      <td>motor vehicle pole oh contact</td>\n",
              "      <td>7</td>\n",
              "      <td>motor vehicle pole oh contact</td>\n",
              "      <td>7</td>\n",
              "      <td>0</td>\n",
              "    </tr>\n",
              "    <tr>\n",
              "      <th>9</th>\n",
              "      <td>12</td>\n",
              "      <td>Site0012</td>\n",
              "      <td>F_0000037</td>\n",
              "      <td>3166</td>\n",
              "      <td>7</td>\n",
              "      <td>24:53.0</td>\n",
              "      <td>25:33.0</td>\n",
              "      <td>Vehicle</td>\n",
              "      <td>Unknown</td>\n",
              "      <td>Breaker</td>\n",
              "      <td>Pole</td>\n",
              "      <td>motor vehicle pole oh contact</td>\n",
              "      <td>7</td>\n",
              "      <td>motor vehicle pole oh contact</td>\n",
              "      <td>7</td>\n",
              "      <td>0</td>\n",
              "    </tr>\n",
              "    <tr>\n",
              "      <th>10</th>\n",
              "      <td>13</td>\n",
              "      <td>Site0012</td>\n",
              "      <td>F_0000037</td>\n",
              "      <td>3168</td>\n",
              "      <td>7</td>\n",
              "      <td>24:53.0</td>\n",
              "      <td>25:33.0</td>\n",
              "      <td>Vehicle</td>\n",
              "      <td>Unknown</td>\n",
              "      <td>Breaker</td>\n",
              "      <td>Pole</td>\n",
              "      <td>motor vehicle pole oh contact</td>\n",
              "      <td>7</td>\n",
              "      <td>motor vehicle pole oh contact</td>\n",
              "      <td>7</td>\n",
              "      <td>0</td>\n",
              "    </tr>\n",
              "    <tr>\n",
              "      <th>11</th>\n",
              "      <td>14</td>\n",
              "      <td>Site0012</td>\n",
              "      <td>F_0000037</td>\n",
              "      <td>3186</td>\n",
              "      <td>7</td>\n",
              "      <td>25:46.0</td>\n",
              "      <td>26:05.0</td>\n",
              "      <td>Vehicle</td>\n",
              "      <td>Unknown</td>\n",
              "      <td>Sectionalizer</td>\n",
              "      <td>Pole</td>\n",
              "      <td>motor vehicle pole oh damaged</td>\n",
              "      <td>7</td>\n",
              "      <td>motor vehicle pole oh damaged</td>\n",
              "      <td>7</td>\n",
              "      <td>12</td>\n",
              "    </tr>\n",
              "    <tr>\n",
              "      <th>12</th>\n",
              "      <td>15</td>\n",
              "      <td>Site0012</td>\n",
              "      <td>F_0000037</td>\n",
              "      <td>3187</td>\n",
              "      <td>7</td>\n",
              "      <td>25:46.0</td>\n",
              "      <td>26:05.0</td>\n",
              "      <td>Vehicle</td>\n",
              "      <td>Unknown</td>\n",
              "      <td>Sectionalizer</td>\n",
              "      <td>Pole</td>\n",
              "      <td>motor vehicle pole oh damaged</td>\n",
              "      <td>7</td>\n",
              "      <td>motor vehicle pole oh damaged</td>\n",
              "      <td>7</td>\n",
              "      <td>12</td>\n",
              "    </tr>\n",
              "    <tr>\n",
              "      <th>13</th>\n",
              "      <td>16</td>\n",
              "      <td>Site0012</td>\n",
              "      <td>F_0000037</td>\n",
              "      <td>3188</td>\n",
              "      <td>7</td>\n",
              "      <td>25:46.0</td>\n",
              "      <td>26:05.0</td>\n",
              "      <td>Vehicle</td>\n",
              "      <td>Unknown</td>\n",
              "      <td>Sectionalizer</td>\n",
              "      <td>Pole</td>\n",
              "      <td>motor vehicle pole oh damaged</td>\n",
              "      <td>7</td>\n",
              "      <td>motor vehicle pole oh damaged</td>\n",
              "      <td>7</td>\n",
              "      <td>12</td>\n",
              "    </tr>\n",
              "    <tr>\n",
              "      <th>14</th>\n",
              "      <td>17</td>\n",
              "      <td>Site0012</td>\n",
              "      <td>F_0000037</td>\n",
              "      <td>3189</td>\n",
              "      <td>7</td>\n",
              "      <td>25:46.0</td>\n",
              "      <td>26:05.0</td>\n",
              "      <td>Vehicle</td>\n",
              "      <td>Unknown</td>\n",
              "      <td>Sectionalizer</td>\n",
              "      <td>Pole</td>\n",
              "      <td>motor vehicle pole oh damaged</td>\n",
              "      <td>7</td>\n",
              "      <td>motor vehicle pole oh damaged</td>\n",
              "      <td>7</td>\n",
              "      <td>12</td>\n",
              "    </tr>\n",
              "    <tr>\n",
              "      <th>16</th>\n",
              "      <td>23</td>\n",
              "      <td>Site0006</td>\n",
              "      <td>F_0000041</td>\n",
              "      <td>3296</td>\n",
              "      <td>2</td>\n",
              "      <td>32:24.0</td>\n",
              "      <td>32:24.0</td>\n",
              "      <td>Equipment</td>\n",
              "      <td>Unknown</td>\n",
              "      <td>Fuse</td>\n",
              "      <td>Cable</td>\n",
              "      <td>equipment cable ug damaged dig in</td>\n",
              "      <td>2</td>\n",
              "      <td>equipment cable ug damaged dig in</td>\n",
              "      <td>2</td>\n",
              "      <td>4</td>\n",
              "    </tr>\n",
              "    <tr>\n",
              "      <th>17</th>\n",
              "      <td>25</td>\n",
              "      <td>Site0006</td>\n",
              "      <td>F_0000041</td>\n",
              "      <td>3298</td>\n",
              "      <td>2</td>\n",
              "      <td>35:38.0</td>\n",
              "      <td>36:04.0</td>\n",
              "      <td>Equipment</td>\n",
              "      <td>Unknown</td>\n",
              "      <td>Fuse</td>\n",
              "      <td>Cable</td>\n",
              "      <td>equipment cable ug damaged</td>\n",
              "      <td>2</td>\n",
              "      <td>equipment cable ug damaged</td>\n",
              "      <td>2</td>\n",
              "      <td>4</td>\n",
              "    </tr>\n",
              "    <tr>\n",
              "      <th>20</th>\n",
              "      <td>28</td>\n",
              "      <td>Site0006</td>\n",
              "      <td>F_0000041</td>\n",
              "      <td>3403</td>\n",
              "      <td>1</td>\n",
              "      <td>31:31.3</td>\n",
              "      <td>31:37.1</td>\n",
              "      <td>Equipment</td>\n",
              "      <td>Unknown</td>\n",
              "      <td>Fuse</td>\n",
              "      <td>Cable</td>\n",
              "      <td>equipment cable ug digin</td>\n",
              "      <td>2</td>\n",
              "      <td>equipment cable ug digin</td>\n",
              "      <td>2</td>\n",
              "      <td>4</td>\n",
              "    </tr>\n",
              "    <tr>\n",
              "      <th>21</th>\n",
              "      <td>29</td>\n",
              "      <td>Site0006</td>\n",
              "      <td>F_0000041</td>\n",
              "      <td>3404</td>\n",
              "      <td>2</td>\n",
              "      <td>31:31.3</td>\n",
              "      <td>31:37.1</td>\n",
              "      <td>Equipment</td>\n",
              "      <td>Unknown</td>\n",
              "      <td>Fuse</td>\n",
              "      <td>Cable</td>\n",
              "      <td>equipment cable ug digin</td>\n",
              "      <td>2</td>\n",
              "      <td>equipment cable ug digin</td>\n",
              "      <td>2</td>\n",
              "      <td>4</td>\n",
              "    </tr>\n",
              "    <tr>\n",
              "      <th>30</th>\n",
              "      <td>38</td>\n",
              "      <td>Site0005</td>\n",
              "      <td>F_0000003</td>\n",
              "      <td>3433</td>\n",
              "      <td>7</td>\n",
              "      <td>19:12.0</td>\n",
              "      <td>19:12.0</td>\n",
              "      <td>Vehicle</td>\n",
              "      <td>Unknown</td>\n",
              "      <td>Fuse</td>\n",
              "      <td>Pole</td>\n",
              "      <td>motor vehicle pole oh damaged</td>\n",
              "      <td>7</td>\n",
              "      <td>motor vehicle pole oh damaged</td>\n",
              "      <td>7</td>\n",
              "      <td>4</td>\n",
              "    </tr>\n",
              "  </tbody>\n",
              "</table>\n",
              "</div>"
            ],
            "text/plain": [
              "    id  SiteName   FeederId  EventId  Phase First Event Last Event      Cause  \\\n",
              "0    1  Site0006  F_0000041     3042      4     39:06.0    39:06.0  Equipment   \n",
              "1    2  Site0012  F_0000037     3048      3     29:36.0    29:51.0  Equipment   \n",
              "2    3  Site0006  F_0000041     3067      2     10:46.0    10:46.0    Weather   \n",
              "3    4  Site0012  F_0000037     3127      2     33:30.0    33:30.0  Equipment   \n",
              "4    6  Site0006  F_0000041     3152      2     39:58.0    39:58.0  Equipment   \n",
              "5    7  Site0006  F_0000039     3153      6     46:21.0    46:21.0    Vehicle   \n",
              "6    8  Site0012  F_0000037     3162      7     24:53.0    25:33.0    Vehicle   \n",
              "7    9  Site0012  F_0000037     3163      7     24:53.0    25:33.0    Vehicle   \n",
              "8   10  Site0012  F_0000037     3164      7     24:53.0    25:33.0    Vehicle   \n",
              "9   12  Site0012  F_0000037     3166      7     24:53.0    25:33.0    Vehicle   \n",
              "10  13  Site0012  F_0000037     3168      7     24:53.0    25:33.0    Vehicle   \n",
              "11  14  Site0012  F_0000037     3186      7     25:46.0    26:05.0    Vehicle   \n",
              "12  15  Site0012  F_0000037     3187      7     25:46.0    26:05.0    Vehicle   \n",
              "13  16  Site0012  F_0000037     3188      7     25:46.0    26:05.0    Vehicle   \n",
              "14  17  Site0012  F_0000037     3189      7     25:46.0    26:05.0    Vehicle   \n",
              "16  23  Site0006  F_0000041     3296      2     32:24.0    32:24.0  Equipment   \n",
              "17  25  Site0006  F_0000041     3298      2     35:38.0    36:04.0  Equipment   \n",
              "20  28  Site0006  F_0000041     3403      1     31:31.3    31:37.1  Equipment   \n",
              "21  29  Site0006  F_0000041     3404      2     31:31.3    31:37.1  Equipment   \n",
              "30  38  Site0005  F_0000003     3433      7     19:12.0    19:12.0    Vehicle   \n",
              "\n",
              "    Weather Isolation Equipment Code Failed Equipment Code  \\\n",
              "0   Unknown                     Fuse                 Other   \n",
              "1   Unknown                  Breaker             Capacitor   \n",
              "2      Wind                  Breaker             No Damage   \n",
              "3   Unknown                     Fuse           Transformer   \n",
              "4   Unknown                     Fuse           Transformer   \n",
              "5   Unknown                     Fuse                  Pole   \n",
              "6   Unknown                  Breaker                  Pole   \n",
              "7   Unknown                  Breaker                  Pole   \n",
              "8   Unknown                  Breaker                  Pole   \n",
              "9   Unknown                  Breaker                  Pole   \n",
              "10  Unknown                  Breaker                  Pole   \n",
              "11  Unknown            Sectionalizer                  Pole   \n",
              "12  Unknown            Sectionalizer                  Pole   \n",
              "13  Unknown            Sectionalizer                  Pole   \n",
              "14  Unknown            Sectionalizer                  Pole   \n",
              "16  Unknown                     Fuse                 Cable   \n",
              "17  Unknown                     Fuse                 Cable   \n",
              "20  Unknown                     Fuse                 Cable   \n",
              "21  Unknown                     Fuse                 Cable   \n",
              "30  Unknown                     Fuse                  Pole   \n",
              "\n",
              "                                Details  label  \\\n",
              "0           equipment device ug damaged      2   \n",
              "1   equipment capacitor station damaged      2   \n",
              "2    undetermined wind  weather related      8   \n",
              "3      equipment transformer ug damaged      2   \n",
              "4      equipment transformer ug damaged      2   \n",
              "5            motor vehicle pole oh down      7   \n",
              "6         motor vehicle pole oh contact      7   \n",
              "7         motor vehicle pole oh contact      7   \n",
              "8         motor vehicle pole oh contact      7   \n",
              "9         motor vehicle pole oh contact      7   \n",
              "10        motor vehicle pole oh contact      7   \n",
              "11        motor vehicle pole oh damaged      7   \n",
              "12        motor vehicle pole oh damaged      7   \n",
              "13        motor vehicle pole oh damaged      7   \n",
              "14        motor vehicle pole oh damaged      7   \n",
              "16    equipment cable ug damaged dig in      2   \n",
              "17           equipment cable ug damaged      2   \n",
              "20             equipment cable ug digin      2   \n",
              "21             equipment cable ug digin      2   \n",
              "30        motor vehicle pole oh damaged      7   \n",
              "\n",
              "                           text_cleaned  cause_label  isolation_label  \n",
              "0           equipment device ug damaged            2                4  \n",
              "1   equipment capacitor station damaged            2                0  \n",
              "2    undetermined wind  weather related            8                0  \n",
              "3      equipment transformer ug damaged            2                4  \n",
              "4      equipment transformer ug damaged            2                4  \n",
              "5            motor vehicle pole oh down            7                4  \n",
              "6         motor vehicle pole oh contact            7                0  \n",
              "7         motor vehicle pole oh contact            7                0  \n",
              "8         motor vehicle pole oh contact            7                0  \n",
              "9         motor vehicle pole oh contact            7                0  \n",
              "10        motor vehicle pole oh contact            7                0  \n",
              "11        motor vehicle pole oh damaged            7               12  \n",
              "12        motor vehicle pole oh damaged            7               12  \n",
              "13        motor vehicle pole oh damaged            7               12  \n",
              "14        motor vehicle pole oh damaged            7               12  \n",
              "16    equipment cable ug damaged dig in            2                4  \n",
              "17           equipment cable ug damaged            2                4  \n",
              "20             equipment cable ug digin            2                4  \n",
              "21             equipment cable ug digin            2                4  \n",
              "30        motor vehicle pole oh damaged            7                4  "
            ]
          },
          "execution_count": 105,
          "metadata": {},
          "output_type": "execute_result"
        }
      ],
      "source": [
        "df.head(20)"
      ]
    },
    {
      "cell_type": "code",
      "execution_count": 106,
      "metadata": {},
      "outputs": [],
      "source": [
        "df['text_cleaned'] = df[text_column_name]"
      ]
    },
    {
      "cell_type": "code",
      "execution_count": 107,
      "metadata": {},
      "outputs": [
        {
          "name": "stdout",
          "output_type": "stream",
          "text": [
            "Cause\n",
            "Equipment    73\n",
            "Tree         39\n",
            "Vehicle      23\n",
            "Lightning    21\n",
            "Animal        7\n",
            "Customer      6\n",
            "Other         4\n",
            "Weather       3\n",
            "Planned       2\n",
            "Name: count, dtype: int64\n",
            "\n",
            "Isolation Equipment Code\n",
            "Breaker             76\n",
            "Fuse                19\n",
            "Sectionalizer       15\n",
            "Recloser            13\n",
            "R100-4E             13\n",
            "CO15                12\n",
            "CO15LB               7\n",
            "R-OVR-1PT            6\n",
            "Customer             5\n",
            "Switch               4\n",
            "SECT200NLB           4\n",
            "Service Restorer     1\n",
            "Fuse CO15            1\n",
            "OCB                  1\n",
            "R100E                1\n",
            "Name: count, dtype: int64\n"
          ]
        }
      ],
      "source": [
        "# Assuming df is your DataFrame and label_column_name is the name of the column containing the labels\n",
        "label_column_name1 = \"Cause\"  # Replace with your actual column name\n",
        "label_column_name2 = \"Isolation Equipment Code\"  # Replace with your actual column name\n",
        "\n",
        "# Count the number of data points for each cause\n",
        "cause_counts = df[label_column_name1].value_counts()\n",
        "code_counts = df[label_column_name2].value_counts()\n",
        "\n",
        "# Print the counts\n",
        "print(cause_counts)\n",
        "print()\n",
        "print(code_counts)"
      ]
    },
    {
      "cell_type": "markdown",
      "metadata": {
        "id": "5ZNeKpd-nn9Q"
      },
      "source": [
        "### Train/Test Split"
      ]
    },
    {
      "cell_type": "code",
      "execution_count": 108,
      "metadata": {
        "id": "_jkZmwCDs9t9"
      },
      "outputs": [],
      "source": [
        "from sklearn.model_selection import train_test_split"
      ]
    },
    {
      "cell_type": "code",
      "execution_count": 109,
      "metadata": {
        "id": "uKluSPhCfOj6"
      },
      "outputs": [],
      "source": [
        "df_train,df_test = train_test_split(df,test_size=test_size)"
      ]
    },
    {
      "cell_type": "markdown",
      "metadata": {
        "id": "L1JyZmufFzl1"
      },
      "source": [
        "### Convert to Huggingface Dataset"
      ]
    },
    {
      "cell_type": "code",
      "execution_count": 110,
      "metadata": {
        "id": "WXtRtb-6tG2Y"
      },
      "outputs": [],
      "source": [
        "from datasets import Dataset"
      ]
    },
    {
      "cell_type": "code",
      "execution_count": 111,
      "metadata": {
        "id": "tG9-ZMjTd7p0"
      },
      "outputs": [],
      "source": [
        "train_dataset = Dataset.from_dict({\n",
        "    'text': df_train['text_cleaned'],\n",
        "    'cause_label': df_train['cause_label'],\n",
        "    'isolation_label': df_train['isolation_label']\n",
        "})\n",
        "\n",
        "test_dataset = Dataset.from_dict({\n",
        "    'text': df_test['text_cleaned'], \n",
        "    'cause_label': df_test['cause_label'],\n",
        "    'isolation_label': df_test['isolation_label']\n",
        "})"
      ]
    },
    {
      "cell_type": "markdown",
      "metadata": {
        "id": "zyEUYtjVF6Pz"
      },
      "source": [
        "### Tokenizer"
      ]
    },
    {
      "cell_type": "code",
      "execution_count": 112,
      "metadata": {
        "id": "E31UUF53svVw"
      },
      "outputs": [],
      "source": [
        "from transformers import AutoTokenizer"
      ]
    },
    {
      "cell_type": "code",
      "execution_count": 113,
      "metadata": {
        "id": "bBkVtFI6cQXO"
      },
      "outputs": [],
      "source": [
        "tokenizer = AutoTokenizer.from_pretrained(model_name)\n",
        "\n",
        "def preprocess_function_cause(examples):\n",
        "    tokenized = tokenizer(examples[\"text\"], truncation=True, padding=True)\n",
        "    tokenized[\"labels\"] = examples[\"cause_label\"]  # Changed from cause_label to labels\n",
        "    return tokenized\n",
        "\n",
        "def preprocess_function_isolation(examples):\n",
        "    tokenized = tokenizer(examples[\"text\"], truncation=True, padding=True)\n",
        "    tokenized[\"labels\"] = examples[\"isolation_label\"]  # Changed from isolation_label to labels\n",
        "    return tokenized\n"
      ]
    },
    {
      "cell_type": "code",
      "execution_count": 114,
      "metadata": {
        "colab": {
          "base_uri": "https://localhost:8080/",
          "height": 49,
          "referenced_widgets": [
            "5d25773c687b4b4ab69e1c10c8fa89b0",
            "498012cbf13349eb9f4d166b4874df05",
            "f8a32737b8964837a2f5226174847726",
            "dabc5d9de971483f8fd051e9b2b6bce8",
            "237f962b863645b8bcb2e62437c82c5c",
            "a6512cbd14e14c0ebff3521058523a85",
            "b768d60049934053bd862ed8fafcc283",
            "7cf440d3ff2345e5b2d6742221742fe5",
            "d5cbfebcf7a94e43bc81e4d1cdb8e7a5",
            "af7f39e0956741b6b6f807580b58b54d",
            "9aa1a30d899344949dd1a1ab49d7a489"
          ]
        },
        "id": "TphCc-8ln8ft",
        "outputId": "836d3c31-f2db-4d1c-9ed9-86cb5a49f162"
      },
      "outputs": [
        {
          "name": "stderr",
          "output_type": "stream",
          "text": [
            "Map: 100%|██████████| 142/142 [00:00<00:00, 12839.89 examples/s]\n",
            "Map: 100%|██████████| 36/36 [00:00<?, ? examples/s]\n"
          ]
        },
        {
          "name": "stderr",
          "output_type": "stream",
          "text": [
            "Map: 100%|██████████| 142/142 [00:00<00:00, 14175.00 examples/s]\n",
            "Map: 100%|██████████| 36/36 [00:00<00:00, 6359.29 examples/s]\n"
          ]
        }
      ],
      "source": [
        "tokenized_train_cause = train_dataset.map(\n",
        "    preprocess_function_cause,\n",
        "    batched=True,\n",
        "    remove_columns=train_dataset.column_names\n",
        ")\n",
        "\n",
        "tokenized_test_cause = test_dataset.map(\n",
        "    preprocess_function_cause,\n",
        "    batched=True,\n",
        "    remove_columns=test_dataset.column_names\n",
        ")\n",
        "\n",
        "tokenized_train_isolation = train_dataset.map(\n",
        "    preprocess_function_isolation,\n",
        "    batched=True,\n",
        "    remove_columns=train_dataset.column_names\n",
        ")\n",
        "\n",
        "tokenized_test_isolation = test_dataset.map(\n",
        "    preprocess_function_isolation,\n",
        "    batched=True,\n",
        "    remove_columns=test_dataset.column_names\n",
        ")"
      ]
    },
    {
      "cell_type": "code",
      "execution_count": 115,
      "metadata": {
        "id": "o-XKHYRmkUxJ"
      },
      "outputs": [
        {
          "name": "stdout",
          "output_type": "stream",
          "text": [
            "Number of unique labels: 9\n"
          ]
        }
      ],
      "source": [
        "import pandas as pd\n",
        "\n",
        "# Assuming df is your DataFrame and label_column_name is the name of the column containing the labels\n",
        "num_labels = df[label_column_name].nunique()\n",
        "print(f\"Number of unique labels: {num_labels}\")"
      ]
    },
    {
      "cell_type": "markdown",
      "metadata": {
        "id": "Mi0rbO65GA0J"
      },
      "source": [
        "# 3. Initialize Model"
      ]
    },
    {
      "cell_type": "code",
      "execution_count": 116,
      "metadata": {
        "id": "oEDGToKksr88"
      },
      "outputs": [],
      "source": [
        "from transformers import AutoModelForSequenceClassification"
      ]
    },
    {
      "cell_type": "code",
      "execution_count": 117,
      "metadata": {
        "colab": {
          "base_uri": "https://localhost:8080/"
        },
        "id": "PHe02h-2iJXa",
        "outputId": "ecca279c-09ca-4322-8798-1faea2d7bd55"
      },
      "outputs": [
        {
          "name": "stderr",
          "output_type": "stream",
          "text": [
            "Some weights of DistilBertForSequenceClassification were not initialized from the model checkpoint at distilbert-base-uncased and are newly initialized: ['classifier.bias', 'classifier.weight', 'pre_classifier.bias', 'pre_classifier.weight']\n",
            "You should probably TRAIN this model on a down-stream task to be able to use it for predictions and inference.\n"
          ]
        }
      ],
      "source": [
        "# Create separate models for cause and isolation\n",
        "cause_model = AutoModelForSequenceClassification.from_pretrained(\n",
        "    model_name, \n",
        "    num_labels=len(le_cause.classes_)\n",
        ")\n",
        "\n",
        "isolation_model = AutoModelForSequenceClassification.from_pretrained(\n",
        "    \"distilbert-base-uncased\",  # Use base model instead of saved checkpoint\n",
        "    num_labels=len(le_isolation.classes_)\n",
        ")"
      ]
    },
    {
      "cell_type": "markdown",
      "metadata": {
        "id": "u2HA56SgiX7F"
      },
      "source": [
        "# 4. Train model"
      ]
    },
    {
      "cell_type": "code",
      "execution_count": 118,
      "metadata": {
        "id": "fCASZfttsyy0"
      },
      "outputs": [],
      "source": [
        "from transformers import DataCollatorWithPadding\n",
        "from transformers import TrainingArguments, Trainer\n",
        "import evaluate\n",
        "import numpy as np"
      ]
    },
    {
      "cell_type": "code",
      "execution_count": 119,
      "metadata": {
        "id": "wMyay2U3iJZ7"
      },
      "outputs": [],
      "source": [
        "data_collator = DataCollatorWithPadding(tokenizer=tokenizer)"
      ]
    },
    {
      "cell_type": "code",
      "execution_count": 120,
      "metadata": {
        "id": "TSOJ9Z_4YrMc"
      },
      "outputs": [],
      "source": [
        "metric = evaluate.load(\"accuracy\")\n",
        "\n",
        "def compute_metrics(eval_pred):\n",
        "    logits, labels = eval_pred\n",
        "    # Split logits and labels for each task\n",
        "    cause_logits, isolation_logits = logits\n",
        "    cause_labels, isolation_labels = labels\n",
        "    \n",
        "    # Calculate predictions\n",
        "    cause_predictions = np.argmax(cause_logits, axis=-1)\n",
        "    isolation_predictions = np.argmax(isolation_logits, axis=-1)\n",
        "    \n",
        "    # Calculate metrics for both tasks\n",
        "    return {\n",
        "        'cause_accuracy': metric.compute(predictions=cause_predictions, references=cause_labels)['accuracy'],\n",
        "        'isolation_accuracy': metric.compute(predictions=isolation_predictions, references=isolation_labels)['accuracy']\n",
        "    }"
      ]
    },
    {
      "cell_type": "code",
      "execution_count": 123,
      "metadata": {
        "id": "UNs2yNXei6oO"
      },
      "outputs": [
        {
          "name": "stderr",
          "output_type": "stream",
          "text": [
            "C:\\Users\\rmathew2020\\AppData\\Local\\Temp\\ipykernel_14376\\3199184418.py:15: FutureWarning: `tokenizer` is deprecated and will be removed in version 5.0.0 for `Trainer.__init__`. Use `processing_class` instead.\n",
            "  cause_trainer = Trainer(\n",
            "C:\\Users\\rmathew2020\\AppData\\Local\\Temp\\ipykernel_14376\\3199184418.py:25: FutureWarning: `tokenizer` is deprecated and will be removed in version 5.0.0 for `Trainer.__init__`. Use `processing_class` instead.\n",
            "  isolation_trainer = Trainer(\n"
          ]
        }
      ],
      "source": [
        "\n",
        "from transformers import TrainingArguments, Trainer\n",
        "\n",
        "training_args = TrainingArguments(\n",
        "    output_dir=\"./results\",\n",
        "    learning_rate=2e-4,\n",
        "    per_device_train_batch_size=8,\n",
        "    per_device_eval_batch_size=8,\n",
        "    num_train_epochs=100,\n",
        "    weight_decay=0.01,\n",
        "    evaluation_strategy=\"epoch\",\n",
        "    logging_strategy=\"epoch\"\n",
        "    # Removed label_names as it's not needed\n",
        ")\n",
        "\n",
        "cause_trainer = Trainer(\n",
        "    model=cause_model,\n",
        "    args=training_args,\n",
        "    train_dataset=tokenized_train_cause,  # Changed from tokenized_train\n",
        "    eval_dataset=tokenized_test_cause,    # Changed from tokenized_test\n",
        "    tokenizer=tokenizer,\n",
        "    data_collator=data_collator,\n",
        "    compute_metrics=lambda x: {'accuracy': metric.compute(predictions=np.argmax(x.predictions, axis=1), references=x.label_ids)['accuracy']}\n",
        ")\n",
        "\n",
        "isolation_trainer = Trainer(\n",
        "    model=isolation_model,\n",
        "    args=training_args,\n",
        "    train_dataset=tokenized_train_isolation,  # Changed from tokenized_train \n",
        "    eval_dataset=tokenized_test_isolation,    # Changed from tokenized_test\n",
        "    tokenizer=tokenizer,\n",
        "    data_collator=data_collator,\n",
        "    compute_metrics=lambda x: {'accuracy': metric.compute(predictions=np.argmax(x.predictions, axis=1), references=x.label_ids)['accuracy']}\n",
        ")\n"
      ]
    },
    {
      "cell_type": "code",
      "execution_count": 124,
      "metadata": {
        "colab": {
          "base_uri": "https://localhost:8080/",
          "height": 1000
        },
        "id": "emZZhxQiiZsH",
        "outputId": "4167e861-94ca-4904-fab7-06479814b518"
      },
      "outputs": [
        {
          "name": "stderr",
          "output_type": "stream",
          "text": [
            "  0%|          | 0/1800 [05:41<?, ?it/s]\n"
          ]
        },
        {
          "name": "stdout",
          "output_type": "stream",
          "text": [
            "Training Cause Model:\n"
          ]
        },
        {
          "name": "stderr",
          "output_type": "stream",
          "text": [
            "  1%|          | 18/1800 [00:11<17:54,  1.66it/s]\n",
            "  1%|          | 18/1800 [00:11<17:54,  1.66it/s]"
          ]
        },
        {
          "name": "stdout",
          "output_type": "stream",
          "text": [
            "{'loss': 0.1099, 'grad_norm': 0.0013521334622055292, 'learning_rate': 0.00019800000000000002, 'epoch': 1.0}\n"
          ]
        },
        {
          "name": "stderr",
          "output_type": "stream",
          "text": [
            "\n",
            "\u001b[A\n",
            "\u001b[A\n",
            "\u001b[A\n",
            "\n",
            "\u001b[A\u001b[A                                       \n",
            "                                                 \n",
            "  1%|          | 18/1800 [00:11<17:54,  1.66it/s]\n",
            "\u001b[A"
          ]
        },
        {
          "name": "stdout",
          "output_type": "stream",
          "text": [
            "{'eval_loss': 5.7811641454463825e-05, 'eval_accuracy': 1.0, 'eval_runtime': 0.411, 'eval_samples_per_second': 87.602, 'eval_steps_per_second': 12.167, 'epoch': 1.0}\n"
          ]
        },
        {
          "name": "stderr",
          "output_type": "stream",
          "text": [
            "  2%|▏         | 36/1800 [00:23<20:13,  1.45it/s]\n",
            "  2%|▏         | 36/1800 [00:23<20:13,  1.45it/s]"
          ]
        },
        {
          "name": "stdout",
          "output_type": "stream",
          "text": [
            "{'loss': 0.1221, 'grad_norm': 0.03399481624364853, 'learning_rate': 0.000196, 'epoch': 2.0}\n"
          ]
        },
        {
          "name": "stderr",
          "output_type": "stream",
          "text": [
            "\n",
            "\u001b[A\n",
            "\u001b[A\n",
            "\u001b[A\n",
            "                                                 \n",
            "\n",
            "  2%|▏         | 36/1800 [00:24<20:13,  1.45it/s]\n",
            "\u001b[A\n",
            "\u001b[A"
          ]
        },
        {
          "name": "stdout",
          "output_type": "stream",
          "text": [
            "{'eval_loss': 0.196052685379982, 'eval_accuracy': 0.9722222222222222, 'eval_runtime': 0.522, 'eval_samples_per_second': 68.967, 'eval_steps_per_second': 9.579, 'epoch': 2.0}\n"
          ]
        },
        {
          "name": "stderr",
          "output_type": "stream",
          "text": [
            "  3%|▎         | 54/1800 [00:35<18:05,  1.61it/s]\n",
            "  3%|▎         | 54/1800 [00:35<18:05,  1.61it/s]"
          ]
        },
        {
          "name": "stdout",
          "output_type": "stream",
          "text": [
            "{'loss': 0.0585, 'grad_norm': 53.559974670410156, 'learning_rate': 0.000194, 'epoch': 3.0}\n"
          ]
        },
        {
          "name": "stderr",
          "output_type": "stream",
          "text": [
            "\n",
            "\u001b[A\n",
            "\u001b[A\n",
            "\u001b[A\n",
            "                                                 \n",
            "\n",
            "  3%|▎         | 54/1800 [00:35<18:05,  1.61it/s]\n",
            "\u001b[A\n",
            "\u001b[A"
          ]
        },
        {
          "name": "stdout",
          "output_type": "stream",
          "text": [
            "{'eval_loss': 7.884099613875151e-05, 'eval_accuracy': 1.0, 'eval_runtime': 0.4219, 'eval_samples_per_second': 85.333, 'eval_steps_per_second': 11.852, 'epoch': 3.0}\n"
          ]
        },
        {
          "name": "stderr",
          "output_type": "stream",
          "text": [
            "  4%|▍         | 72/1800 [00:47<19:22,  1.49it/s]\n",
            "  4%|▍         | 72/1800 [00:47<19:22,  1.49it/s]"
          ]
        },
        {
          "name": "stdout",
          "output_type": "stream",
          "text": [
            "{'loss': 0.1307, 'grad_norm': 0.0026563669089227915, 'learning_rate': 0.000192, 'epoch': 4.0}\n"
          ]
        },
        {
          "name": "stderr",
          "output_type": "stream",
          "text": [
            "\n",
            "\u001b[A\n",
            "\u001b[A\n",
            "\u001b[A\n",
            "                                                 \n",
            "\n",
            "  4%|▍         | 72/1800 [00:47<19:22,  1.49it/s]\n",
            "\u001b[A\n",
            "\u001b[A"
          ]
        },
        {
          "name": "stdout",
          "output_type": "stream",
          "text": [
            "{'eval_loss': 0.005142631009221077, 'eval_accuracy': 1.0, 'eval_runtime': 0.4657, 'eval_samples_per_second': 77.298, 'eval_steps_per_second': 10.736, 'epoch': 4.0}\n"
          ]
        },
        {
          "name": "stderr",
          "output_type": "stream",
          "text": [
            "  5%|▌         | 90/1800 [01:02<22:19,  1.28it/s]\n",
            "  5%|▌         | 90/1800 [01:02<22:19,  1.28it/s]"
          ]
        },
        {
          "name": "stdout",
          "output_type": "stream",
          "text": [
            "{'loss': 0.2633, 'grad_norm': 0.24170008301734924, 'learning_rate': 0.00019, 'epoch': 5.0}\n"
          ]
        },
        {
          "name": "stderr",
          "output_type": "stream",
          "text": [
            "\n",
            "\u001b[A\n",
            "\u001b[A\n",
            "\u001b[A\n",
            "                                                 \n",
            "\n",
            "  5%|▌         | 90/1800 [01:03<22:19,  1.28it/s]\n",
            "\u001b[A\n",
            "\u001b[A"
          ]
        },
        {
          "name": "stdout",
          "output_type": "stream",
          "text": [
            "{'eval_loss': 0.006675666198134422, 'eval_accuracy': 1.0, 'eval_runtime': 0.5819, 'eval_samples_per_second': 61.863, 'eval_steps_per_second': 8.592, 'epoch': 5.0}\n"
          ]
        },
        {
          "name": "stderr",
          "output_type": "stream",
          "text": [
            "  6%|▌         | 108/1800 [01:16<19:42,  1.43it/s]\n",
            "  6%|▌         | 108/1800 [01:16<19:42,  1.43it/s]"
          ]
        },
        {
          "name": "stdout",
          "output_type": "stream",
          "text": [
            "{'loss': 0.0864, 'grad_norm': 1.0459975004196167, 'learning_rate': 0.000188, 'epoch': 6.0}\n"
          ]
        },
        {
          "name": "stderr",
          "output_type": "stream",
          "text": [
            "\n",
            "\u001b[A\n",
            "\u001b[A\n",
            "\u001b[A\n",
            "                                                  \n",
            "\n",
            "  6%|▌         | 108/1800 [01:16<19:42,  1.43it/s]\n",
            "\u001b[A\n",
            "\u001b[A"
          ]
        },
        {
          "name": "stdout",
          "output_type": "stream",
          "text": [
            "{'eval_loss': 0.0018996016588062048, 'eval_accuracy': 1.0, 'eval_runtime': 0.4808, 'eval_samples_per_second': 74.879, 'eval_steps_per_second': 10.4, 'epoch': 6.0}\n"
          ]
        },
        {
          "name": "stderr",
          "output_type": "stream",
          "text": [
            "  7%|▋         | 126/1800 [01:29<18:12,  1.53it/s]\n",
            "  7%|▋         | 126/1800 [01:29<18:12,  1.53it/s]"
          ]
        },
        {
          "name": "stdout",
          "output_type": "stream",
          "text": [
            "{'loss': 0.1061, 'grad_norm': 0.010090640746057034, 'learning_rate': 0.00018600000000000002, 'epoch': 7.0}\n"
          ]
        },
        {
          "name": "stderr",
          "output_type": "stream",
          "text": [
            "\n",
            "\u001b[A\n",
            "\u001b[A\n",
            "\u001b[A\n",
            "                                                  \n",
            "\n",
            "  7%|▋         | 126/1800 [01:29<18:12,  1.53it/s]\n",
            "\u001b[A\n",
            "\u001b[A"
          ]
        },
        {
          "name": "stdout",
          "output_type": "stream",
          "text": [
            "{'eval_loss': 1.8390634059906006, 'eval_accuracy': 0.8611111111111112, 'eval_runtime': 0.4552, 'eval_samples_per_second': 79.08, 'eval_steps_per_second': 10.983, 'epoch': 7.0}\n"
          ]
        },
        {
          "name": "stderr",
          "output_type": "stream",
          "text": [
            "  8%|▊         | 144/1800 [01:41<16:16,  1.70it/s]\n",
            "  8%|▊         | 144/1800 [01:41<16:16,  1.70it/s]"
          ]
        },
        {
          "name": "stdout",
          "output_type": "stream",
          "text": [
            "{'loss': 0.117, 'grad_norm': 0.005111175123602152, 'learning_rate': 0.00018400000000000003, 'epoch': 8.0}\n"
          ]
        },
        {
          "name": "stderr",
          "output_type": "stream",
          "text": [
            "\n",
            "\u001b[A\n",
            "\u001b[A\n",
            "\u001b[A\n",
            "                                                  \n",
            "\n",
            "  8%|▊         | 144/1800 [01:41<16:16,  1.70it/s]\n",
            "\u001b[A\n",
            "\u001b[A"
          ]
        },
        {
          "name": "stdout",
          "output_type": "stream",
          "text": [
            "{'eval_loss': 0.23545680940151215, 'eval_accuracy': 0.9722222222222222, 'eval_runtime': 0.4136, 'eval_samples_per_second': 87.033, 'eval_steps_per_second': 12.088, 'epoch': 8.0}\n"
          ]
        },
        {
          "name": "stderr",
          "output_type": "stream",
          "text": [
            "  9%|▉         | 162/1800 [01:53<17:12,  1.59it/s]\n",
            "  9%|▉         | 162/1800 [01:53<17:12,  1.59it/s]"
          ]
        },
        {
          "name": "stdout",
          "output_type": "stream",
          "text": [
            "{'loss': 0.1161, 'grad_norm': 0.25934064388275146, 'learning_rate': 0.000182, 'epoch': 9.0}\n"
          ]
        },
        {
          "name": "stderr",
          "output_type": "stream",
          "text": [
            "\n",
            "\u001b[A\n",
            "\u001b[A\n",
            "                                                  \n",
            "\n",
            "  9%|▉         | 162/1800 [01:53<17:12,  1.59it/s]\n",
            "\u001b[A\n",
            "\u001b[A"
          ]
        },
        {
          "name": "stdout",
          "output_type": "stream",
          "text": [
            "{'eval_loss': 0.00015811249613761902, 'eval_accuracy': 1.0, 'eval_runtime': 0.3824, 'eval_samples_per_second': 94.154, 'eval_steps_per_second': 13.077, 'epoch': 9.0}\n"
          ]
        },
        {
          "name": "stderr",
          "output_type": "stream",
          "text": [
            " 10%|█         | 180/1800 [02:04<16:16,  1.66it/s]\n",
            " 10%|█         | 180/1800 [02:04<16:16,  1.66it/s]"
          ]
        },
        {
          "name": "stdout",
          "output_type": "stream",
          "text": [
            "{'loss': 0.0535, 'grad_norm': 0.2971203327178955, 'learning_rate': 0.00018, 'epoch': 10.0}\n"
          ]
        },
        {
          "name": "stderr",
          "output_type": "stream",
          "text": [
            "\n",
            "\u001b[A\n",
            "\u001b[A\n",
            "\u001b[A\n",
            "                                                  \n",
            "\n",
            " 10%|█         | 180/1800 [02:05<16:16,  1.66it/s]\n",
            "\u001b[A\n",
            "\u001b[A"
          ]
        },
        {
          "name": "stdout",
          "output_type": "stream",
          "text": [
            "{'eval_loss': 0.0010638860985636711, 'eval_accuracy': 1.0, 'eval_runtime': 0.4169, 'eval_samples_per_second': 86.351, 'eval_steps_per_second': 11.993, 'epoch': 10.0}\n"
          ]
        },
        {
          "name": "stderr",
          "output_type": "stream",
          "text": [
            " 11%|█         | 198/1800 [02:16<16:04,  1.66it/s]\n",
            " 11%|█         | 198/1800 [02:16<16:04,  1.66it/s]"
          ]
        },
        {
          "name": "stdout",
          "output_type": "stream",
          "text": [
            "{'loss': 0.0034, 'grad_norm': 0.0010959183564409614, 'learning_rate': 0.00017800000000000002, 'epoch': 11.0}\n"
          ]
        },
        {
          "name": "stderr",
          "output_type": "stream",
          "text": [
            "\n",
            "\u001b[A\n",
            "\u001b[A\n",
            "                                                  \n",
            "\n",
            " 11%|█         | 198/1800 [02:17<16:04,  1.66it/s]\n",
            "\u001b[A\n",
            "\u001b[A"
          ]
        },
        {
          "name": "stdout",
          "output_type": "stream",
          "text": [
            "{'eval_loss': 0.43510520458221436, 'eval_accuracy': 0.9444444444444444, 'eval_runtime': 0.4169, 'eval_samples_per_second': 86.354, 'eval_steps_per_second': 11.994, 'epoch': 11.0}\n"
          ]
        },
        {
          "name": "stderr",
          "output_type": "stream",
          "text": [
            " 12%|█▏        | 216/1800 [02:28<16:09,  1.63it/s]\n",
            " 12%|█▏        | 216/1800 [02:28<16:09,  1.63it/s]"
          ]
        },
        {
          "name": "stdout",
          "output_type": "stream",
          "text": [
            "{'loss': 0.0841, 'grad_norm': 0.0036443988792598248, 'learning_rate': 0.00017600000000000002, 'epoch': 12.0}\n"
          ]
        },
        {
          "name": "stderr",
          "output_type": "stream",
          "text": [
            "\n",
            "\u001b[A\n",
            "\u001b[A\n",
            "\u001b[A\n",
            "                                                  \n",
            "\n",
            " 12%|█▏        | 216/1800 [02:28<16:09,  1.63it/s]\n",
            "\u001b[A\n",
            "\u001b[A"
          ]
        },
        {
          "name": "stdout",
          "output_type": "stream",
          "text": [
            "{'eval_loss': 0.19412797689437866, 'eval_accuracy': 0.9722222222222222, 'eval_runtime': 0.4345, 'eval_samples_per_second': 82.85, 'eval_steps_per_second': 11.507, 'epoch': 12.0}\n"
          ]
        },
        {
          "name": "stderr",
          "output_type": "stream",
          "text": [
            " 13%|█▎        | 234/1800 [02:40<16:07,  1.62it/s]\n",
            " 13%|█▎        | 234/1800 [02:40<16:07,  1.62it/s]"
          ]
        },
        {
          "name": "stdout",
          "output_type": "stream",
          "text": [
            "{'loss': 0.0002, 'grad_norm': 0.0012582020135596395, 'learning_rate': 0.000174, 'epoch': 13.0}\n"
          ]
        },
        {
          "name": "stderr",
          "output_type": "stream",
          "text": [
            "\n",
            "\u001b[A\n",
            "\u001b[A\n",
            "\u001b[A\n",
            "                                                  \n",
            "\n",
            " 13%|█▎        | 234/1800 [02:40<16:07,  1.62it/s]\n",
            "\u001b[A\n",
            "\u001b[A"
          ]
        },
        {
          "name": "stdout",
          "output_type": "stream",
          "text": [
            "{'eval_loss': 0.0352422297000885, 'eval_accuracy': 0.9722222222222222, 'eval_runtime': 0.4131, 'eval_samples_per_second': 87.146, 'eval_steps_per_second': 12.104, 'epoch': 13.0}\n"
          ]
        },
        {
          "name": "stderr",
          "output_type": "stream",
          "text": [
            " 14%|█▍        | 252/1800 [02:52<16:24,  1.57it/s]\n",
            " 14%|█▍        | 252/1800 [02:52<16:24,  1.57it/s]"
          ]
        },
        {
          "name": "stdout",
          "output_type": "stream",
          "text": [
            "{'loss': 0.0001, 'grad_norm': 0.0008650608942843974, 'learning_rate': 0.000172, 'epoch': 14.0}\n"
          ]
        },
        {
          "name": "stderr",
          "output_type": "stream",
          "text": [
            "\n",
            "\u001b[A\n",
            "\u001b[A\n",
            "\u001b[A\n",
            "                                                  \n",
            "\n",
            " 14%|█▍        | 252/1800 [02:52<16:24,  1.57it/s]\n",
            "\u001b[A\n",
            "\u001b[A"
          ]
        },
        {
          "name": "stdout",
          "output_type": "stream",
          "text": [
            "{'eval_loss': 0.01576685532927513, 'eval_accuracy': 1.0, 'eval_runtime': 0.429, 'eval_samples_per_second': 83.917, 'eval_steps_per_second': 11.655, 'epoch': 14.0}\n"
          ]
        },
        {
          "name": "stderr",
          "output_type": "stream",
          "text": [
            " 15%|█▌        | 270/1800 [03:05<16:57,  1.50it/s]\n",
            " 15%|█▌        | 270/1800 [03:05<16:57,  1.50it/s]"
          ]
        },
        {
          "name": "stdout",
          "output_type": "stream",
          "text": [
            "{'loss': 0.0001, 'grad_norm': 0.006571079138666391, 'learning_rate': 0.00017, 'epoch': 15.0}\n"
          ]
        },
        {
          "name": "stderr",
          "output_type": "stream",
          "text": [
            "\n",
            "\u001b[A\n",
            "\u001b[A\n",
            "\u001b[A\n",
            "                                                  \n",
            "\n",
            " 15%|█▌        | 270/1800 [03:05<16:57,  1.50it/s]\n",
            "\u001b[A\n",
            "\u001b[A"
          ]
        },
        {
          "name": "stdout",
          "output_type": "stream",
          "text": [
            "{'eval_loss': 0.020974833518266678, 'eval_accuracy': 0.9722222222222222, 'eval_runtime': 0.4529, 'eval_samples_per_second': 79.48, 'eval_steps_per_second': 11.039, 'epoch': 15.0}\n"
          ]
        },
        {
          "name": "stderr",
          "output_type": "stream",
          "text": [
            " 16%|█▌        | 288/1800 [03:17<16:06,  1.56it/s]\n",
            " 16%|█▌        | 288/1800 [03:17<16:06,  1.56it/s]"
          ]
        },
        {
          "name": "stdout",
          "output_type": "stream",
          "text": [
            "{'loss': 0.0001, 'grad_norm': 0.000535046448931098, 'learning_rate': 0.000168, 'epoch': 16.0}\n"
          ]
        },
        {
          "name": "stderr",
          "output_type": "stream",
          "text": [
            "\n",
            "\u001b[A\n",
            "\u001b[A\n",
            "\u001b[A\n",
            "                                                  \n",
            "\n",
            " 16%|█▌        | 288/1800 [03:18<16:06,  1.56it/s]\n",
            "\u001b[A\n",
            "\u001b[A"
          ]
        },
        {
          "name": "stdout",
          "output_type": "stream",
          "text": [
            "{'eval_loss': 0.056508276611566544, 'eval_accuracy': 0.9722222222222222, 'eval_runtime': 0.4231, 'eval_samples_per_second': 85.081, 'eval_steps_per_second': 11.817, 'epoch': 16.0}\n"
          ]
        },
        {
          "name": "stderr",
          "output_type": "stream",
          "text": [
            " 17%|█▋        | 306/1800 [03:30<16:42,  1.49it/s]\n",
            " 17%|█▋        | 306/1800 [03:30<16:42,  1.49it/s]"
          ]
        },
        {
          "name": "stdout",
          "output_type": "stream",
          "text": [
            "{'loss': 0.0, 'grad_norm': 0.0012739560334011912, 'learning_rate': 0.000166, 'epoch': 17.0}\n"
          ]
        },
        {
          "name": "stderr",
          "output_type": "stream",
          "text": [
            "\n",
            "\u001b[A\n",
            "\u001b[A\n",
            "\u001b[A\n",
            "                                                  \n",
            "\n",
            " 17%|█▋        | 306/1800 [03:30<16:42,  1.49it/s]\n",
            "\u001b[A\n",
            "\u001b[A"
          ]
        },
        {
          "name": "stdout",
          "output_type": "stream",
          "text": [
            "{'eval_loss': 0.09830635786056519, 'eval_accuracy': 0.9722222222222222, 'eval_runtime': 0.4239, 'eval_samples_per_second': 84.917, 'eval_steps_per_second': 11.794, 'epoch': 17.0}\n"
          ]
        },
        {
          "name": "stderr",
          "output_type": "stream",
          "text": [
            " 18%|█▊        | 324/1800 [03:42<15:10,  1.62it/s]\n",
            " 18%|█▊        | 324/1800 [03:42<15:10,  1.62it/s]"
          ]
        },
        {
          "name": "stdout",
          "output_type": "stream",
          "text": [
            "{'loss': 0.0001, 'grad_norm': 0.0018963494803756475, 'learning_rate': 0.000164, 'epoch': 18.0}\n"
          ]
        },
        {
          "name": "stderr",
          "output_type": "stream",
          "text": [
            "\n",
            "\u001b[A\n",
            "\u001b[A\n",
            "\u001b[A\n",
            "                                                  \n",
            "\n",
            " 18%|█▊        | 324/1800 [03:42<15:10,  1.62it/s]\n",
            "\u001b[A\n",
            "\u001b[A"
          ]
        },
        {
          "name": "stdout",
          "output_type": "stream",
          "text": [
            "{'eval_loss': 0.10692494362592697, 'eval_accuracy': 0.9722222222222222, 'eval_runtime': 0.5175, 'eval_samples_per_second': 69.56, 'eval_steps_per_second': 9.661, 'epoch': 18.0}\n"
          ]
        },
        {
          "name": "stderr",
          "output_type": "stream",
          "text": [
            " 19%|█▉        | 342/1800 [03:54<15:12,  1.60it/s]\n",
            " 19%|█▉        | 342/1800 [03:54<15:12,  1.60it/s]"
          ]
        },
        {
          "name": "stdout",
          "output_type": "stream",
          "text": [
            "{'loss': 0.0001, 'grad_norm': 0.0024557809811085463, 'learning_rate': 0.000162, 'epoch': 19.0}\n"
          ]
        },
        {
          "name": "stderr",
          "output_type": "stream",
          "text": [
            "\n",
            "\u001b[A\n",
            "\u001b[A\n",
            "\u001b[A\n",
            "                                                  \n",
            "\n",
            " 19%|█▉        | 342/1800 [03:54<15:12,  1.60it/s]\n",
            "\u001b[A\n",
            "\u001b[A"
          ]
        },
        {
          "name": "stdout",
          "output_type": "stream",
          "text": [
            "{'eval_loss': 0.11103112250566483, 'eval_accuracy': 0.9722222222222222, 'eval_runtime': 0.4331, 'eval_samples_per_second': 83.115, 'eval_steps_per_second': 11.544, 'epoch': 19.0}\n"
          ]
        },
        {
          "name": "stderr",
          "output_type": "stream",
          "text": [
            " 20%|██        | 360/1800 [04:05<14:57,  1.60it/s]\n",
            " 20%|██        | 360/1800 [04:05<14:57,  1.60it/s]"
          ]
        },
        {
          "name": "stdout",
          "output_type": "stream",
          "text": [
            "{'loss': 0.0001, 'grad_norm': 0.00037339006667025387, 'learning_rate': 0.00016, 'epoch': 20.0}\n"
          ]
        },
        {
          "name": "stderr",
          "output_type": "stream",
          "text": [
            "\n",
            "\u001b[A\n",
            "\u001b[A\n",
            "\u001b[A\n",
            "                                                  \n",
            "\n",
            " 20%|██        | 360/1800 [04:06<14:57,  1.60it/s]\n",
            "\u001b[A\n",
            "\u001b[A"
          ]
        },
        {
          "name": "stdout",
          "output_type": "stream",
          "text": [
            "{'eval_loss': 0.11557085067033768, 'eval_accuracy': 0.9722222222222222, 'eval_runtime': 0.4096, 'eval_samples_per_second': 87.884, 'eval_steps_per_second': 12.206, 'epoch': 20.0}\n"
          ]
        },
        {
          "name": "stderr",
          "output_type": "stream",
          "text": [
            " 21%|██        | 378/1800 [04:18<16:02,  1.48it/s]\n",
            " 21%|██        | 378/1800 [04:18<16:02,  1.48it/s]"
          ]
        },
        {
          "name": "stdout",
          "output_type": "stream",
          "text": [
            "{'loss': 0.0, 'grad_norm': 0.0015335099305957556, 'learning_rate': 0.00015800000000000002, 'epoch': 21.0}\n"
          ]
        },
        {
          "name": "stderr",
          "output_type": "stream",
          "text": [
            "\n",
            "\u001b[A\n",
            "\u001b[A\n",
            "\u001b[A\n",
            "                                                  \n",
            "\n",
            " 21%|██        | 378/1800 [04:18<16:02,  1.48it/s]\n",
            "\u001b[A\n",
            "\u001b[A"
          ]
        },
        {
          "name": "stdout",
          "output_type": "stream",
          "text": [
            "{'eval_loss': 0.12031710147857666, 'eval_accuracy': 0.9722222222222222, 'eval_runtime': 0.4418, 'eval_samples_per_second': 81.477, 'eval_steps_per_second': 11.316, 'epoch': 21.0}\n"
          ]
        },
        {
          "name": "stderr",
          "output_type": "stream",
          "text": [
            " 22%|██▏       | 396/1800 [04:30<14:51,  1.58it/s]\n",
            " 22%|██▏       | 396/1800 [04:30<14:51,  1.58it/s]"
          ]
        },
        {
          "name": "stdout",
          "output_type": "stream",
          "text": [
            "{'loss': 0.0, 'grad_norm': 0.002700302517041564, 'learning_rate': 0.00015600000000000002, 'epoch': 22.0}\n"
          ]
        },
        {
          "name": "stderr",
          "output_type": "stream",
          "text": [
            "\n",
            "\u001b[A\n",
            "\u001b[A\n",
            "\u001b[A\n",
            "                                                  \n",
            "\n",
            " 22%|██▏       | 396/1800 [04:30<14:51,  1.58it/s]\n",
            "\u001b[A\n",
            "\u001b[A"
          ]
        },
        {
          "name": "stdout",
          "output_type": "stream",
          "text": [
            "{'eval_loss': 0.12680478394031525, 'eval_accuracy': 0.9722222222222222, 'eval_runtime': 0.4237, 'eval_samples_per_second': 84.964, 'eval_steps_per_second': 11.801, 'epoch': 22.0}\n"
          ]
        },
        {
          "name": "stderr",
          "output_type": "stream",
          "text": [
            " 23%|██▎       | 414/1800 [04:42<14:36,  1.58it/s]\n",
            " 23%|██▎       | 414/1800 [04:42<14:36,  1.58it/s]"
          ]
        },
        {
          "name": "stdout",
          "output_type": "stream",
          "text": [
            "{'loss': 0.0, 'grad_norm': 0.0005335120367817581, 'learning_rate': 0.000154, 'epoch': 23.0}\n"
          ]
        },
        {
          "name": "stderr",
          "output_type": "stream",
          "text": [
            "\n",
            "\u001b[A\n",
            "\u001b[A\n",
            "\u001b[A\n",
            "                                                  \n",
            "\n",
            " 23%|██▎       | 414/1800 [04:42<14:36,  1.58it/s]\n",
            "\u001b[A\n",
            "\u001b[A"
          ]
        },
        {
          "name": "stdout",
          "output_type": "stream",
          "text": [
            "{'eval_loss': 0.13250286877155304, 'eval_accuracy': 0.9722222222222222, 'eval_runtime': 0.423, 'eval_samples_per_second': 85.097, 'eval_steps_per_second': 11.819, 'epoch': 23.0}\n"
          ]
        },
        {
          "name": "stderr",
          "output_type": "stream",
          "text": [
            " 24%|██▍       | 432/1800 [04:54<14:11,  1.61it/s]\n",
            " 24%|██▍       | 432/1800 [04:54<14:11,  1.61it/s]"
          ]
        },
        {
          "name": "stdout",
          "output_type": "stream",
          "text": [
            "{'loss': 0.0, 'grad_norm': 0.0002325046225450933, 'learning_rate': 0.000152, 'epoch': 24.0}\n"
          ]
        },
        {
          "name": "stderr",
          "output_type": "stream",
          "text": [
            "\n",
            "\u001b[A\n",
            "\u001b[A\n",
            "\u001b[A\n",
            "                                                  \n",
            "\n",
            " 24%|██▍       | 432/1800 [04:54<14:11,  1.61it/s]\n",
            "\u001b[A\n",
            "\u001b[A"
          ]
        },
        {
          "name": "stdout",
          "output_type": "stream",
          "text": [
            "{'eval_loss': 0.1379028856754303, 'eval_accuracy': 0.9722222222222222, 'eval_runtime': 0.4152, 'eval_samples_per_second': 86.696, 'eval_steps_per_second': 12.041, 'epoch': 24.0}\n"
          ]
        },
        {
          "name": "stderr",
          "output_type": "stream",
          "text": [
            " 25%|██▌       | 450/1800 [05:06<14:32,  1.55it/s]\n",
            " 25%|██▌       | 450/1800 [05:06<14:32,  1.55it/s]"
          ]
        },
        {
          "name": "stdout",
          "output_type": "stream",
          "text": [
            "{'loss': 0.0, 'grad_norm': 0.00039083443698473275, 'learning_rate': 0.00015000000000000001, 'epoch': 25.0}\n"
          ]
        },
        {
          "name": "stderr",
          "output_type": "stream",
          "text": [
            "\n",
            "\u001b[A\n",
            "\u001b[A\n",
            "\u001b[A\n",
            "                                                  \n",
            "\n",
            " 25%|██▌       | 450/1800 [05:06<14:32,  1.55it/s]\n",
            "\u001b[A\n",
            "\u001b[A"
          ]
        },
        {
          "name": "stdout",
          "output_type": "stream",
          "text": [
            "{'eval_loss': 0.14132362604141235, 'eval_accuracy': 0.9722222222222222, 'eval_runtime': 0.4437, 'eval_samples_per_second': 81.134, 'eval_steps_per_second': 11.269, 'epoch': 25.0}\n"
          ]
        },
        {
          "name": "stderr",
          "output_type": "stream",
          "text": [
            " 26%|██▌       | 468/1800 [05:18<14:23,  1.54it/s]\n",
            " 26%|██▌       | 468/1800 [05:18<14:23,  1.54it/s]"
          ]
        },
        {
          "name": "stdout",
          "output_type": "stream",
          "text": [
            "{'loss': 0.0, 'grad_norm': 0.0002626570058055222, 'learning_rate': 0.000148, 'epoch': 26.0}\n"
          ]
        },
        {
          "name": "stderr",
          "output_type": "stream",
          "text": [
            "\n",
            "\u001b[A\n",
            "\u001b[A\n",
            "\u001b[A\n",
            "                                                  \n",
            "\n",
            " 26%|██▌       | 468/1800 [05:19<14:23,  1.54it/s]\n",
            "\u001b[A\n",
            "\u001b[A"
          ]
        },
        {
          "name": "stdout",
          "output_type": "stream",
          "text": [
            "{'eval_loss': 0.14433161914348602, 'eval_accuracy': 0.9722222222222222, 'eval_runtime': 0.4393, 'eval_samples_per_second': 81.95, 'eval_steps_per_second': 11.382, 'epoch': 26.0}\n"
          ]
        },
        {
          "name": "stderr",
          "output_type": "stream",
          "text": [
            " 27%|██▋       | 486/1800 [05:31<14:05,  1.55it/s]\n",
            " 27%|██▋       | 486/1800 [05:31<14:05,  1.55it/s]"
          ]
        },
        {
          "name": "stdout",
          "output_type": "stream",
          "text": [
            "{'loss': 0.0, 'grad_norm': 0.003094700863584876, 'learning_rate': 0.000146, 'epoch': 27.0}\n"
          ]
        },
        {
          "name": "stderr",
          "output_type": "stream",
          "text": [
            "\n",
            "\u001b[A\n",
            "\u001b[A\n",
            "\u001b[A\n",
            "                                                  \n",
            "\n",
            " 27%|██▋       | 486/1800 [05:31<14:05,  1.55it/s]\n",
            "\u001b[A\n",
            "\u001b[A"
          ]
        },
        {
          "name": "stdout",
          "output_type": "stream",
          "text": [
            "{'eval_loss': 0.14744001626968384, 'eval_accuracy': 0.9722222222222222, 'eval_runtime': 0.4314, 'eval_samples_per_second': 83.449, 'eval_steps_per_second': 11.59, 'epoch': 27.0}\n"
          ]
        },
        {
          "name": "stderr",
          "output_type": "stream",
          "text": [
            " 28%|██▊       | 504/1800 [05:44<15:55,  1.36it/s]\n",
            " 28%|██▊       | 504/1800 [05:44<15:55,  1.36it/s]"
          ]
        },
        {
          "name": "stdout",
          "output_type": "stream",
          "text": [
            "{'loss': 0.0, 'grad_norm': 0.0017002405365929008, 'learning_rate': 0.000144, 'epoch': 28.0}\n"
          ]
        },
        {
          "name": "stderr",
          "output_type": "stream",
          "text": [
            "\n",
            "\u001b[A\n",
            "\u001b[A\n",
            "\u001b[A\n",
            "                                                  \n",
            "\n",
            " 28%|██▊       | 504/1800 [05:44<15:55,  1.36it/s]\n",
            "\u001b[A\n",
            "\u001b[A"
          ]
        },
        {
          "name": "stdout",
          "output_type": "stream",
          "text": [
            "{'eval_loss': 0.15052837133407593, 'eval_accuracy': 0.9722222222222222, 'eval_runtime': 0.4192, 'eval_samples_per_second': 85.874, 'eval_steps_per_second': 11.927, 'epoch': 28.0}\n"
          ]
        },
        {
          "name": "stderr",
          "output_type": "stream",
          "text": [
            " 29%|██▉       | 522/1800 [05:56<13:28,  1.58it/s]\n",
            " 29%|██▉       | 522/1800 [05:56<13:28,  1.58it/s]"
          ]
        },
        {
          "name": "stdout",
          "output_type": "stream",
          "text": [
            "{'loss': 0.0, 'grad_norm': 0.00036556945997290313, 'learning_rate': 0.000142, 'epoch': 29.0}\n"
          ]
        },
        {
          "name": "stderr",
          "output_type": "stream",
          "text": [
            "\n",
            "\u001b[A\n",
            "\u001b[A\n",
            "\u001b[A\n",
            "                                                  \n",
            "\n",
            " 29%|██▉       | 522/1800 [05:57<13:28,  1.58it/s]\n",
            "\u001b[A\n",
            "\u001b[A"
          ]
        },
        {
          "name": "stdout",
          "output_type": "stream",
          "text": [
            "{'eval_loss': 0.1537439376115799, 'eval_accuracy': 0.9722222222222222, 'eval_runtime': 0.4226, 'eval_samples_per_second': 85.179, 'eval_steps_per_second': 11.83, 'epoch': 29.0}\n"
          ]
        },
        {
          "name": "stderr",
          "output_type": "stream",
          "text": [
            " 30%|███       | 540/1800 [06:08<13:28,  1.56it/s]\n",
            " 30%|███       | 540/1800 [06:08<13:28,  1.56it/s]"
          ]
        },
        {
          "name": "stdout",
          "output_type": "stream",
          "text": [
            "{'loss': 0.0, 'grad_norm': 0.0001456016761949286, 'learning_rate': 0.00014, 'epoch': 30.0}\n"
          ]
        },
        {
          "name": "stderr",
          "output_type": "stream",
          "text": [
            "\n",
            "\u001b[A\n",
            "\u001b[A\n",
            "\u001b[A\n",
            "                                                  \n",
            "\n",
            " 30%|███       | 540/1800 [06:09<13:28,  1.56it/s]\n",
            "\u001b[A\n",
            "\u001b[A"
          ]
        },
        {
          "name": "stdout",
          "output_type": "stream",
          "text": [
            "{'eval_loss': 0.15654411911964417, 'eval_accuracy': 0.9722222222222222, 'eval_runtime': 0.4558, 'eval_samples_per_second': 78.977, 'eval_steps_per_second': 10.969, 'epoch': 30.0}\n"
          ]
        },
        {
          "name": "stderr",
          "output_type": "stream",
          "text": [
            " 31%|███       | 558/1800 [06:21<13:57,  1.48it/s]\n",
            " 31%|███       | 558/1800 [06:21<13:57,  1.48it/s]"
          ]
        },
        {
          "name": "stdout",
          "output_type": "stream",
          "text": [
            "{'loss': 0.0, 'grad_norm': 0.0009481756715103984, 'learning_rate': 0.000138, 'epoch': 31.0}\n"
          ]
        },
        {
          "name": "stderr",
          "output_type": "stream",
          "text": [
            "\n",
            "\u001b[A\n",
            "\u001b[A\n",
            "\u001b[A\n",
            "                                                  \n",
            "\n",
            " 31%|███       | 558/1800 [06:21<13:57,  1.48it/s]\n",
            "\u001b[A\n",
            "\u001b[A"
          ]
        },
        {
          "name": "stdout",
          "output_type": "stream",
          "text": [
            "{'eval_loss': 0.15894438326358795, 'eval_accuracy': 0.9722222222222222, 'eval_runtime': 0.4719, 'eval_samples_per_second': 76.288, 'eval_steps_per_second': 10.596, 'epoch': 31.0}\n"
          ]
        },
        {
          "name": "stderr",
          "output_type": "stream",
          "text": [
            " 32%|███▏      | 576/1800 [06:34<14:30,  1.41it/s]\n",
            " 32%|███▏      | 576/1800 [06:34<14:30,  1.41it/s]"
          ]
        },
        {
          "name": "stdout",
          "output_type": "stream",
          "text": [
            "{'loss': 0.0, 'grad_norm': 0.0006470969528891146, 'learning_rate': 0.00013600000000000003, 'epoch': 32.0}\n"
          ]
        },
        {
          "name": "stderr",
          "output_type": "stream",
          "text": [
            "\n",
            "\u001b[A\n",
            "\u001b[A\n",
            "\u001b[A\n",
            "                                                  \n",
            "\n",
            " 32%|███▏      | 576/1800 [06:35<14:30,  1.41it/s]\n",
            "\u001b[A\n",
            "\u001b[A"
          ]
        },
        {
          "name": "stdout",
          "output_type": "stream",
          "text": [
            "{'eval_loss': 0.16124169528484344, 'eval_accuracy': 0.9722222222222222, 'eval_runtime': 0.4279, 'eval_samples_per_second': 84.126, 'eval_steps_per_second': 11.684, 'epoch': 32.0}\n"
          ]
        },
        {
          "name": "stderr",
          "output_type": "stream",
          "text": [
            " 33%|███▎      | 594/1800 [06:47<13:26,  1.50it/s]\n",
            " 33%|███▎      | 594/1800 [06:47<13:26,  1.50it/s]"
          ]
        },
        {
          "name": "stdout",
          "output_type": "stream",
          "text": [
            "{'loss': 0.0, 'grad_norm': 0.0001810486282920465, 'learning_rate': 0.000134, 'epoch': 33.0}\n"
          ]
        },
        {
          "name": "stderr",
          "output_type": "stream",
          "text": [
            "\n",
            "\u001b[A\n",
            "\u001b[A\n",
            "\u001b[A\n",
            "                                                  \n",
            "\n",
            " 33%|███▎      | 594/1800 [06:47<13:26,  1.50it/s]\n",
            "\u001b[A\n",
            "\u001b[A"
          ]
        },
        {
          "name": "stdout",
          "output_type": "stream",
          "text": [
            "{'eval_loss': 0.16348223388195038, 'eval_accuracy': 0.9722222222222222, 'eval_runtime': 0.4529, 'eval_samples_per_second': 79.489, 'eval_steps_per_second': 11.04, 'epoch': 33.0}\n"
          ]
        },
        {
          "name": "stderr",
          "output_type": "stream",
          "text": [
            " 34%|███▍      | 612/1800 [06:59<13:04,  1.51it/s]\n",
            " 34%|███▍      | 612/1800 [06:59<13:04,  1.51it/s]"
          ]
        },
        {
          "name": "stdout",
          "output_type": "stream",
          "text": [
            "{'loss': 0.0, 'grad_norm': 0.00019927931134589016, 'learning_rate': 0.000132, 'epoch': 34.0}\n"
          ]
        },
        {
          "name": "stderr",
          "output_type": "stream",
          "text": [
            "\n",
            "\u001b[A\n",
            "\u001b[A\n",
            "\u001b[A\n",
            "                                                  \n",
            "\n",
            " 34%|███▍      | 612/1800 [07:00<13:04,  1.51it/s]\n",
            "\u001b[A\n",
            "\u001b[A"
          ]
        },
        {
          "name": "stdout",
          "output_type": "stream",
          "text": [
            "{'eval_loss': 0.16660860180854797, 'eval_accuracy': 0.9722222222222222, 'eval_runtime': 0.4932, 'eval_samples_per_second': 72.987, 'eval_steps_per_second': 10.137, 'epoch': 34.0}\n"
          ]
        },
        {
          "name": "stderr",
          "output_type": "stream",
          "text": [
            " 35%|███▌      | 630/1800 [07:13<13:18,  1.47it/s]\n",
            " 35%|███▌      | 630/1800 [07:13<13:18,  1.47it/s]"
          ]
        },
        {
          "name": "stdout",
          "output_type": "stream",
          "text": [
            "{'loss': 0.0, 'grad_norm': 0.00011967439786531031, 'learning_rate': 0.00013000000000000002, 'epoch': 35.0}\n"
          ]
        },
        {
          "name": "stderr",
          "output_type": "stream",
          "text": [
            "\n",
            "\u001b[A\n",
            "\u001b[A\n",
            "\u001b[A\n",
            "                                                  \n",
            "\n",
            " 35%|███▌      | 630/1800 [07:13<13:18,  1.47it/s]\n",
            "\u001b[A\n",
            "\u001b[A"
          ]
        },
        {
          "name": "stdout",
          "output_type": "stream",
          "text": [
            "{'eval_loss': 0.16879191994667053, 'eval_accuracy': 0.9722222222222222, 'eval_runtime': 0.4693, 'eval_samples_per_second': 76.711, 'eval_steps_per_second': 10.654, 'epoch': 35.0}\n"
          ]
        },
        {
          "name": "stderr",
          "output_type": "stream",
          "text": [
            " 36%|███▌      | 648/1800 [07:26<12:44,  1.51it/s]\n",
            " 36%|███▌      | 648/1800 [07:26<12:44,  1.51it/s]"
          ]
        },
        {
          "name": "stdout",
          "output_type": "stream",
          "text": [
            "{'loss': 0.0, 'grad_norm': 0.00018115645798388869, 'learning_rate': 0.00012800000000000002, 'epoch': 36.0}\n"
          ]
        },
        {
          "name": "stderr",
          "output_type": "stream",
          "text": [
            "\n",
            "\u001b[A\n",
            "\u001b[A\n",
            "\u001b[A\n",
            "                                                  \n",
            "\n",
            " 36%|███▌      | 648/1800 [07:26<12:44,  1.51it/s]\n",
            "\u001b[A\n",
            "\u001b[A"
          ]
        },
        {
          "name": "stdout",
          "output_type": "stream",
          "text": [
            "{'eval_loss': 0.17084577679634094, 'eval_accuracy': 0.9722222222222222, 'eval_runtime': 0.4348, 'eval_samples_per_second': 82.795, 'eval_steps_per_second': 11.499, 'epoch': 36.0}\n"
          ]
        },
        {
          "name": "stderr",
          "output_type": "stream",
          "text": [
            " 37%|███▋      | 666/1800 [07:38<12:00,  1.57it/s]\n",
            " 37%|███▋      | 666/1800 [07:38<12:00,  1.57it/s]"
          ]
        },
        {
          "name": "stdout",
          "output_type": "stream",
          "text": [
            "{'loss': 0.0, 'grad_norm': 0.00023489538580179214, 'learning_rate': 0.000126, 'epoch': 37.0}\n"
          ]
        },
        {
          "name": "stderr",
          "output_type": "stream",
          "text": [
            "\n",
            "\u001b[A\n",
            "\u001b[A\n",
            "\u001b[A\n",
            "                                                  \n",
            "\n",
            " 37%|███▋      | 666/1800 [07:38<12:00,  1.57it/s]\n",
            "\u001b[A\n",
            "\u001b[A"
          ]
        },
        {
          "name": "stdout",
          "output_type": "stream",
          "text": [
            "{'eval_loss': 0.1730571687221527, 'eval_accuracy': 0.9722222222222222, 'eval_runtime': 0.4134, 'eval_samples_per_second': 87.081, 'eval_steps_per_second': 12.095, 'epoch': 37.0}\n"
          ]
        },
        {
          "name": "stderr",
          "output_type": "stream",
          "text": [
            " 38%|███▊      | 684/1800 [07:50<12:11,  1.53it/s]\n",
            " 38%|███▊      | 684/1800 [07:50<12:11,  1.53it/s]"
          ]
        },
        {
          "name": "stdout",
          "output_type": "stream",
          "text": [
            "{'loss': 0.0, 'grad_norm': 0.00048073037760332227, 'learning_rate': 0.000124, 'epoch': 38.0}\n"
          ]
        },
        {
          "name": "stderr",
          "output_type": "stream",
          "text": [
            "\n",
            "\u001b[A\n",
            "\u001b[A\n",
            "\u001b[A\n",
            "                                                  \n",
            "\n",
            " 38%|███▊      | 684/1800 [07:51<12:11,  1.53it/s]\n",
            "\u001b[A\n",
            "\u001b[A"
          ]
        },
        {
          "name": "stdout",
          "output_type": "stream",
          "text": [
            "{'eval_loss': 0.1750776469707489, 'eval_accuracy': 0.9722222222222222, 'eval_runtime': 0.4042, 'eval_samples_per_second': 89.054, 'eval_steps_per_second': 12.369, 'epoch': 38.0}\n"
          ]
        },
        {
          "name": "stderr",
          "output_type": "stream",
          "text": [
            " 39%|███▉      | 702/1800 [08:03<11:54,  1.54it/s]\n",
            " 39%|███▉      | 702/1800 [08:03<11:54,  1.54it/s]"
          ]
        },
        {
          "name": "stdout",
          "output_type": "stream",
          "text": [
            "{'loss': 0.0, 'grad_norm': 0.0013323350576683879, 'learning_rate': 0.000122, 'epoch': 39.0}\n"
          ]
        },
        {
          "name": "stderr",
          "output_type": "stream",
          "text": [
            "\n",
            "\u001b[A\n",
            "\u001b[A\n",
            "\u001b[A\n",
            "                                                  \n",
            "\n",
            " 39%|███▉      | 702/1800 [08:03<11:54,  1.54it/s]\n",
            "\u001b[A\n",
            "\u001b[A"
          ]
        },
        {
          "name": "stdout",
          "output_type": "stream",
          "text": [
            "{'eval_loss': 0.176924929022789, 'eval_accuracy': 0.9722222222222222, 'eval_runtime': 0.423, 'eval_samples_per_second': 85.105, 'eval_steps_per_second': 11.82, 'epoch': 39.0}\n"
          ]
        },
        {
          "name": "stderr",
          "output_type": "stream",
          "text": [
            " 40%|████      | 720/1800 [08:15<11:48,  1.52it/s]\n",
            " 40%|████      | 720/1800 [08:15<11:48,  1.52it/s]"
          ]
        },
        {
          "name": "stdout",
          "output_type": "stream",
          "text": [
            "{'loss': 0.0, 'grad_norm': 0.00018674421880859882, 'learning_rate': 0.00012, 'epoch': 40.0}\n"
          ]
        },
        {
          "name": "stderr",
          "output_type": "stream",
          "text": [
            "\n",
            "\u001b[A\n",
            "\u001b[A\n",
            "\u001b[A\n",
            "                                                  \n",
            "\n",
            " 40%|████      | 720/1800 [08:16<11:48,  1.52it/s]\n",
            "\u001b[A\n",
            "\u001b[A"
          ]
        },
        {
          "name": "stdout",
          "output_type": "stream",
          "text": [
            "{'eval_loss': 0.1784641295671463, 'eval_accuracy': 0.9722222222222222, 'eval_runtime': 0.4198, 'eval_samples_per_second': 85.763, 'eval_steps_per_second': 11.911, 'epoch': 40.0}\n"
          ]
        },
        {
          "name": "stderr",
          "output_type": "stream",
          "text": [
            " 41%|████      | 738/1800 [08:29<14:23,  1.23it/s]\n",
            " 41%|████      | 738/1800 [08:29<14:23,  1.23it/s]"
          ]
        },
        {
          "name": "stdout",
          "output_type": "stream",
          "text": [
            "{'loss': 0.0, 'grad_norm': 8.980984421214089e-05, 'learning_rate': 0.000118, 'epoch': 41.0}\n"
          ]
        },
        {
          "name": "stderr",
          "output_type": "stream",
          "text": [
            "\n",
            "\u001b[A\n",
            "\u001b[A\n",
            "\u001b[A\n",
            "                                                  \n",
            "\n",
            " 41%|████      | 738/1800 [08:30<14:23,  1.23it/s]\n",
            "\u001b[A\n",
            "\u001b[A"
          ]
        },
        {
          "name": "stdout",
          "output_type": "stream",
          "text": [
            "{'eval_loss': 0.18115314841270447, 'eval_accuracy': 0.9722222222222222, 'eval_runtime': 0.4309, 'eval_samples_per_second': 83.547, 'eval_steps_per_second': 11.604, 'epoch': 41.0}\n"
          ]
        },
        {
          "name": "stderr",
          "output_type": "stream",
          "text": [
            " 42%|████▏     | 756/1800 [08:42<11:18,  1.54it/s]\n",
            " 42%|████▏     | 756/1800 [08:42<11:18,  1.54it/s]"
          ]
        },
        {
          "name": "stdout",
          "output_type": "stream",
          "text": [
            "{'loss': 0.0, 'grad_norm': 0.00014530131011269987, 'learning_rate': 0.000116, 'epoch': 42.0}\n"
          ]
        },
        {
          "name": "stderr",
          "output_type": "stream",
          "text": [
            "\n",
            "\u001b[A\n",
            "\u001b[A\n",
            "\u001b[A\n",
            "                                                  \n",
            "\n",
            " 42%|████▏     | 756/1800 [08:42<11:18,  1.54it/s]\n",
            "\u001b[A\n",
            "\u001b[A"
          ]
        },
        {
          "name": "stdout",
          "output_type": "stream",
          "text": [
            "{'eval_loss': 0.18382370471954346, 'eval_accuracy': 0.9722222222222222, 'eval_runtime': 0.4439, 'eval_samples_per_second': 81.091, 'eval_steps_per_second': 11.263, 'epoch': 42.0}\n"
          ]
        },
        {
          "name": "stderr",
          "output_type": "stream",
          "text": [
            " 43%|████▎     | 774/1800 [08:54<10:41,  1.60it/s]\n",
            " 43%|████▎     | 774/1800 [08:54<10:41,  1.60it/s]"
          ]
        },
        {
          "name": "stdout",
          "output_type": "stream",
          "text": [
            "{'loss': 0.0, 'grad_norm': 0.0009325639111921191, 'learning_rate': 0.00011399999999999999, 'epoch': 43.0}\n"
          ]
        },
        {
          "name": "stderr",
          "output_type": "stream",
          "text": [
            "\n",
            "\u001b[A\n",
            "\u001b[A\n",
            "\u001b[A\n",
            "                                                  \n",
            "\n",
            " 43%|████▎     | 774/1800 [08:54<10:41,  1.60it/s]\n",
            "\u001b[A\n",
            "\u001b[A"
          ]
        },
        {
          "name": "stdout",
          "output_type": "stream",
          "text": [
            "{'eval_loss': 0.18570087850093842, 'eval_accuracy': 0.9722222222222222, 'eval_runtime': 0.4159, 'eval_samples_per_second': 86.568, 'eval_steps_per_second': 12.023, 'epoch': 43.0}\n"
          ]
        },
        {
          "name": "stderr",
          "output_type": "stream",
          "text": [
            " 44%|████▍     | 792/1800 [09:06<10:51,  1.55it/s]\n",
            " 44%|████▍     | 792/1800 [09:06<10:51,  1.55it/s]"
          ]
        },
        {
          "name": "stdout",
          "output_type": "stream",
          "text": [
            "{'loss': 0.0, 'grad_norm': 0.0001711107906885445, 'learning_rate': 0.00011200000000000001, 'epoch': 44.0}\n"
          ]
        },
        {
          "name": "stderr",
          "output_type": "stream",
          "text": [
            "\n",
            "\u001b[A\n",
            "\u001b[A\n",
            "\u001b[A\n",
            "                                                  \n",
            "\n",
            " 44%|████▍     | 792/1800 [09:06<10:51,  1.55it/s]\n",
            "\u001b[A\n",
            "\u001b[A"
          ]
        },
        {
          "name": "stdout",
          "output_type": "stream",
          "text": [
            "{'eval_loss': 0.18786054849624634, 'eval_accuracy': 0.9722222222222222, 'eval_runtime': 0.5235, 'eval_samples_per_second': 68.765, 'eval_steps_per_second': 9.551, 'epoch': 44.0}\n"
          ]
        },
        {
          "name": "stderr",
          "output_type": "stream",
          "text": [
            " 45%|████▌     | 810/1800 [09:18<10:48,  1.53it/s]\n",
            " 45%|████▌     | 810/1800 [09:18<10:48,  1.53it/s]"
          ]
        },
        {
          "name": "stdout",
          "output_type": "stream",
          "text": [
            "{'loss': 0.0, 'grad_norm': 0.00011104652367066592, 'learning_rate': 0.00011000000000000002, 'epoch': 45.0}\n"
          ]
        },
        {
          "name": "stderr",
          "output_type": "stream",
          "text": [
            "\n",
            "\u001b[A\n",
            "\u001b[A\n",
            "\u001b[A\n",
            "                                                  \n",
            "\n",
            " 45%|████▌     | 810/1800 [09:19<10:48,  1.53it/s]\n",
            "\u001b[A\n",
            "\u001b[A"
          ]
        },
        {
          "name": "stdout",
          "output_type": "stream",
          "text": [
            "{'eval_loss': 0.1890859156847, 'eval_accuracy': 0.9722222222222222, 'eval_runtime': 0.4563, 'eval_samples_per_second': 78.897, 'eval_steps_per_second': 10.958, 'epoch': 45.0}\n"
          ]
        },
        {
          "name": "stderr",
          "output_type": "stream",
          "text": [
            " 46%|████▌     | 828/1800 [09:31<10:31,  1.54it/s]\n",
            " 46%|████▌     | 828/1800 [09:31<10:31,  1.54it/s]"
          ]
        },
        {
          "name": "stdout",
          "output_type": "stream",
          "text": [
            "{'loss': 0.0, 'grad_norm': 0.00016378135478589684, 'learning_rate': 0.00010800000000000001, 'epoch': 46.0}\n"
          ]
        },
        {
          "name": "stderr",
          "output_type": "stream",
          "text": [
            "\n",
            "\u001b[A\n",
            "\u001b[A\n",
            "\u001b[A\n",
            "                                                  \n",
            "\n",
            " 46%|████▌     | 828/1800 [09:31<10:31,  1.54it/s]\n",
            "\u001b[A\n",
            "\u001b[A"
          ]
        },
        {
          "name": "stdout",
          "output_type": "stream",
          "text": [
            "{'eval_loss': 0.19035795331001282, 'eval_accuracy': 0.9722222222222222, 'eval_runtime': 0.4202, 'eval_samples_per_second': 85.668, 'eval_steps_per_second': 11.898, 'epoch': 46.0}\n"
          ]
        },
        {
          "name": "stderr",
          "output_type": "stream",
          "text": [
            " 47%|████▋     | 846/1800 [09:43<10:10,  1.56it/s]\n",
            " 47%|████▋     | 846/1800 [09:43<10:10,  1.56it/s]"
          ]
        },
        {
          "name": "stdout",
          "output_type": "stream",
          "text": [
            "{'loss': 0.0, 'grad_norm': 0.001956928987056017, 'learning_rate': 0.00010600000000000002, 'epoch': 47.0}\n"
          ]
        },
        {
          "name": "stderr",
          "output_type": "stream",
          "text": [
            "\n",
            "\u001b[A\n",
            "\u001b[A\n",
            "\u001b[A\n",
            "                                                  \n",
            "\n",
            " 47%|████▋     | 846/1800 [09:44<10:10,  1.56it/s]\n",
            "\u001b[A\n",
            "\u001b[A"
          ]
        },
        {
          "name": "stdout",
          "output_type": "stream",
          "text": [
            "{'eval_loss': 0.19171705842018127, 'eval_accuracy': 0.9722222222222222, 'eval_runtime': 0.4172, 'eval_samples_per_second': 86.281, 'eval_steps_per_second': 11.983, 'epoch': 47.0}\n"
          ]
        },
        {
          "name": "stderr",
          "output_type": "stream",
          "text": [
            " 48%|████▊     | 864/1800 [09:56<10:11,  1.53it/s]\n",
            " 48%|████▊     | 864/1800 [09:56<10:11,  1.53it/s]"
          ]
        },
        {
          "name": "stdout",
          "output_type": "stream",
          "text": [
            "{'loss': 0.0, 'grad_norm': 0.000174201704794541, 'learning_rate': 0.00010400000000000001, 'epoch': 48.0}\n"
          ]
        },
        {
          "name": "stderr",
          "output_type": "stream",
          "text": [
            "\n",
            "\u001b[A\n",
            "\u001b[A\n",
            "\u001b[A\n",
            "                                                  \n",
            "\n",
            " 48%|████▊     | 864/1800 [09:56<10:11,  1.53it/s]\n",
            "\u001b[A\n",
            "\u001b[A"
          ]
        },
        {
          "name": "stdout",
          "output_type": "stream",
          "text": [
            "{'eval_loss': 0.19287186861038208, 'eval_accuracy': 0.9722222222222222, 'eval_runtime': 0.4363, 'eval_samples_per_second': 82.512, 'eval_steps_per_second': 11.46, 'epoch': 48.0}\n"
          ]
        },
        {
          "name": "stderr",
          "output_type": "stream",
          "text": [
            " 49%|████▉     | 882/1800 [10:08<10:00,  1.53it/s]\n",
            " 49%|████▉     | 882/1800 [10:08<10:00,  1.53it/s]"
          ]
        },
        {
          "name": "stdout",
          "output_type": "stream",
          "text": [
            "{'loss': 0.0, 'grad_norm': 0.00012139226600993425, 'learning_rate': 0.00010200000000000001, 'epoch': 49.0}\n"
          ]
        },
        {
          "name": "stderr",
          "output_type": "stream",
          "text": [
            "\n",
            "\u001b[A\n",
            "\u001b[A\n",
            "\u001b[A\n",
            "                                                  \n",
            "\n",
            " 49%|████▉     | 882/1800 [10:09<10:00,  1.53it/s]\n",
            "\u001b[A\n",
            "\u001b[A"
          ]
        },
        {
          "name": "stdout",
          "output_type": "stream",
          "text": [
            "{'eval_loss': 0.19418658316135406, 'eval_accuracy': 0.9722222222222222, 'eval_runtime': 0.4348, 'eval_samples_per_second': 82.791, 'eval_steps_per_second': 11.499, 'epoch': 49.0}\n"
          ]
        },
        {
          "name": "stderr",
          "output_type": "stream",
          "text": [
            " 50%|█████     | 900/1800 [10:21<09:33,  1.57it/s]\n",
            " 50%|█████     | 900/1800 [10:21<09:33,  1.57it/s]"
          ]
        },
        {
          "name": "stdout",
          "output_type": "stream",
          "text": [
            "{'loss': 0.0, 'grad_norm': 0.0001791545219020918, 'learning_rate': 0.0001, 'epoch': 50.0}\n"
          ]
        },
        {
          "name": "stderr",
          "output_type": "stream",
          "text": [
            "\n",
            "\u001b[A\n",
            "\u001b[A\n",
            "\u001b[A\n",
            "                                                  \n",
            "\n",
            " 50%|█████     | 900/1800 [10:21<09:33,  1.57it/s]\n",
            "\u001b[A\n",
            "\u001b[A"
          ]
        },
        {
          "name": "stdout",
          "output_type": "stream",
          "text": [
            "{'eval_loss': 0.1954144835472107, 'eval_accuracy': 0.9722222222222222, 'eval_runtime': 0.4339, 'eval_samples_per_second': 82.964, 'eval_steps_per_second': 11.523, 'epoch': 50.0}\n"
          ]
        },
        {
          "name": "stderr",
          "output_type": "stream",
          "text": [
            " 51%|█████     | 918/1800 [10:33<09:29,  1.55it/s]\n",
            " 51%|█████     | 918/1800 [10:33<09:29,  1.55it/s]"
          ]
        },
        {
          "name": "stdout",
          "output_type": "stream",
          "text": [
            "{'loss': 0.0, 'grad_norm': 0.00016530801076442003, 'learning_rate': 9.8e-05, 'epoch': 51.0}\n"
          ]
        },
        {
          "name": "stderr",
          "output_type": "stream",
          "text": [
            "\n",
            "\u001b[A\n",
            "\u001b[A\n",
            "\u001b[A\n",
            "                                                  \n",
            "\n",
            " 51%|█████     | 918/1800 [10:33<09:29,  1.55it/s]\n",
            "\u001b[A\n",
            "\u001b[A"
          ]
        },
        {
          "name": "stdout",
          "output_type": "stream",
          "text": [
            "{'eval_loss': 0.19649659097194672, 'eval_accuracy': 0.9722222222222222, 'eval_runtime': 0.447, 'eval_samples_per_second': 80.535, 'eval_steps_per_second': 11.185, 'epoch': 51.0}\n"
          ]
        },
        {
          "name": "stderr",
          "output_type": "stream",
          "text": [
            " 52%|█████▏    | 936/1800 [10:48<10:40,  1.35it/s]\n",
            " 52%|█████▏    | 936/1800 [10:48<10:40,  1.35it/s]"
          ]
        },
        {
          "name": "stdout",
          "output_type": "stream",
          "text": [
            "{'loss': 0.0, 'grad_norm': 0.0004268248158041388, 'learning_rate': 9.6e-05, 'epoch': 52.0}\n"
          ]
        },
        {
          "name": "stderr",
          "output_type": "stream",
          "text": [
            "\n",
            "\u001b[A\n",
            "\u001b[A\n",
            "\u001b[A\n",
            "                                                  \n",
            "\n",
            " 52%|█████▏    | 936/1800 [10:48<10:40,  1.35it/s]\n",
            "\u001b[A\n",
            "\u001b[A"
          ]
        },
        {
          "name": "stdout",
          "output_type": "stream",
          "text": [
            "{'eval_loss': 0.1975024789571762, 'eval_accuracy': 0.9722222222222222, 'eval_runtime': 0.5037, 'eval_samples_per_second': 71.478, 'eval_steps_per_second': 9.927, 'epoch': 52.0}\n"
          ]
        },
        {
          "name": "stderr",
          "output_type": "stream",
          "text": [
            " 53%|█████▎    | 954/1800 [11:03<12:12,  1.16it/s]\n",
            " 53%|█████▎    | 954/1800 [11:03<12:12,  1.16it/s]"
          ]
        },
        {
          "name": "stdout",
          "output_type": "stream",
          "text": [
            "{'loss': 0.0, 'grad_norm': 0.00033101410372182727, 'learning_rate': 9.4e-05, 'epoch': 53.0}\n"
          ]
        },
        {
          "name": "stderr",
          "output_type": "stream",
          "text": [
            "\n",
            "\u001b[A\n",
            "\u001b[A\n",
            "\u001b[A\n",
            "                                                  \n",
            "\n",
            " 53%|█████▎    | 954/1800 [11:03<12:12,  1.16it/s]\n",
            "\u001b[A\n",
            "\u001b[A"
          ]
        },
        {
          "name": "stdout",
          "output_type": "stream",
          "text": [
            "{'eval_loss': 0.19837133586406708, 'eval_accuracy': 0.9722222222222222, 'eval_runtime': 0.5655, 'eval_samples_per_second': 63.665, 'eval_steps_per_second': 8.842, 'epoch': 53.0}\n"
          ]
        },
        {
          "name": "stderr",
          "output_type": "stream",
          "text": [
            " 54%|█████▍    | 972/1800 [11:17<09:10,  1.50it/s]\n",
            " 54%|█████▍    | 972/1800 [11:17<09:10,  1.50it/s]"
          ]
        },
        {
          "name": "stdout",
          "output_type": "stream",
          "text": [
            "{'loss': 0.0, 'grad_norm': 0.00013621592370327562, 'learning_rate': 9.200000000000001e-05, 'epoch': 54.0}\n"
          ]
        },
        {
          "name": "stderr",
          "output_type": "stream",
          "text": [
            "\n",
            "\u001b[A\n",
            "\u001b[A\n",
            "\u001b[A\n",
            "                                                  \n",
            "\n",
            " 54%|█████▍    | 972/1800 [11:17<09:10,  1.50it/s]\n",
            "\u001b[A\n",
            "\u001b[A"
          ]
        },
        {
          "name": "stdout",
          "output_type": "stream",
          "text": [
            "{'eval_loss': 0.19991958141326904, 'eval_accuracy': 0.9722222222222222, 'eval_runtime': 0.4533, 'eval_samples_per_second': 79.423, 'eval_steps_per_second': 11.031, 'epoch': 54.0}\n"
          ]
        },
        {
          "name": "stderr",
          "output_type": "stream",
          "text": [
            " 55%|█████▌    | 990/1800 [11:30<08:52,  1.52it/s]\n",
            " 55%|█████▌    | 990/1800 [11:30<08:52,  1.52it/s]"
          ]
        },
        {
          "name": "stdout",
          "output_type": "stream",
          "text": [
            "{'loss': 0.0, 'grad_norm': 0.00026955464272759855, 'learning_rate': 9e-05, 'epoch': 55.0}\n"
          ]
        },
        {
          "name": "stderr",
          "output_type": "stream",
          "text": [
            "\n",
            "\u001b[A\n",
            "\u001b[A\n",
            "\u001b[A\n",
            "                                                  \n",
            "\n",
            " 55%|█████▌    | 990/1800 [11:30<08:52,  1.52it/s]\n",
            "\u001b[A\n",
            "\u001b[A"
          ]
        },
        {
          "name": "stdout",
          "output_type": "stream",
          "text": [
            "{'eval_loss': 0.20118866860866547, 'eval_accuracy': 0.9722222222222222, 'eval_runtime': 0.4435, 'eval_samples_per_second': 81.174, 'eval_steps_per_second': 11.274, 'epoch': 55.0}\n"
          ]
        },
        {
          "name": "stderr",
          "output_type": "stream",
          "text": [
            " 56%|█████▌    | 1008/1800 [11:43<08:50,  1.49it/s]\n",
            " 56%|█████▌    | 1008/1800 [11:43<08:50,  1.49it/s]"
          ]
        },
        {
          "name": "stdout",
          "output_type": "stream",
          "text": [
            "{'loss': 0.0, 'grad_norm': 9.584546933183447e-05, 'learning_rate': 8.800000000000001e-05, 'epoch': 56.0}\n"
          ]
        },
        {
          "name": "stderr",
          "output_type": "stream",
          "text": [
            "\n",
            "\u001b[A\n",
            "\u001b[A\n",
            "\u001b[A\n",
            "                                                   \n",
            "\n",
            " 56%|█████▌    | 1008/1800 [11:43<08:50,  1.49it/s]\n",
            "\u001b[A\n",
            "\u001b[A"
          ]
        },
        {
          "name": "stdout",
          "output_type": "stream",
          "text": [
            "{'eval_loss': 0.20223532617092133, 'eval_accuracy': 0.9722222222222222, 'eval_runtime': 0.4245, 'eval_samples_per_second': 84.799, 'eval_steps_per_second': 11.778, 'epoch': 56.0}\n"
          ]
        },
        {
          "name": "stderr",
          "output_type": "stream",
          "text": [
            " 57%|█████▋    | 1026/1800 [11:56<08:31,  1.51it/s]\n",
            " 57%|█████▋    | 1026/1800 [11:56<08:31,  1.51it/s]"
          ]
        },
        {
          "name": "stdout",
          "output_type": "stream",
          "text": [
            "{'loss': 0.0, 'grad_norm': 0.00011114701192127541, 'learning_rate': 8.6e-05, 'epoch': 57.0}\n"
          ]
        },
        {
          "name": "stderr",
          "output_type": "stream",
          "text": [
            "\n",
            "\u001b[A\n",
            "\u001b[A\n",
            "\u001b[A\n",
            "                                                   \n",
            "\n",
            " 57%|█████▋    | 1026/1800 [11:56<08:31,  1.51it/s]\n",
            "\u001b[A\n",
            "\u001b[A"
          ]
        },
        {
          "name": "stdout",
          "output_type": "stream",
          "text": [
            "{'eval_loss': 0.2033417820930481, 'eval_accuracy': 0.9722222222222222, 'eval_runtime': 0.436, 'eval_samples_per_second': 82.574, 'eval_steps_per_second': 11.469, 'epoch': 57.0}\n"
          ]
        },
        {
          "name": "stderr",
          "output_type": "stream",
          "text": [
            " 58%|█████▊    | 1044/1800 [12:08<08:26,  1.49it/s]\n",
            " 58%|█████▊    | 1044/1800 [12:08<08:26,  1.49it/s]"
          ]
        },
        {
          "name": "stdout",
          "output_type": "stream",
          "text": [
            "{'loss': 0.0, 'grad_norm': 0.00013552889868151397, 'learning_rate': 8.4e-05, 'epoch': 58.0}\n"
          ]
        },
        {
          "name": "stderr",
          "output_type": "stream",
          "text": [
            "\n",
            "\u001b[A\n",
            "\u001b[A\n",
            "\u001b[A\n",
            "                                                   \n",
            "\n",
            " 58%|█████▊    | 1044/1800 [12:09<08:26,  1.49it/s]\n",
            "\u001b[A\n",
            "\u001b[A"
          ]
        },
        {
          "name": "stdout",
          "output_type": "stream",
          "text": [
            "{'eval_loss': 0.20488986372947693, 'eval_accuracy': 0.9722222222222222, 'eval_runtime': 0.4515, 'eval_samples_per_second': 79.733, 'eval_steps_per_second': 11.074, 'epoch': 58.0}\n"
          ]
        },
        {
          "name": "stderr",
          "output_type": "stream",
          "text": [
            " 59%|█████▉    | 1062/1800 [12:21<08:03,  1.52it/s]\n",
            " 59%|█████▉    | 1062/1800 [12:21<08:03,  1.52it/s]"
          ]
        },
        {
          "name": "stdout",
          "output_type": "stream",
          "text": [
            "{'loss': 0.0, 'grad_norm': 0.00023481664538849145, 'learning_rate': 8.2e-05, 'epoch': 59.0}\n"
          ]
        },
        {
          "name": "stderr",
          "output_type": "stream",
          "text": [
            "\n",
            "\u001b[A\n",
            "\u001b[A\n",
            "\u001b[A\n",
            "                                                   \n",
            "\n",
            " 59%|█████▉    | 1062/1800 [12:21<08:03,  1.52it/s]\n",
            "\u001b[A\n",
            "\u001b[A"
          ]
        },
        {
          "name": "stdout",
          "output_type": "stream",
          "text": [
            "{'eval_loss': 0.20566672086715698, 'eval_accuracy': 0.9722222222222222, 'eval_runtime': 0.4284, 'eval_samples_per_second': 84.037, 'eval_steps_per_second': 11.672, 'epoch': 59.0}\n"
          ]
        },
        {
          "name": "stderr",
          "output_type": "stream",
          "text": [
            " 60%|██████    | 1080/1800 [12:33<07:49,  1.53it/s]\n",
            " 60%|██████    | 1080/1800 [12:33<07:49,  1.53it/s]"
          ]
        },
        {
          "name": "stdout",
          "output_type": "stream",
          "text": [
            "{'loss': 0.0, 'grad_norm': 0.00011073659698013216, 'learning_rate': 8e-05, 'epoch': 60.0}\n"
          ]
        },
        {
          "name": "stderr",
          "output_type": "stream",
          "text": [
            "\n",
            "\u001b[A\n",
            "\u001b[A\n",
            "\u001b[A\n",
            "                                                   \n",
            "\n",
            " 60%|██████    | 1080/1800 [12:34<07:49,  1.53it/s]\n",
            "\u001b[A\n",
            "\u001b[A"
          ]
        },
        {
          "name": "stdout",
          "output_type": "stream",
          "text": [
            "{'eval_loss': 0.2065998911857605, 'eval_accuracy': 0.9722222222222222, 'eval_runtime': 0.4377, 'eval_samples_per_second': 82.245, 'eval_steps_per_second': 11.423, 'epoch': 60.0}\n"
          ]
        },
        {
          "name": "stderr",
          "output_type": "stream",
          "text": [
            " 61%|██████    | 1098/1800 [12:46<07:35,  1.54it/s]\n",
            " 61%|██████    | 1098/1800 [12:46<07:35,  1.54it/s]"
          ]
        },
        {
          "name": "stdout",
          "output_type": "stream",
          "text": [
            "{'loss': 0.0, 'grad_norm': 0.0002726956154219806, 'learning_rate': 7.800000000000001e-05, 'epoch': 61.0}\n"
          ]
        },
        {
          "name": "stderr",
          "output_type": "stream",
          "text": [
            "\n",
            "\u001b[A\n",
            "\u001b[A\n",
            "\u001b[A\n",
            "                                                   \n",
            "\n",
            " 61%|██████    | 1098/1800 [12:46<07:35,  1.54it/s]\n",
            "\u001b[A\n",
            "\u001b[A"
          ]
        },
        {
          "name": "stdout",
          "output_type": "stream",
          "text": [
            "{'eval_loss': 0.2074417769908905, 'eval_accuracy': 0.9722222222222222, 'eval_runtime': 0.4306, 'eval_samples_per_second': 83.599, 'eval_steps_per_second': 11.611, 'epoch': 61.0}\n"
          ]
        },
        {
          "name": "stderr",
          "output_type": "stream",
          "text": [
            " 62%|██████▏   | 1116/1800 [12:58<07:33,  1.51it/s]\n",
            " 62%|██████▏   | 1116/1800 [12:58<07:33,  1.51it/s]"
          ]
        },
        {
          "name": "stdout",
          "output_type": "stream",
          "text": [
            "{'loss': 0.0, 'grad_norm': 0.0013176221400499344, 'learning_rate': 7.6e-05, 'epoch': 62.0}\n"
          ]
        },
        {
          "name": "stderr",
          "output_type": "stream",
          "text": [
            "\n",
            "\u001b[A\n",
            "\u001b[A\n",
            "\u001b[A\n",
            "                                                   \n",
            "\n",
            " 62%|██████▏   | 1116/1800 [12:59<07:33,  1.51it/s]\n",
            "\u001b[A\n",
            "\u001b[A"
          ]
        },
        {
          "name": "stdout",
          "output_type": "stream",
          "text": [
            "{'eval_loss': 0.20847521722316742, 'eval_accuracy': 0.9722222222222222, 'eval_runtime': 0.4313, 'eval_samples_per_second': 83.475, 'eval_steps_per_second': 11.594, 'epoch': 62.0}\n"
          ]
        },
        {
          "name": "stderr",
          "output_type": "stream",
          "text": [
            " 63%|██████▎   | 1134/1800 [13:11<07:17,  1.52it/s]\n",
            " 63%|██████▎   | 1134/1800 [13:11<07:17,  1.52it/s]"
          ]
        },
        {
          "name": "stdout",
          "output_type": "stream",
          "text": [
            "{'loss': 0.0, 'grad_norm': 0.00012216626782901585, 'learning_rate': 7.4e-05, 'epoch': 63.0}\n"
          ]
        },
        {
          "name": "stderr",
          "output_type": "stream",
          "text": [
            "\n",
            "\u001b[A\n",
            "\u001b[A\n",
            "\u001b[A\n",
            "                                                   \n",
            "\n",
            " 63%|██████▎   | 1134/1800 [13:11<07:17,  1.52it/s]\n",
            "\u001b[A\n",
            "\u001b[A"
          ]
        },
        {
          "name": "stdout",
          "output_type": "stream",
          "text": [
            "{'eval_loss': 0.20924586057662964, 'eval_accuracy': 0.9722222222222222, 'eval_runtime': 0.4448, 'eval_samples_per_second': 80.929, 'eval_steps_per_second': 11.24, 'epoch': 63.0}\n"
          ]
        },
        {
          "name": "stderr",
          "output_type": "stream",
          "text": [
            " 64%|██████▍   | 1152/1800 [13:24<07:26,  1.45it/s]\n",
            " 64%|██████▍   | 1152/1800 [13:24<07:26,  1.45it/s]"
          ]
        },
        {
          "name": "stdout",
          "output_type": "stream",
          "text": [
            "{'loss': 0.0, 'grad_norm': 0.00012943369802087545, 'learning_rate': 7.2e-05, 'epoch': 64.0}\n"
          ]
        },
        {
          "name": "stderr",
          "output_type": "stream",
          "text": [
            "\n",
            "\u001b[A\n",
            "\u001b[A\n",
            "\u001b[A\n",
            "                                                   \n",
            "\n",
            " 64%|██████▍   | 1152/1800 [13:25<07:26,  1.45it/s]\n",
            "\u001b[A\n",
            "\u001b[A"
          ]
        },
        {
          "name": "stdout",
          "output_type": "stream",
          "text": [
            "{'eval_loss': 0.20992590487003326, 'eval_accuracy': 0.9722222222222222, 'eval_runtime': 0.461, 'eval_samples_per_second': 78.089, 'eval_steps_per_second': 10.846, 'epoch': 64.0}\n"
          ]
        },
        {
          "name": "stderr",
          "output_type": "stream",
          "text": [
            " 65%|██████▌   | 1170/1800 [13:37<06:48,  1.54it/s]\n",
            " 65%|██████▌   | 1170/1800 [13:37<06:48,  1.54it/s]"
          ]
        },
        {
          "name": "stdout",
          "output_type": "stream",
          "text": [
            "{'loss': 0.0, 'grad_norm': 0.00014427107817027718, 'learning_rate': 7e-05, 'epoch': 65.0}\n"
          ]
        },
        {
          "name": "stderr",
          "output_type": "stream",
          "text": [
            "\n",
            "\u001b[A\n",
            "\u001b[A\n",
            "\u001b[A\n",
            "                                                   \n",
            "\n",
            " 65%|██████▌   | 1170/1800 [13:37<06:48,  1.54it/s]\n",
            "\u001b[A\n",
            "\u001b[A"
          ]
        },
        {
          "name": "stdout",
          "output_type": "stream",
          "text": [
            "{'eval_loss': 0.2106749564409256, 'eval_accuracy': 0.9722222222222222, 'eval_runtime': 0.4328, 'eval_samples_per_second': 83.174, 'eval_steps_per_second': 11.552, 'epoch': 65.0}\n"
          ]
        },
        {
          "name": "stderr",
          "output_type": "stream",
          "text": [
            " 66%|██████▌   | 1188/1800 [13:49<06:35,  1.55it/s]\n",
            " 66%|██████▌   | 1188/1800 [13:49<06:35,  1.55it/s]"
          ]
        },
        {
          "name": "stdout",
          "output_type": "stream",
          "text": [
            "{'loss': 0.0, 'grad_norm': 6.767958257114515e-05, 'learning_rate': 6.800000000000001e-05, 'epoch': 66.0}\n"
          ]
        },
        {
          "name": "stderr",
          "output_type": "stream",
          "text": [
            "\n",
            "\u001b[A\n",
            "\u001b[A\n",
            "\u001b[A\n",
            "                                                   \n",
            "\n",
            " 66%|██████▌   | 1188/1800 [13:50<06:35,  1.55it/s]\n",
            "\u001b[A\n",
            "\u001b[A"
          ]
        },
        {
          "name": "stdout",
          "output_type": "stream",
          "text": [
            "{'eval_loss': 0.2115079164505005, 'eval_accuracy': 0.9722222222222222, 'eval_runtime': 0.4394, 'eval_samples_per_second': 81.934, 'eval_steps_per_second': 11.38, 'epoch': 66.0}\n"
          ]
        },
        {
          "name": "stderr",
          "output_type": "stream",
          "text": [
            " 67%|██████▋   | 1206/1800 [14:01<06:30,  1.52it/s]\n",
            " 67%|██████▋   | 1206/1800 [14:01<06:30,  1.52it/s]"
          ]
        },
        {
          "name": "stdout",
          "output_type": "stream",
          "text": [
            "{'loss': 0.0, 'grad_norm': 0.0003530716057866812, 'learning_rate': 6.6e-05, 'epoch': 67.0}\n"
          ]
        },
        {
          "name": "stderr",
          "output_type": "stream",
          "text": [
            "\n",
            "\u001b[A\n",
            "\u001b[A\n",
            "\u001b[A\n",
            "                                                   \n",
            "\n",
            " 67%|██████▋   | 1206/1800 [14:02<06:30,  1.52it/s]\n",
            "\u001b[A\n",
            "\u001b[A"
          ]
        },
        {
          "name": "stdout",
          "output_type": "stream",
          "text": [
            "{'eval_loss': 0.21210867166519165, 'eval_accuracy': 0.9722222222222222, 'eval_runtime': 0.428, 'eval_samples_per_second': 84.108, 'eval_steps_per_second': 11.682, 'epoch': 67.0}\n"
          ]
        },
        {
          "name": "stderr",
          "output_type": "stream",
          "text": [
            " 68%|██████▊   | 1224/1800 [14:14<06:18,  1.52it/s]\n",
            " 68%|██████▊   | 1224/1800 [14:14<06:18,  1.52it/s]"
          ]
        },
        {
          "name": "stdout",
          "output_type": "stream",
          "text": [
            "{'loss': 0.0, 'grad_norm': 0.00030668292311020195, 'learning_rate': 6.400000000000001e-05, 'epoch': 68.0}\n"
          ]
        },
        {
          "name": "stderr",
          "output_type": "stream",
          "text": [
            "\n",
            "\u001b[A\n",
            "\u001b[A\n",
            "\u001b[A\n",
            "                                                   \n",
            "\n",
            " 68%|██████▊   | 1224/1800 [14:15<06:18,  1.52it/s]\n",
            "\u001b[A\n",
            "\u001b[A"
          ]
        },
        {
          "name": "stdout",
          "output_type": "stream",
          "text": [
            "{'eval_loss': 0.2127646654844284, 'eval_accuracy': 0.9722222222222222, 'eval_runtime': 0.4257, 'eval_samples_per_second': 84.566, 'eval_steps_per_second': 11.745, 'epoch': 68.0}\n"
          ]
        },
        {
          "name": "stderr",
          "output_type": "stream",
          "text": [
            " 69%|██████▉   | 1242/1800 [14:26<05:58,  1.56it/s]\n",
            " 69%|██████▉   | 1242/1800 [14:26<05:58,  1.56it/s]"
          ]
        },
        {
          "name": "stdout",
          "output_type": "stream",
          "text": [
            "{'loss': 0.0, 'grad_norm': 0.00012169845285825431, 'learning_rate': 6.2e-05, 'epoch': 69.0}\n"
          ]
        },
        {
          "name": "stderr",
          "output_type": "stream",
          "text": [
            "\n",
            "\u001b[A\n",
            "\u001b[A\n",
            "\u001b[A\n",
            "                                                   \n",
            "\n",
            " 69%|██████▉   | 1242/1800 [14:27<05:58,  1.56it/s]\n",
            "\u001b[A\n",
            "\u001b[A"
          ]
        },
        {
          "name": "stdout",
          "output_type": "stream",
          "text": [
            "{'eval_loss': 0.21301931142807007, 'eval_accuracy': 0.9722222222222222, 'eval_runtime': 0.4318, 'eval_samples_per_second': 83.37, 'eval_steps_per_second': 11.579, 'epoch': 69.0}\n"
          ]
        },
        {
          "name": "stderr",
          "output_type": "stream",
          "text": [
            " 70%|███████   | 1260/1800 [14:39<06:00,  1.50it/s]\n",
            " 70%|███████   | 1260/1800 [14:39<06:00,  1.50it/s]"
          ]
        },
        {
          "name": "stdout",
          "output_type": "stream",
          "text": [
            "{'loss': 0.0, 'grad_norm': 0.0002712146088015288, 'learning_rate': 6e-05, 'epoch': 70.0}\n"
          ]
        },
        {
          "name": "stderr",
          "output_type": "stream",
          "text": [
            "\n",
            "\u001b[A\n",
            "\u001b[A\n",
            "\u001b[A\n",
            "                                                   \n",
            "\n",
            " 70%|███████   | 1260/1800 [14:40<06:00,  1.50it/s]\n",
            "\u001b[A\n",
            "\u001b[A"
          ]
        },
        {
          "name": "stdout",
          "output_type": "stream",
          "text": [
            "{'eval_loss': 0.21337735652923584, 'eval_accuracy': 0.9722222222222222, 'eval_runtime': 0.4355, 'eval_samples_per_second': 82.661, 'eval_steps_per_second': 11.481, 'epoch': 70.0}\n"
          ]
        },
        {
          "name": "stderr",
          "output_type": "stream",
          "text": [
            " 71%|███████   | 1278/1800 [14:52<05:44,  1.51it/s]\n",
            " 71%|███████   | 1278/1800 [14:52<05:44,  1.51it/s]"
          ]
        },
        {
          "name": "stdout",
          "output_type": "stream",
          "text": [
            "{'loss': 0.0, 'grad_norm': 7.425330113619566e-05, 'learning_rate': 5.8e-05, 'epoch': 71.0}\n"
          ]
        },
        {
          "name": "stderr",
          "output_type": "stream",
          "text": [
            "\n",
            "\u001b[A\n",
            "\u001b[A\n",
            "\u001b[A\n",
            "                                                   \n",
            "\n",
            " 71%|███████   | 1278/1800 [14:53<05:44,  1.51it/s]\n",
            "\u001b[A\n",
            "\u001b[A"
          ]
        },
        {
          "name": "stdout",
          "output_type": "stream",
          "text": [
            "{'eval_loss': 0.2135070115327835, 'eval_accuracy': 0.9722222222222222, 'eval_runtime': 0.4468, 'eval_samples_per_second': 80.569, 'eval_steps_per_second': 11.19, 'epoch': 71.0}\n"
          ]
        },
        {
          "name": "stderr",
          "output_type": "stream",
          "text": [
            " 72%|███████▏  | 1296/1800 [15:05<05:31,  1.52it/s]\n",
            " 72%|███████▏  | 1296/1800 [15:05<05:31,  1.52it/s]"
          ]
        },
        {
          "name": "stdout",
          "output_type": "stream",
          "text": [
            "{'loss': 0.0, 'grad_norm': 0.00011550785711733624, 'learning_rate': 5.6000000000000006e-05, 'epoch': 72.0}\n"
          ]
        },
        {
          "name": "stderr",
          "output_type": "stream",
          "text": [
            "\n",
            "\u001b[A\n",
            "\u001b[A\n",
            "\u001b[A\n",
            "                                                   \n",
            "\n",
            " 72%|███████▏  | 1296/1800 [15:05<05:31,  1.52it/s]\n",
            "\u001b[A\n",
            "\u001b[A"
          ]
        },
        {
          "name": "stdout",
          "output_type": "stream",
          "text": [
            "{'eval_loss': 0.21408693492412567, 'eval_accuracy': 0.9722222222222222, 'eval_runtime': 0.4378, 'eval_samples_per_second': 82.221, 'eval_steps_per_second': 11.42, 'epoch': 72.0}\n"
          ]
        },
        {
          "name": "stderr",
          "output_type": "stream",
          "text": [
            " 73%|███████▎  | 1314/1800 [15:17<05:16,  1.53it/s]\n",
            " 73%|███████▎  | 1314/1800 [15:17<05:16,  1.53it/s]"
          ]
        },
        {
          "name": "stdout",
          "output_type": "stream",
          "text": [
            "{'loss': 0.0, 'grad_norm': 0.00010365120397182181, 'learning_rate': 5.4000000000000005e-05, 'epoch': 73.0}\n"
          ]
        },
        {
          "name": "stderr",
          "output_type": "stream",
          "text": [
            "\n",
            "\u001b[A\n",
            "\u001b[A\n",
            "\u001b[A\n",
            "                                                   \n",
            "\n",
            " 73%|███████▎  | 1314/1800 [15:18<05:16,  1.53it/s]\n",
            "\u001b[A\n",
            "\u001b[A"
          ]
        },
        {
          "name": "stdout",
          "output_type": "stream",
          "text": [
            "{'eval_loss': 0.21491368114948273, 'eval_accuracy': 0.9722222222222222, 'eval_runtime': 0.4374, 'eval_samples_per_second': 82.307, 'eval_steps_per_second': 11.431, 'epoch': 73.0}\n"
          ]
        },
        {
          "name": "stderr",
          "output_type": "stream",
          "text": [
            " 74%|███████▍  | 1332/1800 [15:30<05:07,  1.52it/s]\n",
            " 74%|███████▍  | 1332/1800 [15:30<05:07,  1.52it/s]"
          ]
        },
        {
          "name": "stdout",
          "output_type": "stream",
          "text": [
            "{'loss': 0.0, 'grad_norm': 0.00010773027315735817, 'learning_rate': 5.2000000000000004e-05, 'epoch': 74.0}\n"
          ]
        },
        {
          "name": "stderr",
          "output_type": "stream",
          "text": [
            "\n",
            "\u001b[A\n",
            "\u001b[A\n",
            "\u001b[A\n",
            "                                                   \n",
            "\n",
            " 74%|███████▍  | 1332/1800 [15:30<05:07,  1.52it/s]\n",
            "\u001b[A\n",
            "\u001b[A"
          ]
        },
        {
          "name": "stdout",
          "output_type": "stream",
          "text": [
            "{'eval_loss': 0.21502341330051422, 'eval_accuracy': 0.9722222222222222, 'eval_runtime': 0.4341, 'eval_samples_per_second': 82.922, 'eval_steps_per_second': 11.517, 'epoch': 74.0}\n"
          ]
        },
        {
          "name": "stderr",
          "output_type": "stream",
          "text": [
            " 75%|███████▌  | 1350/1800 [15:43<04:59,  1.50it/s]\n",
            " 75%|███████▌  | 1350/1800 [15:43<04:59,  1.50it/s]"
          ]
        },
        {
          "name": "stdout",
          "output_type": "stream",
          "text": [
            "{'loss': 0.0, 'grad_norm': 0.0009973517153412104, 'learning_rate': 5e-05, 'epoch': 75.0}\n"
          ]
        },
        {
          "name": "stderr",
          "output_type": "stream",
          "text": [
            "\n",
            "\u001b[A\n",
            "\u001b[A\n",
            "\u001b[A\n",
            "                                                   \n",
            "\n",
            " 75%|███████▌  | 1350/1800 [15:43<04:59,  1.50it/s]\n",
            "\u001b[A\n",
            "\u001b[A"
          ]
        },
        {
          "name": "stdout",
          "output_type": "stream",
          "text": [
            "{'eval_loss': 0.21536195278167725, 'eval_accuracy': 0.9722222222222222, 'eval_runtime': 0.434, 'eval_samples_per_second': 82.953, 'eval_steps_per_second': 11.521, 'epoch': 75.0}\n"
          ]
        },
        {
          "name": "stderr",
          "output_type": "stream",
          "text": [
            " 76%|███████▌  | 1368/1800 [15:56<04:44,  1.52it/s]\n",
            " 76%|███████▌  | 1368/1800 [15:56<04:44,  1.52it/s]"
          ]
        },
        {
          "name": "stdout",
          "output_type": "stream",
          "text": [
            "{'loss': 0.0, 'grad_norm': 0.00014327262761071324, 'learning_rate': 4.8e-05, 'epoch': 76.0}\n"
          ]
        },
        {
          "name": "stderr",
          "output_type": "stream",
          "text": [
            "\n",
            "\u001b[A\n",
            "\u001b[A\n",
            "\u001b[A\n",
            "                                                   \n",
            "\n",
            " 76%|███████▌  | 1368/1800 [15:56<04:44,  1.52it/s]\n",
            "\u001b[A\n",
            "\u001b[A"
          ]
        },
        {
          "name": "stdout",
          "output_type": "stream",
          "text": [
            "{'eval_loss': 0.2160838395357132, 'eval_accuracy': 0.9722222222222222, 'eval_runtime': 0.4426, 'eval_samples_per_second': 81.345, 'eval_steps_per_second': 11.298, 'epoch': 76.0}\n"
          ]
        },
        {
          "name": "stderr",
          "output_type": "stream",
          "text": [
            " 77%|███████▋  | 1386/1800 [16:08<04:37,  1.49it/s]\n",
            " 77%|███████▋  | 1386/1800 [16:08<04:37,  1.49it/s]"
          ]
        },
        {
          "name": "stdout",
          "output_type": "stream",
          "text": [
            "{'loss': 0.0, 'grad_norm': 0.00019800312293227762, 'learning_rate': 4.600000000000001e-05, 'epoch': 77.0}\n"
          ]
        },
        {
          "name": "stderr",
          "output_type": "stream",
          "text": [
            "\n",
            "\u001b[A\n",
            "\u001b[A\n",
            "\u001b[A\n",
            "                                                   \n",
            "\n",
            " 77%|███████▋  | 1386/1800 [16:09<04:37,  1.49it/s]\n",
            "\u001b[A\n",
            "\u001b[A"
          ]
        },
        {
          "name": "stdout",
          "output_type": "stream",
          "text": [
            "{'eval_loss': 0.2164168357849121, 'eval_accuracy': 0.9722222222222222, 'eval_runtime': 0.4381, 'eval_samples_per_second': 82.17, 'eval_steps_per_second': 11.412, 'epoch': 77.0}\n"
          ]
        },
        {
          "name": "stderr",
          "output_type": "stream",
          "text": [
            " 78%|███████▊  | 1404/1800 [16:21<04:25,  1.49it/s]\n",
            " 78%|███████▊  | 1404/1800 [16:21<04:25,  1.49it/s]"
          ]
        },
        {
          "name": "stdout",
          "output_type": "stream",
          "text": [
            "{'loss': 0.0, 'grad_norm': 0.00045291788410395384, 'learning_rate': 4.4000000000000006e-05, 'epoch': 78.0}\n"
          ]
        },
        {
          "name": "stderr",
          "output_type": "stream",
          "text": [
            "\n",
            "\u001b[A\n",
            "\u001b[A\n",
            "\u001b[A\n",
            "                                                   \n",
            "\n",
            " 78%|███████▊  | 1404/1800 [16:21<04:25,  1.49it/s]\n",
            "\u001b[A\n",
            "\u001b[A"
          ]
        },
        {
          "name": "stdout",
          "output_type": "stream",
          "text": [
            "{'eval_loss': 0.21675221621990204, 'eval_accuracy': 0.9722222222222222, 'eval_runtime': 0.4422, 'eval_samples_per_second': 81.418, 'eval_steps_per_second': 11.308, 'epoch': 78.0}\n"
          ]
        },
        {
          "name": "stderr",
          "output_type": "stream",
          "text": [
            " 79%|███████▉  | 1422/1800 [16:33<04:06,  1.54it/s]\n",
            " 79%|███████▉  | 1422/1800 [16:33<04:06,  1.54it/s]"
          ]
        },
        {
          "name": "stdout",
          "output_type": "stream",
          "text": [
            "{'loss': 0.0, 'grad_norm': 5.0730730436043814e-05, 'learning_rate': 4.2e-05, 'epoch': 79.0}\n"
          ]
        },
        {
          "name": "stderr",
          "output_type": "stream",
          "text": [
            "\n",
            "\u001b[A\n",
            "\u001b[A\n",
            "\u001b[A\n",
            "                                                   \n",
            "\n",
            " 79%|███████▉  | 1422/1800 [16:34<04:06,  1.54it/s]\n",
            "\u001b[A\n",
            "\u001b[A"
          ]
        },
        {
          "name": "stdout",
          "output_type": "stream",
          "text": [
            "{'eval_loss': 0.21716172993183136, 'eval_accuracy': 0.9722222222222222, 'eval_runtime': 0.4459, 'eval_samples_per_second': 80.741, 'eval_steps_per_second': 11.214, 'epoch': 79.0}\n"
          ]
        },
        {
          "name": "stderr",
          "output_type": "stream",
          "text": [
            " 80%|████████  | 1440/1800 [16:46<03:55,  1.53it/s]\n",
            " 80%|████████  | 1440/1800 [16:46<03:55,  1.53it/s]"
          ]
        },
        {
          "name": "stdout",
          "output_type": "stream",
          "text": [
            "{'loss': 0.0, 'grad_norm': 0.00014575109526049346, 'learning_rate': 4e-05, 'epoch': 80.0}\n"
          ]
        },
        {
          "name": "stderr",
          "output_type": "stream",
          "text": [
            "\n",
            "\u001b[A\n",
            "\u001b[A\n",
            "\u001b[A\n",
            "                                                   \n",
            "\n",
            " 80%|████████  | 1440/1800 [16:46<03:55,  1.53it/s]\n",
            "\u001b[A\n",
            "\u001b[A"
          ]
        },
        {
          "name": "stdout",
          "output_type": "stream",
          "text": [
            "{'eval_loss': 0.21750587224960327, 'eval_accuracy': 0.9722222222222222, 'eval_runtime': 0.442, 'eval_samples_per_second': 81.445, 'eval_steps_per_second': 11.312, 'epoch': 80.0}\n"
          ]
        },
        {
          "name": "stderr",
          "output_type": "stream",
          "text": [
            " 81%|████████  | 1458/1800 [16:58<03:40,  1.55it/s]\n",
            " 81%|████████  | 1458/1800 [16:58<03:40,  1.55it/s]"
          ]
        },
        {
          "name": "stdout",
          "output_type": "stream",
          "text": [
            "{'loss': 0.0001, 'grad_norm': 1.4582622051239014, 'learning_rate': 3.8e-05, 'epoch': 81.0}\n"
          ]
        },
        {
          "name": "stderr",
          "output_type": "stream",
          "text": [
            "\n",
            "\u001b[A\n",
            "\u001b[A\n",
            "\u001b[A\n",
            "                                                   \n",
            "\n",
            " 81%|████████  | 1458/1800 [16:59<03:40,  1.55it/s]\n",
            "\u001b[A\n",
            "\u001b[A"
          ]
        },
        {
          "name": "stdout",
          "output_type": "stream",
          "text": [
            "{'eval_loss': 0.2708227038383484, 'eval_accuracy': 0.9722222222222222, 'eval_runtime': 0.437, 'eval_samples_per_second': 82.384, 'eval_steps_per_second': 11.442, 'epoch': 81.0}\n"
          ]
        },
        {
          "name": "stderr",
          "output_type": "stream",
          "text": [
            " 82%|████████▏ | 1476/1800 [17:11<03:33,  1.52it/s]\n",
            " 82%|████████▏ | 1476/1800 [17:11<03:33,  1.52it/s]"
          ]
        },
        {
          "name": "stdout",
          "output_type": "stream",
          "text": [
            "{'loss': 0.0133, 'grad_norm': 0.00010289286728948355, 'learning_rate': 3.6e-05, 'epoch': 82.0}\n"
          ]
        },
        {
          "name": "stderr",
          "output_type": "stream",
          "text": [
            "\n",
            "\u001b[A\n",
            "\u001b[A\n",
            "\u001b[A\n",
            "                                                   \n",
            "\n",
            " 82%|████████▏ | 1476/1800 [17:11<03:33,  1.52it/s]\n",
            "\u001b[A\n",
            "\u001b[A"
          ]
        },
        {
          "name": "stdout",
          "output_type": "stream",
          "text": [
            "{'eval_loss': 0.35261034965515137, 'eval_accuracy': 0.9722222222222222, 'eval_runtime': 0.427, 'eval_samples_per_second': 84.309, 'eval_steps_per_second': 11.71, 'epoch': 82.0}\n"
          ]
        },
        {
          "name": "stderr",
          "output_type": "stream",
          "text": [
            " 83%|████████▎ | 1494/1800 [17:23<03:15,  1.57it/s]\n",
            " 83%|████████▎ | 1494/1800 [17:23<03:15,  1.57it/s]"
          ]
        },
        {
          "name": "stdout",
          "output_type": "stream",
          "text": [
            "{'loss': 0.0163, 'grad_norm': 0.0021412542555481195, 'learning_rate': 3.4000000000000007e-05, 'epoch': 83.0}\n"
          ]
        },
        {
          "name": "stderr",
          "output_type": "stream",
          "text": [
            "\n",
            "\u001b[A\n",
            "\u001b[A\n",
            "\u001b[A\n",
            "                                                   \n",
            "\n",
            " 83%|████████▎ | 1494/1800 [17:24<03:15,  1.57it/s]\n",
            "\u001b[A\n",
            "\u001b[A"
          ]
        },
        {
          "name": "stdout",
          "output_type": "stream",
          "text": [
            "{'eval_loss': 0.3406440317630768, 'eval_accuracy': 0.9722222222222222, 'eval_runtime': 0.4096, 'eval_samples_per_second': 87.884, 'eval_steps_per_second': 12.206, 'epoch': 83.0}\n"
          ]
        },
        {
          "name": "stderr",
          "output_type": "stream",
          "text": [
            " 84%|████████▍ | 1512/1800 [17:37<03:08,  1.53it/s]\n",
            " 84%|████████▍ | 1512/1800 [17:37<03:08,  1.53it/s]"
          ]
        },
        {
          "name": "stdout",
          "output_type": "stream",
          "text": [
            "{'loss': 0.0001, 'grad_norm': 0.00014689676754642278, 'learning_rate': 3.2000000000000005e-05, 'epoch': 84.0}\n"
          ]
        },
        {
          "name": "stderr",
          "output_type": "stream",
          "text": [
            "\n",
            "\u001b[A\n",
            "\u001b[A\n",
            "\u001b[A\n",
            "                                                   \n",
            "\n",
            " 84%|████████▍ | 1512/1800 [17:37<03:08,  1.53it/s]\n",
            "\u001b[A\n",
            "\u001b[A"
          ]
        },
        {
          "name": "stdout",
          "output_type": "stream",
          "text": [
            "{'eval_loss': 2.568229683674872e-05, 'eval_accuracy': 1.0, 'eval_runtime': 0.4629, 'eval_samples_per_second': 77.773, 'eval_steps_per_second': 10.802, 'epoch': 84.0}\n"
          ]
        },
        {
          "name": "stderr",
          "output_type": "stream",
          "text": [
            " 85%|████████▌ | 1530/1800 [17:49<02:56,  1.53it/s]\n",
            " 85%|████████▌ | 1530/1800 [17:49<02:56,  1.53it/s]"
          ]
        },
        {
          "name": "stdout",
          "output_type": "stream",
          "text": [
            "{'loss': 0.0046, 'grad_norm': 35.708709716796875, 'learning_rate': 3e-05, 'epoch': 85.0}\n"
          ]
        },
        {
          "name": "stderr",
          "output_type": "stream",
          "text": [
            "\n",
            "\u001b[A\n",
            "\u001b[A\n",
            "\u001b[A\n",
            "                                                   \n",
            "\n",
            " 85%|████████▌ | 1530/1800 [17:50<02:56,  1.53it/s]\n",
            "\u001b[A\n",
            "\u001b[A"
          ]
        },
        {
          "name": "stdout",
          "output_type": "stream",
          "text": [
            "{'eval_loss': 0.000415738089941442, 'eval_accuracy': 1.0, 'eval_runtime': 0.4255, 'eval_samples_per_second': 84.611, 'eval_steps_per_second': 11.751, 'epoch': 85.0}\n"
          ]
        },
        {
          "name": "stderr",
          "output_type": "stream",
          "text": [
            " 86%|████████▌ | 1548/1800 [18:02<02:44,  1.54it/s]\n",
            " 86%|████████▌ | 1548/1800 [18:02<02:44,  1.54it/s]"
          ]
        },
        {
          "name": "stdout",
          "output_type": "stream",
          "text": [
            "{'loss': 0.0, 'grad_norm': 7.119790825527161e-05, 'learning_rate': 2.8000000000000003e-05, 'epoch': 86.0}\n"
          ]
        },
        {
          "name": "stderr",
          "output_type": "stream",
          "text": [
            "\n",
            "\u001b[A\n",
            "\u001b[A\n",
            "\u001b[A\n",
            "                                                   \n",
            "\n",
            " 86%|████████▌ | 1548/1800 [18:02<02:44,  1.54it/s]\n",
            "\u001b[A\n",
            "\u001b[A"
          ]
        },
        {
          "name": "stdout",
          "output_type": "stream",
          "text": [
            "{'eval_loss': 7.149048542487435e-06, 'eval_accuracy': 1.0, 'eval_runtime': 0.4508, 'eval_samples_per_second': 79.861, 'eval_steps_per_second': 11.092, 'epoch': 86.0}\n"
          ]
        },
        {
          "name": "stderr",
          "output_type": "stream",
          "text": [
            " 87%|████████▋ | 1566/1800 [18:14<02:31,  1.54it/s]\n",
            " 87%|████████▋ | 1566/1800 [18:14<02:31,  1.54it/s]"
          ]
        },
        {
          "name": "stdout",
          "output_type": "stream",
          "text": [
            "{'loss': 0.0, 'grad_norm': 0.0003627117839641869, 'learning_rate': 2.6000000000000002e-05, 'epoch': 87.0}\n"
          ]
        },
        {
          "name": "stderr",
          "output_type": "stream",
          "text": [
            "\n",
            "\u001b[A\n",
            "\u001b[A\n",
            "\u001b[A\n",
            "                                                   \n",
            "\n",
            " 87%|████████▋ | 1566/1800 [18:15<02:31,  1.54it/s]\n",
            "\u001b[A\n",
            "\u001b[A"
          ]
        },
        {
          "name": "stdout",
          "output_type": "stream",
          "text": [
            "{'eval_loss': 6.301383564277785e-06, 'eval_accuracy': 1.0, 'eval_runtime': 0.5146, 'eval_samples_per_second': 69.96, 'eval_steps_per_second': 9.717, 'epoch': 87.0}\n"
          ]
        },
        {
          "name": "stderr",
          "output_type": "stream",
          "text": [
            " 88%|████████▊ | 1584/1800 [18:27<02:16,  1.58it/s]\n",
            " 88%|████████▊ | 1584/1800 [18:27<02:16,  1.58it/s]"
          ]
        },
        {
          "name": "stdout",
          "output_type": "stream",
          "text": [
            "{'loss': 0.0, 'grad_norm': 0.014737915247678757, 'learning_rate': 2.4e-05, 'epoch': 88.0}\n"
          ]
        },
        {
          "name": "stderr",
          "output_type": "stream",
          "text": [
            "\n",
            "\u001b[A\n",
            "\u001b[A\n",
            "\u001b[A\n",
            "                                                   \n",
            "\n",
            " 88%|████████▊ | 1584/1800 [18:27<02:16,  1.58it/s]\n",
            "\u001b[A\n",
            "\u001b[A"
          ]
        },
        {
          "name": "stdout",
          "output_type": "stream",
          "text": [
            "{'eval_loss': 6.145755833131261e-06, 'eval_accuracy': 1.0, 'eval_runtime': 0.4542, 'eval_samples_per_second': 79.266, 'eval_steps_per_second': 11.009, 'epoch': 88.0}\n"
          ]
        },
        {
          "name": "stderr",
          "output_type": "stream",
          "text": [
            " 89%|████████▉ | 1602/1800 [18:39<02:14,  1.47it/s]\n",
            " 89%|████████▉ | 1602/1800 [18:39<02:14,  1.47it/s]"
          ]
        },
        {
          "name": "stdout",
          "output_type": "stream",
          "text": [
            "{'loss': 0.0, 'grad_norm': 0.00011212924437131733, 'learning_rate': 2.2000000000000003e-05, 'epoch': 89.0}\n"
          ]
        },
        {
          "name": "stderr",
          "output_type": "stream",
          "text": [
            "\n",
            "\u001b[A\n",
            "\u001b[A\n",
            "\u001b[A\n",
            "                                                   \n",
            "\n",
            " 89%|████████▉ | 1602/1800 [18:40<02:14,  1.47it/s]\n",
            "\u001b[A\n",
            "\u001b[A"
          ]
        },
        {
          "name": "stdout",
          "output_type": "stream",
          "text": [
            "{'eval_loss': 5.990126737742685e-06, 'eval_accuracy': 1.0, 'eval_runtime': 0.4293, 'eval_samples_per_second': 83.85, 'eval_steps_per_second': 11.646, 'epoch': 89.0}\n"
          ]
        },
        {
          "name": "stderr",
          "output_type": "stream",
          "text": [
            " 90%|█████████ | 1620/1800 [18:52<02:02,  1.47it/s]\n",
            " 90%|█████████ | 1620/1800 [18:52<02:02,  1.47it/s]"
          ]
        },
        {
          "name": "stdout",
          "output_type": "stream",
          "text": [
            "{'loss': 0.0, 'grad_norm': 0.00015312465257011354, 'learning_rate': 2e-05, 'epoch': 90.0}\n"
          ]
        },
        {
          "name": "stderr",
          "output_type": "stream",
          "text": [
            "\n",
            "\u001b[A\n",
            "\u001b[A\n",
            "\u001b[A\n",
            "                                                   \n",
            "\n",
            " 90%|█████████ | 1620/1800 [18:52<02:02,  1.47it/s]\n",
            "\u001b[A\n",
            "\u001b[A"
          ]
        },
        {
          "name": "stdout",
          "output_type": "stream",
          "text": [
            "{'eval_loss': 5.91065690969117e-06, 'eval_accuracy': 1.0, 'eval_runtime': 0.4592, 'eval_samples_per_second': 78.401, 'eval_steps_per_second': 10.889, 'epoch': 90.0}\n"
          ]
        },
        {
          "name": "stderr",
          "output_type": "stream",
          "text": [
            " 91%|█████████ | 1638/1800 [19:05<01:46,  1.52it/s]\n",
            " 91%|█████████ | 1638/1800 [19:05<01:46,  1.52it/s]"
          ]
        },
        {
          "name": "stdout",
          "output_type": "stream",
          "text": [
            "{'loss': 0.0001, 'grad_norm': 0.00016716528625693172, 'learning_rate': 1.8e-05, 'epoch': 91.0}\n"
          ]
        },
        {
          "name": "stderr",
          "output_type": "stream",
          "text": [
            "\n",
            "\u001b[A\n",
            "\u001b[A\n",
            "\u001b[A\n",
            "                                                   \n",
            "\n",
            " 91%|█████████ | 1638/1800 [19:05<01:46,  1.52it/s]\n",
            "\u001b[A\n",
            "\u001b[A"
          ]
        },
        {
          "name": "stdout",
          "output_type": "stream",
          "text": [
            "{'eval_loss': 5.228534519119421e-06, 'eval_accuracy': 1.0, 'eval_runtime': 0.42, 'eval_samples_per_second': 85.724, 'eval_steps_per_second': 11.906, 'epoch': 91.0}\n"
          ]
        },
        {
          "name": "stderr",
          "output_type": "stream",
          "text": [
            " 92%|█████████▏| 1656/1800 [19:18<01:38,  1.46it/s]\n",
            " 92%|█████████▏| 1656/1800 [19:18<01:38,  1.46it/s]"
          ]
        },
        {
          "name": "stdout",
          "output_type": "stream",
          "text": [
            "{'loss': 0.0, 'grad_norm': 5.00300302519463e-05, 'learning_rate': 1.6000000000000003e-05, 'epoch': 92.0}\n"
          ]
        },
        {
          "name": "stderr",
          "output_type": "stream",
          "text": [
            "\n",
            "\u001b[A\n",
            "\u001b[A\n",
            "\u001b[A\n",
            "                                                   \n",
            "\n",
            " 92%|█████████▏| 1656/1800 [19:18<01:38,  1.46it/s]\n",
            "\u001b[A\n",
            "\u001b[A"
          ]
        },
        {
          "name": "stdout",
          "output_type": "stream",
          "text": [
            "{'eval_loss': 5.168931693333434e-06, 'eval_accuracy': 1.0, 'eval_runtime': 0.4656, 'eval_samples_per_second': 77.312, 'eval_steps_per_second': 10.738, 'epoch': 92.0}\n"
          ]
        },
        {
          "name": "stderr",
          "output_type": "stream",
          "text": [
            " 93%|█████████▎| 1674/1800 [19:31<01:29,  1.41it/s]\n",
            " 93%|█████████▎| 1674/1800 [19:31<01:29,  1.41it/s]"
          ]
        },
        {
          "name": "stdout",
          "output_type": "stream",
          "text": [
            "{'loss': 0.0, 'grad_norm': 0.0001409794349456206, 'learning_rate': 1.4000000000000001e-05, 'epoch': 93.0}\n"
          ]
        },
        {
          "name": "stderr",
          "output_type": "stream",
          "text": [
            "\n",
            "\u001b[A\n",
            "\u001b[A\n",
            "\u001b[A\n",
            "                                                   \n",
            "\n",
            " 93%|█████████▎| 1674/1800 [19:32<01:29,  1.41it/s]\n",
            "\u001b[A\n",
            "\u001b[A"
          ]
        },
        {
          "name": "stdout",
          "output_type": "stream",
          "text": [
            "{'eval_loss': 5.122574748384068e-06, 'eval_accuracy': 1.0, 'eval_runtime': 0.4654, 'eval_samples_per_second': 77.348, 'eval_steps_per_second': 10.743, 'epoch': 93.0}\n"
          ]
        },
        {
          "name": "stderr",
          "output_type": "stream",
          "text": [
            " 94%|█████████▍| 1692/1800 [19:45<01:16,  1.41it/s]\n",
            " 94%|█████████▍| 1692/1800 [19:45<01:16,  1.41it/s]"
          ]
        },
        {
          "name": "stdout",
          "output_type": "stream",
          "text": [
            "{'loss': 0.0, 'grad_norm': 7.228281174320728e-05, 'learning_rate': 1.2e-05, 'epoch': 94.0}\n"
          ]
        },
        {
          "name": "stderr",
          "output_type": "stream",
          "text": [
            "\n",
            "\u001b[A\n",
            "\u001b[A\n",
            "\u001b[A\n",
            "                                                   \n",
            "\n",
            " 94%|█████████▍| 1692/1800 [19:45<01:16,  1.41it/s]\n",
            "\u001b[A\n",
            "\u001b[A"
          ]
        },
        {
          "name": "stdout",
          "output_type": "stream",
          "text": [
            "{'eval_loss': 5.102706836623838e-06, 'eval_accuracy': 1.0, 'eval_runtime': 0.51, 'eval_samples_per_second': 70.582, 'eval_steps_per_second': 9.803, 'epoch': 94.0}\n"
          ]
        },
        {
          "name": "stderr",
          "output_type": "stream",
          "text": [
            " 95%|█████████▌| 1710/1800 [19:59<01:07,  1.33it/s]\n",
            " 95%|█████████▌| 1710/1800 [19:59<01:07,  1.33it/s]"
          ]
        },
        {
          "name": "stdout",
          "output_type": "stream",
          "text": [
            "{'loss': 0.0, 'grad_norm': 8.246334618888795e-05, 'learning_rate': 1e-05, 'epoch': 95.0}\n"
          ]
        },
        {
          "name": "stderr",
          "output_type": "stream",
          "text": [
            "\n",
            "\u001b[A\n",
            "\u001b[A\n",
            "\u001b[A\n",
            "                                                   \n",
            "\n",
            " 95%|█████████▌| 1710/1800 [19:59<01:07,  1.33it/s]\n",
            "\u001b[A\n",
            "\u001b[A"
          ]
        },
        {
          "name": "stdout",
          "output_type": "stream",
          "text": [
            "{'eval_loss': 5.0729058784781955e-06, 'eval_accuracy': 1.0, 'eval_runtime': 0.523, 'eval_samples_per_second': 68.83, 'eval_steps_per_second': 9.56, 'epoch': 95.0}\n"
          ]
        },
        {
          "name": "stderr",
          "output_type": "stream",
          "text": [
            " 96%|█████████▌| 1728/1800 [20:12<00:50,  1.41it/s]\n",
            " 96%|█████████▌| 1728/1800 [20:12<00:50,  1.41it/s]"
          ]
        },
        {
          "name": "stdout",
          "output_type": "stream",
          "text": [
            "{'loss': 0.0, 'grad_norm': 0.00040268790326081216, 'learning_rate': 8.000000000000001e-06, 'epoch': 96.0}\n"
          ]
        },
        {
          "name": "stderr",
          "output_type": "stream",
          "text": [
            "\n",
            "\u001b[A\n",
            "\u001b[A\n",
            "\u001b[A\n",
            "                                                   \n",
            "\n",
            " 96%|█████████▌| 1728/1800 [20:13<00:50,  1.41it/s]\n",
            "\u001b[A\n",
            "\u001b[A"
          ]
        },
        {
          "name": "stdout",
          "output_type": "stream",
          "text": [
            "{'eval_loss': 5.06959440826904e-06, 'eval_accuracy': 1.0, 'eval_runtime': 0.4524, 'eval_samples_per_second': 79.582, 'eval_steps_per_second': 11.053, 'epoch': 96.0}\n"
          ]
        },
        {
          "name": "stderr",
          "output_type": "stream",
          "text": [
            " 97%|█████████▋| 1746/1800 [20:26<00:38,  1.41it/s]\n",
            " 97%|█████████▋| 1746/1800 [20:26<00:38,  1.41it/s]"
          ]
        },
        {
          "name": "stdout",
          "output_type": "stream",
          "text": [
            "{'loss': 0.0, 'grad_norm': 3.8022328226361424e-05, 'learning_rate': 6e-06, 'epoch': 97.0}\n"
          ]
        },
        {
          "name": "stderr",
          "output_type": "stream",
          "text": [
            "\n",
            "\u001b[A\n",
            "\u001b[A\n",
            "\u001b[A\n",
            "                                                   \n",
            "\n",
            " 97%|█████████▋| 1746/1800 [20:26<00:38,  1.41it/s]\n",
            "\u001b[A\n",
            "\u001b[A"
          ]
        },
        {
          "name": "stdout",
          "output_type": "stream",
          "text": [
            "{'eval_loss': 5.0596604523889255e-06, 'eval_accuracy': 1.0, 'eval_runtime': 0.4721, 'eval_samples_per_second': 76.25, 'eval_steps_per_second': 10.59, 'epoch': 97.0}\n"
          ]
        },
        {
          "name": "stderr",
          "output_type": "stream",
          "text": [
            " 98%|█████████▊| 1764/1800 [20:40<00:27,  1.32it/s]\n",
            " 98%|█████████▊| 1764/1800 [20:40<00:27,  1.32it/s]"
          ]
        },
        {
          "name": "stdout",
          "output_type": "stream",
          "text": [
            "{'loss': 0.0, 'grad_norm': 0.00012862993753515184, 'learning_rate': 4.000000000000001e-06, 'epoch': 98.0}\n"
          ]
        },
        {
          "name": "stderr",
          "output_type": "stream",
          "text": [
            "\n",
            "\u001b[A\n",
            "\u001b[A\n",
            "\u001b[A\n",
            "                                                   \n",
            "\n",
            " 98%|█████████▊| 1764/1800 [20:41<00:27,  1.32it/s]\n",
            "\u001b[A\n",
            "\u001b[A"
          ]
        },
        {
          "name": "stdout",
          "output_type": "stream",
          "text": [
            "{'eval_loss': 5.053038421465317e-06, 'eval_accuracy': 1.0, 'eval_runtime': 0.5068, 'eval_samples_per_second': 71.039, 'eval_steps_per_second': 9.866, 'epoch': 98.0}\n"
          ]
        },
        {
          "name": "stderr",
          "output_type": "stream",
          "text": [
            " 99%|█████████▉| 1782/1800 [20:54<00:13,  1.33it/s]\n",
            " 99%|█████████▉| 1782/1800 [20:54<00:13,  1.33it/s]"
          ]
        },
        {
          "name": "stdout",
          "output_type": "stream",
          "text": [
            "{'loss': 0.0, 'grad_norm': 6.883175228722394e-05, 'learning_rate': 2.0000000000000003e-06, 'epoch': 99.0}\n"
          ]
        },
        {
          "name": "stderr",
          "output_type": "stream",
          "text": [
            "\n",
            "\u001b[A\n",
            "\u001b[A\n",
            "\u001b[A\n",
            "                                                   \n",
            "\n",
            " 99%|█████████▉| 1782/1800 [20:55<00:13,  1.33it/s]\n",
            "\u001b[A\n",
            "\u001b[A"
          ]
        },
        {
          "name": "stdout",
          "output_type": "stream",
          "text": [
            "{'eval_loss': 5.053038421465317e-06, 'eval_accuracy': 1.0, 'eval_runtime': 0.4633, 'eval_samples_per_second': 77.711, 'eval_steps_per_second': 10.793, 'epoch': 99.0}\n"
          ]
        },
        {
          "name": "stderr",
          "output_type": "stream",
          "text": [
            "100%|██████████| 1800/1800 [21:07<00:00,  1.51it/s]\n",
            "100%|██████████| 1800/1800 [21:09<00:00,  1.51it/s]"
          ]
        },
        {
          "name": "stdout",
          "output_type": "stream",
          "text": [
            "{'loss': 0.0, 'grad_norm': 6.385661981767043e-05, 'learning_rate': 0.0, 'epoch': 100.0}\n"
          ]
        },
        {
          "name": "stderr",
          "output_type": "stream",
          "text": [
            "\n",
            "\u001b[A\n",
            "\u001b[A\n",
            "\u001b[A\n",
            "                                                   \n",
            "\n",
            "100%|██████████| 1800/1800 [21:09<00:00,  1.51it/s]\n",
            "\u001b[A\n",
            "\u001b[A\n",
            "100%|██████████| 1800/1800 [21:09<00:00,  1.42it/s]\n"
          ]
        },
        {
          "name": "stdout",
          "output_type": "stream",
          "text": [
            "{'eval_loss': 5.046415935794357e-06, 'eval_accuracy': 1.0, 'eval_runtime': 0.4572, 'eval_samples_per_second': 78.744, 'eval_steps_per_second': 10.937, 'epoch': 100.0}\n",
            "{'train_runtime': 1269.5142, 'train_samples_per_second': 11.185, 'train_steps_per_second': 1.418, 'train_loss': 0.012871029196750088, 'epoch': 100.0}\n",
            "\n",
            "Training Isolation Model:\n"
          ]
        },
        {
          "name": "stderr",
          "output_type": "stream",
          "text": [
            "  1%|          | 18/1800 [00:13<23:39,  1.26it/s]\n",
            "  1%|          | 18/1800 [00:13<23:39,  1.26it/s]"
          ]
        },
        {
          "name": "stdout",
          "output_type": "stream",
          "text": [
            "{'loss': 1.9237, 'grad_norm': 6.420507907867432, 'learning_rate': 0.00019800000000000002, 'epoch': 1.0}\n"
          ]
        },
        {
          "name": "stderr",
          "output_type": "stream",
          "text": [
            "\n",
            "\u001b[A\n",
            "\u001b[A\n",
            "\u001b[A\n",
            "\u001b[A                                     \n",
            "\n",
            "                                                 \n",
            "  1%|          | 18/1800 [00:14<23:39,  1.26it/s]\n",
            "\u001b[A"
          ]
        },
        {
          "name": "stdout",
          "output_type": "stream",
          "text": [
            "{'eval_loss': 1.7630906105041504, 'eval_accuracy': 0.4166666666666667, 'eval_runtime': 0.5246, 'eval_samples_per_second': 68.625, 'eval_steps_per_second': 9.531, 'epoch': 1.0}\n"
          ]
        },
        {
          "name": "stderr",
          "output_type": "stream",
          "text": [
            "  2%|▏         | 36/1800 [00:27<21:51,  1.35it/s]\n",
            "  2%|▏         | 36/1800 [00:27<21:51,  1.35it/s]"
          ]
        },
        {
          "name": "stdout",
          "output_type": "stream",
          "text": [
            "{'loss': 1.0362, 'grad_norm': 4.936413288116455, 'learning_rate': 0.000196, 'epoch': 2.0}\n"
          ]
        },
        {
          "name": "stderr",
          "output_type": "stream",
          "text": [
            "\n",
            "\u001b[A\n",
            "\u001b[A\n",
            "\u001b[A\n",
            "\u001b[A                                     \n",
            "\n",
            "                                                 \n",
            "  2%|▏         | 36/1800 [00:27<21:51,  1.35it/s]\n",
            "\u001b[A"
          ]
        },
        {
          "name": "stdout",
          "output_type": "stream",
          "text": [
            "{'eval_loss': 1.259743094444275, 'eval_accuracy': 0.6666666666666666, 'eval_runtime': 0.5834, 'eval_samples_per_second': 61.705, 'eval_steps_per_second': 8.57, 'epoch': 2.0}\n"
          ]
        },
        {
          "name": "stderr",
          "output_type": "stream",
          "text": [
            "  3%|▎         | 54/1800 [00:41<21:53,  1.33it/s]\n",
            "  3%|▎         | 54/1800 [00:41<21:53,  1.33it/s]"
          ]
        },
        {
          "name": "stdout",
          "output_type": "stream",
          "text": [
            "{'loss': 0.6628, 'grad_norm': 5.743880271911621, 'learning_rate': 0.000194, 'epoch': 3.0}\n"
          ]
        },
        {
          "name": "stderr",
          "output_type": "stream",
          "text": [
            "\n",
            "\u001b[A\n",
            "\u001b[A\n",
            "\u001b[A\n",
            "\u001b[A                                     \n",
            "\n",
            "                                                 \n",
            "  3%|▎         | 54/1800 [00:42<21:53,  1.33it/s]\n",
            "\u001b[A"
          ]
        },
        {
          "name": "stdout",
          "output_type": "stream",
          "text": [
            "{'eval_loss': 0.7739121317863464, 'eval_accuracy': 0.8611111111111112, 'eval_runtime': 0.516, 'eval_samples_per_second': 69.764, 'eval_steps_per_second': 9.689, 'epoch': 3.0}\n"
          ]
        },
        {
          "name": "stderr",
          "output_type": "stream",
          "text": [
            "  4%|▍         | 72/1800 [00:56<19:20,  1.49it/s]\n",
            "  4%|▍         | 72/1800 [00:56<19:20,  1.49it/s]"
          ]
        },
        {
          "name": "stdout",
          "output_type": "stream",
          "text": [
            "{'loss': 0.4349, 'grad_norm': 7.915102481842041, 'learning_rate': 0.000192, 'epoch': 4.0}\n"
          ]
        },
        {
          "name": "stderr",
          "output_type": "stream",
          "text": [
            "\n",
            "\u001b[A\n",
            "\u001b[A\n",
            "\u001b[A\n",
            "\u001b[A                                     \n",
            "\n",
            "                                                 \n",
            "  4%|▍         | 72/1800 [00:56<19:20,  1.49it/s]\n",
            "\u001b[A"
          ]
        },
        {
          "name": "stdout",
          "output_type": "stream",
          "text": [
            "{'eval_loss': 0.7681602835655212, 'eval_accuracy': 0.7777777777777778, 'eval_runtime': 0.4741, 'eval_samples_per_second': 75.938, 'eval_steps_per_second': 10.547, 'epoch': 4.0}\n"
          ]
        },
        {
          "name": "stderr",
          "output_type": "stream",
          "text": [
            "  5%|▌         | 90/1800 [01:09<18:46,  1.52it/s]\n",
            "  5%|▌         | 90/1800 [01:09<18:46,  1.52it/s]"
          ]
        },
        {
          "name": "stdout",
          "output_type": "stream",
          "text": [
            "{'loss': 0.3406, 'grad_norm': 5.220149993896484, 'learning_rate': 0.00019, 'epoch': 5.0}\n"
          ]
        },
        {
          "name": "stderr",
          "output_type": "stream",
          "text": [
            "\n",
            "\u001b[A\n",
            "\u001b[A\n",
            "\u001b[A\n",
            "\u001b[A                                     \n",
            "\n",
            "                                                 \n",
            "  5%|▌         | 90/1800 [01:09<18:46,  1.52it/s]\n",
            "\u001b[A"
          ]
        },
        {
          "name": "stdout",
          "output_type": "stream",
          "text": [
            "{'eval_loss': 0.8729802370071411, 'eval_accuracy': 0.7777777777777778, 'eval_runtime': 0.4323, 'eval_samples_per_second': 83.279, 'eval_steps_per_second': 11.567, 'epoch': 5.0}\n"
          ]
        },
        {
          "name": "stderr",
          "output_type": "stream",
          "text": [
            "  6%|▌         | 108/1800 [01:22<19:10,  1.47it/s]\n",
            "  6%|▌         | 108/1800 [01:22<19:10,  1.47it/s]"
          ]
        },
        {
          "name": "stdout",
          "output_type": "stream",
          "text": [
            "{'loss': 0.2573, 'grad_norm': 0.6586525440216064, 'learning_rate': 0.000188, 'epoch': 6.0}\n"
          ]
        },
        {
          "name": "stderr",
          "output_type": "stream",
          "text": [
            "\n",
            "\u001b[A\n",
            "\u001b[A\n",
            "\u001b[A\n",
            "\u001b[A                                     \n",
            "\n",
            "                                                  \n",
            "  6%|▌         | 108/1800 [01:22<19:10,  1.47it/s]\n",
            "\u001b[A"
          ]
        },
        {
          "name": "stdout",
          "output_type": "stream",
          "text": [
            "{'eval_loss': 0.8724590539932251, 'eval_accuracy': 0.8055555555555556, 'eval_runtime': 0.4561, 'eval_samples_per_second': 78.929, 'eval_steps_per_second': 10.962, 'epoch': 6.0}\n"
          ]
        },
        {
          "name": "stderr",
          "output_type": "stream",
          "text": [
            "  7%|▋         | 126/1800 [01:34<19:09,  1.46it/s]\n",
            "  7%|▋         | 126/1800 [01:34<19:09,  1.46it/s]"
          ]
        },
        {
          "name": "stdout",
          "output_type": "stream",
          "text": [
            "{'loss': 0.2258, 'grad_norm': 6.530196189880371, 'learning_rate': 0.00018600000000000002, 'epoch': 7.0}\n"
          ]
        },
        {
          "name": "stderr",
          "output_type": "stream",
          "text": [
            "\n",
            "\u001b[A\n",
            "\u001b[A\n",
            "\u001b[A\n",
            "\u001b[A                                     \n",
            "\n",
            "                                                  \n",
            "  7%|▋         | 126/1800 [01:35<19:09,  1.46it/s]\n",
            "\u001b[A"
          ]
        },
        {
          "name": "stdout",
          "output_type": "stream",
          "text": [
            "{'eval_loss': 1.0525957345962524, 'eval_accuracy': 0.75, 'eval_runtime': 0.4494, 'eval_samples_per_second': 80.103, 'eval_steps_per_second': 11.125, 'epoch': 7.0}\n"
          ]
        },
        {
          "name": "stderr",
          "output_type": "stream",
          "text": [
            "  8%|▊         | 144/1800 [01:47<17:45,  1.55it/s]\n",
            "  8%|▊         | 144/1800 [01:47<17:45,  1.55it/s]"
          ]
        },
        {
          "name": "stdout",
          "output_type": "stream",
          "text": [
            "{'loss': 0.1442, 'grad_norm': 0.2712332606315613, 'learning_rate': 0.00018400000000000003, 'epoch': 8.0}\n"
          ]
        },
        {
          "name": "stderr",
          "output_type": "stream",
          "text": [
            "\n",
            "\u001b[A\n",
            "\u001b[A\n",
            "\u001b[A\n",
            "\u001b[A                                     \n",
            "\n",
            "                                                  \n",
            "  8%|▊         | 144/1800 [01:47<17:45,  1.55it/s]\n",
            "\u001b[A"
          ]
        },
        {
          "name": "stdout",
          "output_type": "stream",
          "text": [
            "{'eval_loss': 1.2727097272872925, 'eval_accuracy': 0.7222222222222222, 'eval_runtime': 0.4355, 'eval_samples_per_second': 82.658, 'eval_steps_per_second': 11.48, 'epoch': 8.0}\n"
          ]
        },
        {
          "name": "stderr",
          "output_type": "stream",
          "text": [
            "  9%|▉         | 162/1800 [02:00<17:50,  1.53it/s]\n",
            "  9%|▉         | 162/1800 [02:00<17:50,  1.53it/s]"
          ]
        },
        {
          "name": "stdout",
          "output_type": "stream",
          "text": [
            "{'loss': 0.1625, 'grad_norm': 0.04560330882668495, 'learning_rate': 0.000182, 'epoch': 9.0}\n"
          ]
        },
        {
          "name": "stderr",
          "output_type": "stream",
          "text": [
            "\n",
            "\u001b[A\n",
            "\u001b[A\n",
            "\u001b[A\n",
            "\u001b[A                                     \n",
            "\n",
            "                                                  \n",
            "  9%|▉         | 162/1800 [02:00<17:50,  1.53it/s]\n",
            "\u001b[A"
          ]
        },
        {
          "name": "stdout",
          "output_type": "stream",
          "text": [
            "{'eval_loss': 1.1760830879211426, 'eval_accuracy': 0.7777777777777778, 'eval_runtime': 0.4198, 'eval_samples_per_second': 85.748, 'eval_steps_per_second': 11.909, 'epoch': 9.0}\n"
          ]
        },
        {
          "name": "stderr",
          "output_type": "stream",
          "text": [
            " 10%|█         | 180/1800 [02:13<17:55,  1.51it/s]\n",
            " 10%|█         | 180/1800 [02:13<17:55,  1.51it/s]"
          ]
        },
        {
          "name": "stdout",
          "output_type": "stream",
          "text": [
            "{'loss': 0.1392, 'grad_norm': 0.08203380554914474, 'learning_rate': 0.00018, 'epoch': 10.0}\n"
          ]
        },
        {
          "name": "stderr",
          "output_type": "stream",
          "text": [
            "\n",
            "\u001b[A\n",
            "\u001b[A\n",
            "\u001b[A\n",
            "\u001b[A                                     \n",
            "\n",
            "                                                  \n",
            " 10%|█         | 180/1800 [02:13<17:55,  1.51it/s]\n",
            "\u001b[A"
          ]
        },
        {
          "name": "stdout",
          "output_type": "stream",
          "text": [
            "{'eval_loss': 1.2642223834991455, 'eval_accuracy': 0.75, 'eval_runtime': 0.5102, 'eval_samples_per_second': 70.561, 'eval_steps_per_second': 9.8, 'epoch': 10.0}\n"
          ]
        },
        {
          "name": "stderr",
          "output_type": "stream",
          "text": [
            " 11%|█         | 198/1800 [02:26<18:40,  1.43it/s]\n",
            " 11%|█         | 198/1800 [02:26<18:40,  1.43it/s]"
          ]
        },
        {
          "name": "stdout",
          "output_type": "stream",
          "text": [
            "{'loss': 0.1169, 'grad_norm': 0.03494544327259064, 'learning_rate': 0.00017800000000000002, 'epoch': 11.0}\n"
          ]
        },
        {
          "name": "stderr",
          "output_type": "stream",
          "text": [
            "\n",
            "\u001b[A\n",
            "\u001b[A\n",
            "\u001b[A\n",
            "\u001b[A                                     \n",
            "\n",
            "                                                  \n",
            " 11%|█         | 198/1800 [02:27<18:40,  1.43it/s]\n",
            "\u001b[A"
          ]
        },
        {
          "name": "stdout",
          "output_type": "stream",
          "text": [
            "{'eval_loss': 1.3289902210235596, 'eval_accuracy': 0.75, 'eval_runtime': 0.6434, 'eval_samples_per_second': 55.953, 'eval_steps_per_second': 7.771, 'epoch': 11.0}\n"
          ]
        },
        {
          "name": "stderr",
          "output_type": "stream",
          "text": [
            " 12%|█▏        | 216/1800 [02:40<18:10,  1.45it/s]\n",
            " 12%|█▏        | 216/1800 [02:40<18:10,  1.45it/s]"
          ]
        },
        {
          "name": "stdout",
          "output_type": "stream",
          "text": [
            "{'loss': 0.11, 'grad_norm': 2.2423129081726074, 'learning_rate': 0.00017600000000000002, 'epoch': 12.0}\n"
          ]
        },
        {
          "name": "stderr",
          "output_type": "stream",
          "text": [
            "\n",
            "\u001b[A\n",
            "\u001b[A\n",
            "\u001b[A\n",
            "\u001b[A                                     \n",
            "\n",
            "                                                  \n",
            " 12%|█▏        | 216/1800 [02:40<18:10,  1.45it/s]\n",
            "\u001b[A"
          ]
        },
        {
          "name": "stdout",
          "output_type": "stream",
          "text": [
            "{'eval_loss': 1.2853845357894897, 'eval_accuracy': 0.7777777777777778, 'eval_runtime': 0.4837, 'eval_samples_per_second': 74.419, 'eval_steps_per_second': 10.336, 'epoch': 12.0}\n"
          ]
        },
        {
          "name": "stderr",
          "output_type": "stream",
          "text": [
            " 13%|█▎        | 234/1800 [02:54<19:14,  1.36it/s]\n",
            " 13%|█▎        | 234/1800 [02:54<19:14,  1.36it/s]"
          ]
        },
        {
          "name": "stdout",
          "output_type": "stream",
          "text": [
            "{'loss': 0.1076, 'grad_norm': 0.019289344549179077, 'learning_rate': 0.000174, 'epoch': 13.0}\n"
          ]
        },
        {
          "name": "stderr",
          "output_type": "stream",
          "text": [
            "\n",
            "\u001b[A\n",
            "\u001b[A\n",
            "\u001b[A\n",
            "\u001b[A                                     \n",
            "\n",
            "                                                  \n",
            " 13%|█▎        | 234/1800 [02:54<19:14,  1.36it/s]\n",
            "\u001b[A"
          ]
        },
        {
          "name": "stdout",
          "output_type": "stream",
          "text": [
            "{'eval_loss': 1.239292860031128, 'eval_accuracy': 0.7777777777777778, 'eval_runtime': 0.4748, 'eval_samples_per_second': 75.828, 'eval_steps_per_second': 10.532, 'epoch': 13.0}\n"
          ]
        },
        {
          "name": "stderr",
          "output_type": "stream",
          "text": [
            " 14%|█▍        | 252/1800 [03:07<17:49,  1.45it/s]\n",
            " 14%|█▍        | 252/1800 [03:07<17:49,  1.45it/s]"
          ]
        },
        {
          "name": "stdout",
          "output_type": "stream",
          "text": [
            "{'loss': 0.2109, 'grad_norm': 2.2152352333068848, 'learning_rate': 0.000172, 'epoch': 14.0}\n"
          ]
        },
        {
          "name": "stderr",
          "output_type": "stream",
          "text": [
            "\n",
            "\u001b[A\n",
            "\u001b[A\n",
            "\u001b[A\n",
            "\u001b[A                                     \n",
            "\n",
            "                                                  \n",
            " 14%|█▍        | 252/1800 [03:08<17:49,  1.45it/s]\n",
            "\u001b[A"
          ]
        },
        {
          "name": "stdout",
          "output_type": "stream",
          "text": [
            "{'eval_loss': 1.298700213432312, 'eval_accuracy': 0.8055555555555556, 'eval_runtime': 0.4524, 'eval_samples_per_second': 79.572, 'eval_steps_per_second': 11.052, 'epoch': 14.0}\n"
          ]
        },
        {
          "name": "stderr",
          "output_type": "stream",
          "text": [
            " 15%|█▌        | 270/1800 [03:20<16:52,  1.51it/s]\n",
            " 15%|█▌        | 270/1800 [03:20<16:52,  1.51it/s]"
          ]
        },
        {
          "name": "stdout",
          "output_type": "stream",
          "text": [
            "{'loss': 0.1661, 'grad_norm': 0.813103973865509, 'learning_rate': 0.00017, 'epoch': 15.0}\n"
          ]
        },
        {
          "name": "stderr",
          "output_type": "stream",
          "text": [
            "\n",
            "\u001b[A\n",
            "\u001b[A\n",
            "\u001b[A\n",
            "\u001b[A                                     \n",
            "\n",
            "                                                  \n",
            " 15%|█▌        | 270/1800 [03:20<16:52,  1.51it/s]\n",
            "\u001b[A"
          ]
        },
        {
          "name": "stdout",
          "output_type": "stream",
          "text": [
            "{'eval_loss': 1.5267647504806519, 'eval_accuracy': 0.75, 'eval_runtime': 0.4635, 'eval_samples_per_second': 77.666, 'eval_steps_per_second': 10.787, 'epoch': 15.0}\n"
          ]
        },
        {
          "name": "stderr",
          "output_type": "stream",
          "text": [
            " 16%|█▌        | 288/1800 [03:32<15:58,  1.58it/s]\n",
            " 16%|█▌        | 288/1800 [03:32<15:58,  1.58it/s]"
          ]
        },
        {
          "name": "stdout",
          "output_type": "stream",
          "text": [
            "{'loss': 0.1865, 'grad_norm': 0.05997055396437645, 'learning_rate': 0.000168, 'epoch': 16.0}\n"
          ]
        },
        {
          "name": "stderr",
          "output_type": "stream",
          "text": [
            "\n",
            "\u001b[A\n",
            "\u001b[A\n",
            "\u001b[A\n",
            "\u001b[A                                     \n",
            "\n",
            "                                                  \n",
            " 16%|█▌        | 288/1800 [03:33<15:58,  1.58it/s]\n",
            "\u001b[A"
          ]
        },
        {
          "name": "stdout",
          "output_type": "stream",
          "text": [
            "{'eval_loss': 1.2520596981048584, 'eval_accuracy': 0.8055555555555556, 'eval_runtime': 0.4329, 'eval_samples_per_second': 83.162, 'eval_steps_per_second': 11.55, 'epoch': 16.0}\n"
          ]
        },
        {
          "name": "stderr",
          "output_type": "stream",
          "text": [
            " 17%|█▋        | 306/1800 [03:44<15:50,  1.57it/s]\n",
            " 17%|█▋        | 306/1800 [03:44<15:50,  1.57it/s]"
          ]
        },
        {
          "name": "stdout",
          "output_type": "stream",
          "text": [
            "{'loss': 0.1801, 'grad_norm': 10.180695533752441, 'learning_rate': 0.000166, 'epoch': 17.0}\n"
          ]
        },
        {
          "name": "stderr",
          "output_type": "stream",
          "text": [
            "\n",
            "\u001b[A\n",
            "\u001b[A\n",
            "\u001b[A\n",
            "\u001b[A                                     \n",
            "\n",
            "                                                  \n",
            " 17%|█▋        | 306/1800 [03:45<15:50,  1.57it/s]\n",
            "\u001b[A"
          ]
        },
        {
          "name": "stdout",
          "output_type": "stream",
          "text": [
            "{'eval_loss': 1.27534019947052, 'eval_accuracy': 0.8333333333333334, 'eval_runtime': 0.4184, 'eval_samples_per_second': 86.048, 'eval_steps_per_second': 11.951, 'epoch': 17.0}\n"
          ]
        },
        {
          "name": "stderr",
          "output_type": "stream",
          "text": [
            " 18%|█▊        | 324/1800 [03:57<15:56,  1.54it/s]\n",
            " 18%|█▊        | 324/1800 [03:57<15:56,  1.54it/s]"
          ]
        },
        {
          "name": "stdout",
          "output_type": "stream",
          "text": [
            "{'loss': 0.1267, 'grad_norm': 0.06415682286024094, 'learning_rate': 0.000164, 'epoch': 18.0}\n"
          ]
        },
        {
          "name": "stderr",
          "output_type": "stream",
          "text": [
            "\n",
            "\u001b[A\n",
            "\u001b[A\n",
            "\u001b[A\n",
            "\u001b[A                                     \n",
            "\n",
            "                                                  \n",
            " 18%|█▊        | 324/1800 [03:57<15:56,  1.54it/s]\n",
            "\u001b[A"
          ]
        },
        {
          "name": "stdout",
          "output_type": "stream",
          "text": [
            "{'eval_loss': 1.4387147426605225, 'eval_accuracy': 0.8055555555555556, 'eval_runtime': 0.4258, 'eval_samples_per_second': 84.548, 'eval_steps_per_second': 11.743, 'epoch': 18.0}\n"
          ]
        },
        {
          "name": "stderr",
          "output_type": "stream",
          "text": [
            " 19%|█▉        | 342/1800 [04:09<15:56,  1.52it/s]\n",
            " 19%|█▉        | 342/1800 [04:09<15:56,  1.52it/s]"
          ]
        },
        {
          "name": "stdout",
          "output_type": "stream",
          "text": [
            "{'loss': 0.0988, 'grad_norm': 0.6780678629875183, 'learning_rate': 0.000162, 'epoch': 19.0}\n"
          ]
        },
        {
          "name": "stderr",
          "output_type": "stream",
          "text": [
            "\n",
            "\u001b[A\n",
            "\u001b[A\n",
            "\u001b[A\n",
            "\u001b[A                                     \n",
            "\n",
            "                                                  \n",
            " 19%|█▉        | 342/1800 [04:10<15:56,  1.52it/s]\n",
            "\u001b[A"
          ]
        },
        {
          "name": "stdout",
          "output_type": "stream",
          "text": [
            "{'eval_loss': 1.471337080001831, 'eval_accuracy': 0.7777777777777778, 'eval_runtime': 0.4516, 'eval_samples_per_second': 79.719, 'eval_steps_per_second': 11.072, 'epoch': 19.0}\n"
          ]
        },
        {
          "name": "stderr",
          "output_type": "stream",
          "text": [
            " 20%|██        | 360/1800 [04:22<15:55,  1.51it/s]\n",
            " 20%|██        | 360/1800 [04:22<15:55,  1.51it/s]"
          ]
        },
        {
          "name": "stdout",
          "output_type": "stream",
          "text": [
            "{'loss': 0.1053, 'grad_norm': 0.02174861542880535, 'learning_rate': 0.00016, 'epoch': 20.0}\n"
          ]
        },
        {
          "name": "stderr",
          "output_type": "stream",
          "text": [
            "\n",
            "\u001b[A\n",
            "\u001b[A\n",
            "\u001b[A\n",
            "\u001b[A                                     \n",
            "\n",
            "                                                  \n",
            " 20%|██        | 360/1800 [04:22<15:55,  1.51it/s]\n",
            "\u001b[A"
          ]
        },
        {
          "name": "stdout",
          "output_type": "stream",
          "text": [
            "{'eval_loss': 1.4545871019363403, 'eval_accuracy': 0.7777777777777778, 'eval_runtime': 0.4513, 'eval_samples_per_second': 79.766, 'eval_steps_per_second': 11.079, 'epoch': 20.0}\n"
          ]
        },
        {
          "name": "stderr",
          "output_type": "stream",
          "text": [
            " 21%|██        | 378/1800 [04:35<15:51,  1.49it/s]\n",
            " 21%|██        | 378/1800 [04:35<15:51,  1.49it/s]"
          ]
        },
        {
          "name": "stdout",
          "output_type": "stream",
          "text": [
            "{'loss': 0.1616, 'grad_norm': 13.975065231323242, 'learning_rate': 0.00015800000000000002, 'epoch': 21.0}\n"
          ]
        },
        {
          "name": "stderr",
          "output_type": "stream",
          "text": [
            "\n",
            "\u001b[A\n",
            "\u001b[A\n",
            "\u001b[A\n",
            "\u001b[A                                     \n",
            "\n",
            "                                                  \n",
            " 21%|██        | 378/1800 [04:35<15:51,  1.49it/s]\n",
            "\u001b[A"
          ]
        },
        {
          "name": "stdout",
          "output_type": "stream",
          "text": [
            "{'eval_loss': 1.4856587648391724, 'eval_accuracy': 0.8055555555555556, 'eval_runtime': 0.4426, 'eval_samples_per_second': 81.343, 'eval_steps_per_second': 11.298, 'epoch': 21.0}\n"
          ]
        },
        {
          "name": "stderr",
          "output_type": "stream",
          "text": [
            " 22%|██▏       | 396/1800 [04:47<15:26,  1.52it/s]\n",
            " 22%|██▏       | 396/1800 [04:47<15:26,  1.52it/s]"
          ]
        },
        {
          "name": "stdout",
          "output_type": "stream",
          "text": [
            "{'loss': 0.1085, 'grad_norm': 0.03725166246294975, 'learning_rate': 0.00015600000000000002, 'epoch': 22.0}\n"
          ]
        },
        {
          "name": "stderr",
          "output_type": "stream",
          "text": [
            "\n",
            "\u001b[A\n",
            "\u001b[A\n",
            "\u001b[A\n",
            "\u001b[A                                     \n",
            "\n",
            "                                                  \n",
            " 22%|██▏       | 396/1800 [04:48<15:26,  1.52it/s]\n",
            "\u001b[A"
          ]
        },
        {
          "name": "stdout",
          "output_type": "stream",
          "text": [
            "{'eval_loss': 1.337491512298584, 'eval_accuracy': 0.8055555555555556, 'eval_runtime': 0.4263, 'eval_samples_per_second': 84.44, 'eval_steps_per_second': 11.728, 'epoch': 22.0}\n"
          ]
        },
        {
          "name": "stderr",
          "output_type": "stream",
          "text": [
            " 23%|██▎       | 414/1800 [05:00<15:19,  1.51it/s]\n",
            " 23%|██▎       | 414/1800 [05:00<15:19,  1.51it/s]"
          ]
        },
        {
          "name": "stdout",
          "output_type": "stream",
          "text": [
            "{'loss': 0.1482, 'grad_norm': 2.3484420776367188, 'learning_rate': 0.000154, 'epoch': 23.0}\n"
          ]
        },
        {
          "name": "stderr",
          "output_type": "stream",
          "text": [
            "\n",
            "\u001b[A\n",
            "\u001b[A\n",
            "\u001b[A\n",
            "\u001b[A                                     \n",
            "\n",
            "                                                  \n",
            " 23%|██▎       | 414/1800 [05:00<15:19,  1.51it/s]\n",
            "\u001b[A"
          ]
        },
        {
          "name": "stdout",
          "output_type": "stream",
          "text": [
            "{'eval_loss': 1.4703198671340942, 'eval_accuracy': 0.8055555555555556, 'eval_runtime': 0.4389, 'eval_samples_per_second': 82.028, 'eval_steps_per_second': 11.393, 'epoch': 23.0}\n"
          ]
        },
        {
          "name": "stderr",
          "output_type": "stream",
          "text": [
            " 24%|██▍       | 432/1800 [05:12<14:38,  1.56it/s]\n",
            " 24%|██▍       | 432/1800 [05:12<14:38,  1.56it/s]"
          ]
        },
        {
          "name": "stdout",
          "output_type": "stream",
          "text": [
            "{'loss': 0.102, 'grad_norm': 0.015700383111834526, 'learning_rate': 0.000152, 'epoch': 24.0}\n"
          ]
        },
        {
          "name": "stderr",
          "output_type": "stream",
          "text": [
            "\n",
            "\u001b[A\n",
            "\u001b[A\n",
            "\u001b[A\n",
            "\u001b[A                                     \n",
            "\n",
            "                                                  \n",
            " 24%|██▍       | 432/1800 [05:13<14:38,  1.56it/s]\n",
            "\u001b[A"
          ]
        },
        {
          "name": "stdout",
          "output_type": "stream",
          "text": [
            "{'eval_loss': 1.4833720922470093, 'eval_accuracy': 0.8055555555555556, 'eval_runtime': 0.4103, 'eval_samples_per_second': 87.747, 'eval_steps_per_second': 12.187, 'epoch': 24.0}\n"
          ]
        },
        {
          "name": "stderr",
          "output_type": "stream",
          "text": [
            " 25%|██▌       | 450/1800 [05:25<14:54,  1.51it/s]\n",
            " 25%|██▌       | 450/1800 [05:25<14:54,  1.51it/s]"
          ]
        },
        {
          "name": "stdout",
          "output_type": "stream",
          "text": [
            "{'loss': 0.1005, 'grad_norm': 0.01870548352599144, 'learning_rate': 0.00015000000000000001, 'epoch': 25.0}\n"
          ]
        },
        {
          "name": "stderr",
          "output_type": "stream",
          "text": [
            "\n",
            "\u001b[A\n",
            "\u001b[A\n",
            "\u001b[A\n",
            "\u001b[A                                     \n",
            "\n",
            "                                                  \n",
            " 25%|██▌       | 450/1800 [05:25<14:54,  1.51it/s]\n",
            "\u001b[A"
          ]
        },
        {
          "name": "stdout",
          "output_type": "stream",
          "text": [
            "{'eval_loss': 1.470375657081604, 'eval_accuracy': 0.7777777777777778, 'eval_runtime': 0.4362, 'eval_samples_per_second': 82.533, 'eval_steps_per_second': 11.463, 'epoch': 25.0}\n"
          ]
        },
        {
          "name": "stderr",
          "output_type": "stream",
          "text": [
            " 26%|██▌       | 468/1800 [05:38<14:28,  1.53it/s]\n",
            " 26%|██▌       | 468/1800 [05:38<14:28,  1.53it/s]"
          ]
        },
        {
          "name": "stdout",
          "output_type": "stream",
          "text": [
            "{'loss': 0.1198, 'grad_norm': 4.0804762840271, 'learning_rate': 0.000148, 'epoch': 26.0}\n"
          ]
        },
        {
          "name": "stderr",
          "output_type": "stream",
          "text": [
            "\n",
            "\u001b[A\n",
            "\u001b[A\n",
            "\u001b[A\n",
            "\u001b[A                                     \n",
            "\n",
            "                                                  \n",
            " 26%|██▌       | 468/1800 [05:38<14:28,  1.53it/s]\n",
            "\u001b[A"
          ]
        },
        {
          "name": "stdout",
          "output_type": "stream",
          "text": [
            "{'eval_loss': 1.5568434000015259, 'eval_accuracy': 0.7777777777777778, 'eval_runtime': 0.421, 'eval_samples_per_second': 85.514, 'eval_steps_per_second': 11.877, 'epoch': 26.0}\n"
          ]
        },
        {
          "name": "stderr",
          "output_type": "stream",
          "text": [
            " 27%|██▋       | 486/1800 [05:50<14:27,  1.51it/s]\n",
            " 27%|██▋       | 486/1800 [05:50<14:27,  1.51it/s]"
          ]
        },
        {
          "name": "stdout",
          "output_type": "stream",
          "text": [
            "{'loss': 0.135, 'grad_norm': 11.663888931274414, 'learning_rate': 0.000146, 'epoch': 27.0}\n"
          ]
        },
        {
          "name": "stderr",
          "output_type": "stream",
          "text": [
            "\n",
            "\u001b[A\n",
            "\u001b[A\n",
            "\u001b[A\n",
            "\u001b[A                                     \n",
            "\n",
            "                                                  \n",
            " 27%|██▋       | 486/1800 [05:51<14:27,  1.51it/s]\n",
            "\u001b[A"
          ]
        },
        {
          "name": "stdout",
          "output_type": "stream",
          "text": [
            "{'eval_loss': 1.5179492235183716, 'eval_accuracy': 0.7777777777777778, 'eval_runtime': 0.4492, 'eval_samples_per_second': 80.134, 'eval_steps_per_second': 11.13, 'epoch': 27.0}\n"
          ]
        },
        {
          "name": "stderr",
          "output_type": "stream",
          "text": [
            " 28%|██▊       | 504/1800 [06:04<17:11,  1.26it/s]\n",
            " 28%|██▊       | 504/1800 [06:04<17:11,  1.26it/s]"
          ]
        },
        {
          "name": "stdout",
          "output_type": "stream",
          "text": [
            "{'loss': 0.142, 'grad_norm': 0.240931436419487, 'learning_rate': 0.000144, 'epoch': 28.0}\n"
          ]
        },
        {
          "name": "stderr",
          "output_type": "stream",
          "text": [
            "\n",
            "\u001b[A\n",
            "\u001b[A\n",
            "\u001b[A\n",
            "\u001b[A                                     \n",
            "\n",
            "                                                  \n",
            " 28%|██▊       | 504/1800 [06:05<17:11,  1.26it/s]\n",
            "\u001b[A"
          ]
        },
        {
          "name": "stdout",
          "output_type": "stream",
          "text": [
            "{'eval_loss': 1.4570060968399048, 'eval_accuracy': 0.7777777777777778, 'eval_runtime': 0.4317, 'eval_samples_per_second': 83.384, 'eval_steps_per_second': 11.581, 'epoch': 28.0}\n"
          ]
        },
        {
          "name": "stderr",
          "output_type": "stream",
          "text": [
            " 29%|██▉       | 522/1800 [06:17<14:10,  1.50it/s]\n",
            " 29%|██▉       | 522/1800 [06:17<14:10,  1.50it/s]"
          ]
        },
        {
          "name": "stdout",
          "output_type": "stream",
          "text": [
            "{'loss': 0.0967, 'grad_norm': 5.024460315704346, 'learning_rate': 0.000142, 'epoch': 29.0}\n"
          ]
        },
        {
          "name": "stderr",
          "output_type": "stream",
          "text": [
            "\n",
            "\u001b[A\n",
            "\u001b[A\n",
            "\u001b[A\n",
            "\u001b[A                                     \n",
            "\n",
            "                                                  \n",
            " 29%|██▉       | 522/1800 [06:17<14:10,  1.50it/s]\n",
            "\u001b[A"
          ]
        },
        {
          "name": "stdout",
          "output_type": "stream",
          "text": [
            "{'eval_loss': 1.4917330741882324, 'eval_accuracy': 0.8055555555555556, 'eval_runtime': 0.4262, 'eval_samples_per_second': 84.469, 'eval_steps_per_second': 11.732, 'epoch': 29.0}\n"
          ]
        },
        {
          "name": "stderr",
          "output_type": "stream",
          "text": [
            " 30%|███       | 540/1800 [06:30<14:15,  1.47it/s]\n",
            " 30%|███       | 540/1800 [06:30<14:15,  1.47it/s]"
          ]
        },
        {
          "name": "stdout",
          "output_type": "stream",
          "text": [
            "{'loss': 0.0848, 'grad_norm': 0.013129742816090584, 'learning_rate': 0.00014, 'epoch': 30.0}\n"
          ]
        },
        {
          "name": "stderr",
          "output_type": "stream",
          "text": [
            "\n",
            "\u001b[A\n",
            "\u001b[A\n",
            "\u001b[A\n",
            "\u001b[A                                     \n",
            "\n",
            "                                                  \n",
            " 30%|███       | 540/1800 [06:30<14:15,  1.47it/s]\n",
            "\u001b[A"
          ]
        },
        {
          "name": "stdout",
          "output_type": "stream",
          "text": [
            "{'eval_loss': 1.5339014530181885, 'eval_accuracy': 0.7777777777777778, 'eval_runtime': 0.431, 'eval_samples_per_second': 83.518, 'eval_steps_per_second': 11.6, 'epoch': 30.0}\n"
          ]
        },
        {
          "name": "stderr",
          "output_type": "stream",
          "text": [
            " 31%|███       | 558/1800 [06:43<14:09,  1.46it/s]\n",
            " 31%|███       | 558/1800 [06:43<14:09,  1.46it/s]"
          ]
        },
        {
          "name": "stdout",
          "output_type": "stream",
          "text": [
            "{'loss': 0.087, 'grad_norm': 0.01731746271252632, 'learning_rate': 0.000138, 'epoch': 31.0}\n"
          ]
        },
        {
          "name": "stderr",
          "output_type": "stream",
          "text": [
            "\n",
            "\u001b[A\n",
            "\u001b[A\n",
            "\u001b[A\n",
            "\u001b[A                                     \n",
            "\n",
            "                                                  \n",
            " 31%|███       | 558/1800 [06:43<14:09,  1.46it/s]\n",
            "\u001b[A"
          ]
        },
        {
          "name": "stdout",
          "output_type": "stream",
          "text": [
            "{'eval_loss': 1.4917014837265015, 'eval_accuracy': 0.75, 'eval_runtime': 0.4753, 'eval_samples_per_second': 75.74, 'eval_steps_per_second': 10.519, 'epoch': 31.0}\n"
          ]
        },
        {
          "name": "stderr",
          "output_type": "stream",
          "text": [
            " 32%|███▏      | 576/1800 [06:56<13:21,  1.53it/s]\n",
            " 32%|███▏      | 576/1800 [06:56<13:21,  1.53it/s]"
          ]
        },
        {
          "name": "stdout",
          "output_type": "stream",
          "text": [
            "{'loss': 0.0916, 'grad_norm': 3.6294894218444824, 'learning_rate': 0.00013600000000000003, 'epoch': 32.0}\n"
          ]
        },
        {
          "name": "stderr",
          "output_type": "stream",
          "text": [
            "\n",
            "\u001b[A\n",
            "\u001b[A\n",
            "\u001b[A\n",
            "\u001b[A                                     \n",
            "\n",
            "                                                  \n",
            " 32%|███▏      | 576/1800 [06:56<13:21,  1.53it/s]\n",
            "\u001b[A"
          ]
        },
        {
          "name": "stdout",
          "output_type": "stream",
          "text": [
            "{'eval_loss': 1.4921507835388184, 'eval_accuracy': 0.7777777777777778, 'eval_runtime': 0.4209, 'eval_samples_per_second': 85.527, 'eval_steps_per_second': 11.879, 'epoch': 32.0}\n"
          ]
        },
        {
          "name": "stderr",
          "output_type": "stream",
          "text": [
            " 33%|███▎      | 594/1800 [07:08<13:19,  1.51it/s]\n",
            " 33%|███▎      | 594/1800 [07:08<13:19,  1.51it/s]"
          ]
        },
        {
          "name": "stdout",
          "output_type": "stream",
          "text": [
            "{'loss': 0.0812, 'grad_norm': 0.004489887040108442, 'learning_rate': 0.000134, 'epoch': 33.0}\n"
          ]
        },
        {
          "name": "stderr",
          "output_type": "stream",
          "text": [
            "\n",
            "\u001b[A\n",
            "\u001b[A\n",
            "\u001b[A\n",
            "\u001b[A                                     \n",
            "\n",
            "                                                  \n",
            " 33%|███▎      | 594/1800 [07:09<13:19,  1.51it/s]\n",
            "\u001b[A"
          ]
        },
        {
          "name": "stdout",
          "output_type": "stream",
          "text": [
            "{'eval_loss': 1.5769315958023071, 'eval_accuracy': 0.75, 'eval_runtime': 0.4308, 'eval_samples_per_second': 83.574, 'eval_steps_per_second': 11.608, 'epoch': 33.0}\n"
          ]
        },
        {
          "name": "stderr",
          "output_type": "stream",
          "text": [
            " 34%|███▍      | 612/1800 [07:21<13:48,  1.43it/s]\n",
            " 34%|███▍      | 612/1800 [07:21<13:48,  1.43it/s]"
          ]
        },
        {
          "name": "stdout",
          "output_type": "stream",
          "text": [
            "{'loss': 0.0874, 'grad_norm': 0.008195522241294384, 'learning_rate': 0.000132, 'epoch': 34.0}\n"
          ]
        },
        {
          "name": "stderr",
          "output_type": "stream",
          "text": [
            "\n",
            "\u001b[A\n",
            "\u001b[A\n",
            "\u001b[A\n",
            "\u001b[A                                     \n",
            "\n",
            "                                                  \n",
            " 34%|███▍      | 612/1800 [07:22<13:48,  1.43it/s]\n",
            "\u001b[A"
          ]
        },
        {
          "name": "stdout",
          "output_type": "stream",
          "text": [
            "{'eval_loss': 1.5396603345870972, 'eval_accuracy': 0.7777777777777778, 'eval_runtime': 0.4618, 'eval_samples_per_second': 77.948, 'eval_steps_per_second': 10.826, 'epoch': 34.0}\n"
          ]
        },
        {
          "name": "stderr",
          "output_type": "stream",
          "text": [
            " 35%|███▌      | 630/1800 [07:34<12:49,  1.52it/s]\n",
            " 35%|███▌      | 630/1800 [07:34<12:49,  1.52it/s]"
          ]
        },
        {
          "name": "stdout",
          "output_type": "stream",
          "text": [
            "{'loss': 0.0917, 'grad_norm': 3.8916678428649902, 'learning_rate': 0.00013000000000000002, 'epoch': 35.0}\n"
          ]
        },
        {
          "name": "stderr",
          "output_type": "stream",
          "text": [
            "\n",
            "\u001b[A\n",
            "\u001b[A\n",
            "\u001b[A\n",
            "\u001b[A                                     \n",
            "\n",
            "                                                  \n",
            " 35%|███▌      | 630/1800 [07:34<12:49,  1.52it/s]\n",
            "\u001b[A"
          ]
        },
        {
          "name": "stdout",
          "output_type": "stream",
          "text": [
            "{'eval_loss': 1.58333420753479, 'eval_accuracy': 0.7777777777777778, 'eval_runtime': 0.4219, 'eval_samples_per_second': 85.335, 'eval_steps_per_second': 11.852, 'epoch': 35.0}\n"
          ]
        },
        {
          "name": "stderr",
          "output_type": "stream",
          "text": [
            " 36%|███▌      | 648/1800 [07:47<12:50,  1.50it/s]\n",
            " 36%|███▌      | 648/1800 [07:47<12:50,  1.50it/s]"
          ]
        },
        {
          "name": "stdout",
          "output_type": "stream",
          "text": [
            "{'loss': 0.0898, 'grad_norm': 0.017303813248872757, 'learning_rate': 0.00012800000000000002, 'epoch': 36.0}\n"
          ]
        },
        {
          "name": "stderr",
          "output_type": "stream",
          "text": [
            "\n",
            "\u001b[A\n",
            "\u001b[A\n",
            "\u001b[A\n",
            "\u001b[A                                     \n",
            "\n",
            "                                                  \n",
            " 36%|███▌      | 648/1800 [07:47<12:50,  1.50it/s]\n",
            "\u001b[A"
          ]
        },
        {
          "name": "stdout",
          "output_type": "stream",
          "text": [
            "{'eval_loss': 1.5863300561904907, 'eval_accuracy': 0.7777777777777778, 'eval_runtime': 0.426, 'eval_samples_per_second': 84.509, 'eval_steps_per_second': 11.737, 'epoch': 36.0}\n"
          ]
        },
        {
          "name": "stderr",
          "output_type": "stream",
          "text": [
            " 37%|███▋      | 666/1800 [07:59<12:22,  1.53it/s]\n",
            " 37%|███▋      | 666/1800 [07:59<12:22,  1.53it/s]"
          ]
        },
        {
          "name": "stdout",
          "output_type": "stream",
          "text": [
            "{'loss': 0.0936, 'grad_norm': 4.178726673126221, 'learning_rate': 0.000126, 'epoch': 37.0}\n"
          ]
        },
        {
          "name": "stderr",
          "output_type": "stream",
          "text": [
            "\n",
            "\u001b[A\n",
            "\u001b[A\n",
            "\u001b[A\n",
            "\u001b[A                                     \n",
            "\n",
            "                                                  \n",
            " 37%|███▋      | 666/1800 [08:00<12:22,  1.53it/s]\n",
            "\u001b[A"
          ]
        },
        {
          "name": "stdout",
          "output_type": "stream",
          "text": [
            "{'eval_loss': 1.611666202545166, 'eval_accuracy': 0.7777777777777778, 'eval_runtime': 0.4449, 'eval_samples_per_second': 80.912, 'eval_steps_per_second': 11.238, 'epoch': 37.0}\n"
          ]
        },
        {
          "name": "stderr",
          "output_type": "stream",
          "text": [
            " 38%|███▊      | 684/1800 [08:12<12:24,  1.50it/s]\n",
            " 38%|███▊      | 684/1800 [08:12<12:24,  1.50it/s]"
          ]
        },
        {
          "name": "stdout",
          "output_type": "stream",
          "text": [
            "{'loss': 0.092, 'grad_norm': 0.00877435877919197, 'learning_rate': 0.000124, 'epoch': 38.0}\n"
          ]
        },
        {
          "name": "stderr",
          "output_type": "stream",
          "text": [
            "\n",
            "\u001b[A\n",
            "\u001b[A\n",
            "\u001b[A\n",
            "\u001b[A                                     \n",
            "\n",
            "                                                  \n",
            " 38%|███▊      | 684/1800 [08:12<12:24,  1.50it/s]\n",
            "\u001b[A"
          ]
        },
        {
          "name": "stdout",
          "output_type": "stream",
          "text": [
            "{'eval_loss': 1.6001617908477783, 'eval_accuracy': 0.7777777777777778, 'eval_runtime': 0.3996, 'eval_samples_per_second': 90.083, 'eval_steps_per_second': 12.512, 'epoch': 38.0}\n"
          ]
        },
        {
          "name": "stderr",
          "output_type": "stream",
          "text": [
            " 39%|███▉      | 702/1800 [08:24<11:49,  1.55it/s]\n",
            " 39%|███▉      | 702/1800 [08:24<11:49,  1.55it/s]"
          ]
        },
        {
          "name": "stdout",
          "output_type": "stream",
          "text": [
            "{'loss': 0.0819, 'grad_norm': 0.0036197989247739315, 'learning_rate': 0.000122, 'epoch': 39.0}\n"
          ]
        },
        {
          "name": "stderr",
          "output_type": "stream",
          "text": [
            "\n",
            "\u001b[A\n",
            "\u001b[A\n",
            "\u001b[A\n",
            "\u001b[A                                     \n",
            "\n",
            "                                                  \n",
            " 39%|███▉      | 702/1800 [08:24<11:49,  1.55it/s]\n",
            "\u001b[A"
          ]
        },
        {
          "name": "stdout",
          "output_type": "stream",
          "text": [
            "{'eval_loss': 1.5814108848571777, 'eval_accuracy': 0.7777777777777778, 'eval_runtime': 0.4026, 'eval_samples_per_second': 89.426, 'eval_steps_per_second': 12.42, 'epoch': 39.0}\n"
          ]
        },
        {
          "name": "stderr",
          "output_type": "stream",
          "text": [
            " 40%|████      | 720/1800 [08:36<11:25,  1.57it/s]\n",
            " 40%|████      | 720/1800 [08:36<11:25,  1.57it/s]"
          ]
        },
        {
          "name": "stdout",
          "output_type": "stream",
          "text": [
            "{'loss': 0.0925, 'grad_norm': 0.8825944662094116, 'learning_rate': 0.00012, 'epoch': 40.0}\n"
          ]
        },
        {
          "name": "stderr",
          "output_type": "stream",
          "text": [
            "\n",
            "\u001b[A\n",
            "\u001b[A\n",
            "\u001b[A\n",
            "\u001b[A                                     \n",
            "\n",
            "                                                  \n",
            " 40%|████      | 720/1800 [08:37<11:25,  1.57it/s]\n",
            "\u001b[A"
          ]
        },
        {
          "name": "stdout",
          "output_type": "stream",
          "text": [
            "{'eval_loss': 1.610374093055725, 'eval_accuracy': 0.75, 'eval_runtime': 0.4202, 'eval_samples_per_second': 85.667, 'eval_steps_per_second': 11.898, 'epoch': 40.0}\n"
          ]
        },
        {
          "name": "stderr",
          "output_type": "stream",
          "text": [
            " 41%|████      | 738/1800 [08:48<11:16,  1.57it/s]\n",
            " 41%|████      | 738/1800 [08:48<11:16,  1.57it/s]"
          ]
        },
        {
          "name": "stdout",
          "output_type": "stream",
          "text": [
            "{'loss': 0.1163, 'grad_norm': 0.025727173313498497, 'learning_rate': 0.000118, 'epoch': 41.0}\n"
          ]
        },
        {
          "name": "stderr",
          "output_type": "stream",
          "text": [
            "\n",
            "\u001b[A\n",
            "\u001b[A\n",
            "\u001b[A\n",
            "\u001b[A                                     \n",
            "\n",
            "                                                  \n",
            " 41%|████      | 738/1800 [08:49<11:16,  1.57it/s]\n",
            "\u001b[A"
          ]
        },
        {
          "name": "stdout",
          "output_type": "stream",
          "text": [
            "{'eval_loss': 1.5876649618148804, 'eval_accuracy': 0.7777777777777778, 'eval_runtime': 0.4168, 'eval_samples_per_second': 86.372, 'eval_steps_per_second': 11.996, 'epoch': 41.0}\n"
          ]
        },
        {
          "name": "stderr",
          "output_type": "stream",
          "text": [
            " 42%|████▏     | 756/1800 [09:00<10:52,  1.60it/s]\n",
            " 42%|████▏     | 756/1800 [09:00<10:52,  1.60it/s]"
          ]
        },
        {
          "name": "stdout",
          "output_type": "stream",
          "text": [
            "{'loss': 0.1011, 'grad_norm': 0.03367139771580696, 'learning_rate': 0.000116, 'epoch': 42.0}\n"
          ]
        },
        {
          "name": "stderr",
          "output_type": "stream",
          "text": [
            "\n",
            "\u001b[A\n",
            "\u001b[A\n",
            "\u001b[A                                     \n",
            "\n",
            "                                                  \n",
            " 42%|████▏     | 756/1800 [09:01<10:52,  1.60it/s]\n",
            "\u001b[A"
          ]
        },
        {
          "name": "stdout",
          "output_type": "stream",
          "text": [
            "{'eval_loss': 1.4992533922195435, 'eval_accuracy': 0.8055555555555556, 'eval_runtime': 0.408, 'eval_samples_per_second': 88.235, 'eval_steps_per_second': 12.255, 'epoch': 42.0}\n"
          ]
        },
        {
          "name": "stderr",
          "output_type": "stream",
          "text": [
            " 43%|████▎     | 774/1800 [09:12<10:31,  1.62it/s]\n",
            " 43%|████▎     | 774/1800 [09:12<10:31,  1.62it/s]"
          ]
        },
        {
          "name": "stdout",
          "output_type": "stream",
          "text": [
            "{'loss': 0.1038, 'grad_norm': 0.00822441279888153, 'learning_rate': 0.00011399999999999999, 'epoch': 43.0}\n"
          ]
        },
        {
          "name": "stderr",
          "output_type": "stream",
          "text": [
            "\n",
            "\u001b[A\n",
            "\u001b[A\n",
            "\u001b[A\n",
            "\u001b[A                                     \n",
            "\n",
            "                                                  \n",
            " 43%|████▎     | 774/1800 [09:13<10:31,  1.62it/s]\n",
            "\u001b[A"
          ]
        },
        {
          "name": "stdout",
          "output_type": "stream",
          "text": [
            "{'eval_loss': 1.5927634239196777, 'eval_accuracy': 0.75, 'eval_runtime': 0.3924, 'eval_samples_per_second': 91.741, 'eval_steps_per_second': 12.742, 'epoch': 43.0}\n"
          ]
        },
        {
          "name": "stderr",
          "output_type": "stream",
          "text": [
            " 44%|████▍     | 792/1800 [09:24<10:05,  1.66it/s]\n",
            " 44%|████▍     | 792/1800 [09:24<10:05,  1.66it/s]"
          ]
        },
        {
          "name": "stdout",
          "output_type": "stream",
          "text": [
            "{'loss': 0.0887, 'grad_norm': 4.310479640960693, 'learning_rate': 0.00011200000000000001, 'epoch': 44.0}\n"
          ]
        },
        {
          "name": "stderr",
          "output_type": "stream",
          "text": [
            "\n",
            "\u001b[A\n",
            "\u001b[A\n",
            "\u001b[A\n",
            "\u001b[A                                     \n",
            "\n",
            "                                                  \n",
            " 44%|████▍     | 792/1800 [09:24<10:05,  1.66it/s]\n",
            "\u001b[A"
          ]
        },
        {
          "name": "stdout",
          "output_type": "stream",
          "text": [
            "{'eval_loss': 1.6050095558166504, 'eval_accuracy': 0.7777777777777778, 'eval_runtime': 0.4084, 'eval_samples_per_second': 88.145, 'eval_steps_per_second': 12.242, 'epoch': 44.0}\n"
          ]
        },
        {
          "name": "stderr",
          "output_type": "stream",
          "text": [
            " 45%|████▌     | 810/1800 [09:35<09:17,  1.78it/s]\n",
            " 45%|████▌     | 810/1800 [09:35<09:17,  1.78it/s]"
          ]
        },
        {
          "name": "stdout",
          "output_type": "stream",
          "text": [
            "{'loss': 0.1768, 'grad_norm': 0.9937009811401367, 'learning_rate': 0.00011000000000000002, 'epoch': 45.0}\n"
          ]
        },
        {
          "name": "stderr",
          "output_type": "stream",
          "text": [
            "\n",
            "\u001b[A\n",
            "\u001b[A\n",
            "\u001b[A\n",
            "\u001b[A                                     \n",
            "\n",
            "                                                  \n",
            " 45%|████▌     | 810/1800 [09:36<09:17,  1.78it/s]\n",
            "\u001b[A"
          ]
        },
        {
          "name": "stdout",
          "output_type": "stream",
          "text": [
            "{'eval_loss': 1.6006057262420654, 'eval_accuracy': 0.75, 'eval_runtime': 0.4008, 'eval_samples_per_second': 89.81, 'eval_steps_per_second': 12.474, 'epoch': 45.0}\n"
          ]
        },
        {
          "name": "stderr",
          "output_type": "stream",
          "text": [
            " 46%|████▌     | 828/1800 [09:47<10:31,  1.54it/s]\n",
            " 46%|████▌     | 828/1800 [09:47<10:31,  1.54it/s]"
          ]
        },
        {
          "name": "stdout",
          "output_type": "stream",
          "text": [
            "{'loss': 0.0871, 'grad_norm': 2.9688076972961426, 'learning_rate': 0.00010800000000000001, 'epoch': 46.0}\n"
          ]
        },
        {
          "name": "stderr",
          "output_type": "stream",
          "text": [
            "\n",
            "\u001b[A\n",
            "\u001b[A\n",
            "\u001b[A\n",
            "\u001b[A                                     \n",
            "\n",
            "                                                  \n",
            " 46%|████▌     | 828/1800 [09:48<10:31,  1.54it/s]\n",
            "\u001b[A"
          ]
        },
        {
          "name": "stdout",
          "output_type": "stream",
          "text": [
            "{'eval_loss': 1.685606598854065, 'eval_accuracy': 0.7222222222222222, 'eval_runtime': 0.4075, 'eval_samples_per_second': 88.345, 'eval_steps_per_second': 12.27, 'epoch': 46.0}\n"
          ]
        },
        {
          "name": "stderr",
          "output_type": "stream",
          "text": [
            " 47%|████▋     | 846/1800 [09:59<09:10,  1.73it/s]\n",
            " 47%|████▋     | 846/1800 [09:59<09:10,  1.73it/s]"
          ]
        },
        {
          "name": "stdout",
          "output_type": "stream",
          "text": [
            "{'loss': 0.0945, 'grad_norm': 0.003796821925789118, 'learning_rate': 0.00010600000000000002, 'epoch': 47.0}\n"
          ]
        },
        {
          "name": "stderr",
          "output_type": "stream",
          "text": [
            "\n",
            "\u001b[A\n",
            "\u001b[A\n",
            "\u001b[A\n",
            "\u001b[A                                     \n",
            "\n",
            "                                                  \n",
            " 47%|████▋     | 846/1800 [09:59<09:10,  1.73it/s]\n",
            "\u001b[A"
          ]
        },
        {
          "name": "stdout",
          "output_type": "stream",
          "text": [
            "{'eval_loss': 1.6240352392196655, 'eval_accuracy': 0.75, 'eval_runtime': 0.3611, 'eval_samples_per_second': 99.702, 'eval_steps_per_second': 13.848, 'epoch': 47.0}\n"
          ]
        },
        {
          "name": "stderr",
          "output_type": "stream",
          "text": [
            " 48%|████▊     | 864/1800 [10:10<09:03,  1.72it/s]\n",
            " 48%|████▊     | 864/1800 [10:10<09:03,  1.72it/s]"
          ]
        },
        {
          "name": "stdout",
          "output_type": "stream",
          "text": [
            "{'loss': 0.0916, 'grad_norm': 3.0745441913604736, 'learning_rate': 0.00010400000000000001, 'epoch': 48.0}\n"
          ]
        },
        {
          "name": "stderr",
          "output_type": "stream",
          "text": [
            "\n",
            "\u001b[A\n",
            "\u001b[A\n",
            "\u001b[A\n",
            "\u001b[A                                     \n",
            "\n",
            "                                                  \n",
            " 48%|████▊     | 864/1800 [10:10<09:03,  1.72it/s]\n",
            "\u001b[A"
          ]
        },
        {
          "name": "stdout",
          "output_type": "stream",
          "text": [
            "{'eval_loss': 1.670962929725647, 'eval_accuracy': 0.75, 'eval_runtime': 0.3763, 'eval_samples_per_second': 95.674, 'eval_steps_per_second': 13.288, 'epoch': 48.0}\n"
          ]
        },
        {
          "name": "stderr",
          "output_type": "stream",
          "text": [
            " 49%|████▉     | 882/1800 [10:21<09:51,  1.55it/s]\n",
            " 49%|████▉     | 882/1800 [10:21<09:51,  1.55it/s]"
          ]
        },
        {
          "name": "stdout",
          "output_type": "stream",
          "text": [
            "{'loss': 0.0827, 'grad_norm': 2.6657028198242188, 'learning_rate': 0.00010200000000000001, 'epoch': 49.0}\n"
          ]
        },
        {
          "name": "stderr",
          "output_type": "stream",
          "text": [
            "\n",
            "\u001b[A\n",
            "\u001b[A\n",
            "\u001b[A                                     \n",
            "\n",
            "                                                  \n",
            " 49%|████▉     | 882/1800 [10:22<09:51,  1.55it/s]\n",
            "\u001b[A"
          ]
        },
        {
          "name": "stdout",
          "output_type": "stream",
          "text": [
            "{'eval_loss': 1.638824224472046, 'eval_accuracy': 0.7777777777777778, 'eval_runtime': 0.3294, 'eval_samples_per_second': 109.287, 'eval_steps_per_second': 15.179, 'epoch': 49.0}\n"
          ]
        },
        {
          "name": "stderr",
          "output_type": "stream",
          "text": [
            " 50%|█████     | 900/1800 [10:33<08:47,  1.71it/s]\n",
            " 50%|█████     | 900/1800 [10:33<08:47,  1.71it/s]"
          ]
        },
        {
          "name": "stdout",
          "output_type": "stream",
          "text": [
            "{'loss': 0.0878, 'grad_norm': 0.009235378354787827, 'learning_rate': 0.0001, 'epoch': 50.0}\n"
          ]
        },
        {
          "name": "stderr",
          "output_type": "stream",
          "text": [
            "\n",
            "\u001b[A\n",
            "\u001b[A\n",
            "\u001b[A\n",
            "\u001b[A                                     \n",
            "\n",
            "                                                  \n",
            " 50%|█████     | 900/1800 [10:33<08:47,  1.71it/s]\n",
            "\u001b[A"
          ]
        },
        {
          "name": "stdout",
          "output_type": "stream",
          "text": [
            "{'eval_loss': 1.658346176147461, 'eval_accuracy': 0.75, 'eval_runtime': 0.3924, 'eval_samples_per_second': 91.754, 'eval_steps_per_second': 12.744, 'epoch': 50.0}\n"
          ]
        },
        {
          "name": "stderr",
          "output_type": "stream",
          "text": [
            " 51%|█████     | 918/1800 [10:44<08:25,  1.74it/s]\n",
            " 51%|█████     | 918/1800 [10:44<08:25,  1.74it/s]"
          ]
        },
        {
          "name": "stdout",
          "output_type": "stream",
          "text": [
            "{'loss': 0.0831, 'grad_norm': 0.005205953028053045, 'learning_rate': 9.8e-05, 'epoch': 51.0}\n"
          ]
        },
        {
          "name": "stderr",
          "output_type": "stream",
          "text": [
            "\n",
            "\u001b[A\n",
            "\u001b[A\n",
            "\u001b[A\n",
            "\u001b[A                                     \n",
            "\n",
            "                                                  \n",
            " 51%|█████     | 918/1800 [10:44<08:25,  1.74it/s]\n",
            "\u001b[A"
          ]
        },
        {
          "name": "stdout",
          "output_type": "stream",
          "text": [
            "{'eval_loss': 1.645682454109192, 'eval_accuracy': 0.75, 'eval_runtime': 0.3762, 'eval_samples_per_second': 95.69, 'eval_steps_per_second': 13.29, 'epoch': 51.0}\n"
          ]
        },
        {
          "name": "stderr",
          "output_type": "stream",
          "text": [
            " 52%|█████▏    | 936/1800 [10:55<08:14,  1.75it/s]\n",
            " 52%|█████▏    | 936/1800 [10:55<08:14,  1.75it/s]"
          ]
        },
        {
          "name": "stdout",
          "output_type": "stream",
          "text": [
            "{'loss': 0.0799, 'grad_norm': 0.0073266420513391495, 'learning_rate': 9.6e-05, 'epoch': 52.0}\n"
          ]
        },
        {
          "name": "stderr",
          "output_type": "stream",
          "text": [
            "\n",
            "\u001b[A\n",
            "\u001b[A\n",
            "\u001b[A                                     \n",
            "\n",
            "                                                  \n",
            " 52%|█████▏    | 936/1800 [10:55<08:14,  1.75it/s]\n",
            "\u001b[A"
          ]
        },
        {
          "name": "stdout",
          "output_type": "stream",
          "text": [
            "{'eval_loss': 1.6743788719177246, 'eval_accuracy': 0.75, 'eval_runtime': 0.3451, 'eval_samples_per_second': 104.328, 'eval_steps_per_second': 14.49, 'epoch': 52.0}\n"
          ]
        },
        {
          "name": "stderr",
          "output_type": "stream",
          "text": [
            " 53%|█████▎    | 954/1800 [11:06<08:55,  1.58it/s]\n",
            " 53%|█████▎    | 954/1800 [11:06<08:55,  1.58it/s]"
          ]
        },
        {
          "name": "stdout",
          "output_type": "stream",
          "text": [
            "{'loss': 0.0847, 'grad_norm': 2.4154574871063232, 'learning_rate': 9.4e-05, 'epoch': 53.0}\n"
          ]
        },
        {
          "name": "stderr",
          "output_type": "stream",
          "text": [
            "\n",
            "\u001b[A\n",
            "\u001b[A\n",
            "\u001b[A\n",
            "\u001b[A                                     \n",
            "\n",
            "                                                  \n",
            " 53%|█████▎    | 954/1800 [11:07<08:55,  1.58it/s]\n",
            "\u001b[A"
          ]
        },
        {
          "name": "stdout",
          "output_type": "stream",
          "text": [
            "{'eval_loss': 1.6878551244735718, 'eval_accuracy': 0.75, 'eval_runtime': 0.396, 'eval_samples_per_second': 90.901, 'eval_steps_per_second': 12.625, 'epoch': 53.0}\n"
          ]
        },
        {
          "name": "stderr",
          "output_type": "stream",
          "text": [
            " 54%|█████▍    | 972/1800 [11:18<08:21,  1.65it/s]\n",
            " 54%|█████▍    | 972/1800 [11:18<08:21,  1.65it/s]"
          ]
        },
        {
          "name": "stdout",
          "output_type": "stream",
          "text": [
            "{'loss': 0.0854, 'grad_norm': 3.2916619777679443, 'learning_rate': 9.200000000000001e-05, 'epoch': 54.0}\n"
          ]
        },
        {
          "name": "stderr",
          "output_type": "stream",
          "text": [
            "\n",
            "\u001b[A\n",
            "\u001b[A\n",
            "\u001b[A\n",
            "\u001b[A                                     \n",
            "\n",
            "                                                  \n",
            " 54%|█████▍    | 972/1800 [11:18<08:21,  1.65it/s]\n",
            "\u001b[A"
          ]
        },
        {
          "name": "stdout",
          "output_type": "stream",
          "text": [
            "{'eval_loss': 1.7253762483596802, 'eval_accuracy': 0.75, 'eval_runtime': 0.3764, 'eval_samples_per_second': 95.648, 'eval_steps_per_second': 13.284, 'epoch': 54.0}\n"
          ]
        },
        {
          "name": "stderr",
          "output_type": "stream",
          "text": [
            " 55%|█████▌    | 990/1800 [11:30<08:28,  1.59it/s]\n",
            " 55%|█████▌    | 990/1800 [11:30<08:28,  1.59it/s]"
          ]
        },
        {
          "name": "stdout",
          "output_type": "stream",
          "text": [
            "{'loss': 0.0832, 'grad_norm': 0.00450654374435544, 'learning_rate': 9e-05, 'epoch': 55.0}\n"
          ]
        },
        {
          "name": "stderr",
          "output_type": "stream",
          "text": [
            "\n",
            "\u001b[A\n",
            "\u001b[A\n",
            "\u001b[A\n",
            "\u001b[A                                     \n",
            "\n",
            "                                                  \n",
            " 55%|█████▌    | 990/1800 [11:30<08:28,  1.59it/s]\n",
            "\u001b[A"
          ]
        },
        {
          "name": "stdout",
          "output_type": "stream",
          "text": [
            "{'eval_loss': 1.7258226871490479, 'eval_accuracy': 0.75, 'eval_runtime': 0.3772, 'eval_samples_per_second': 95.436, 'eval_steps_per_second': 13.255, 'epoch': 55.0}\n"
          ]
        },
        {
          "name": "stderr",
          "output_type": "stream",
          "text": [
            " 56%|█████▌    | 1008/1800 [11:43<08:28,  1.56it/s]\n",
            " 56%|█████▌    | 1008/1800 [11:43<08:28,  1.56it/s]"
          ]
        },
        {
          "name": "stdout",
          "output_type": "stream",
          "text": [
            "{'loss': 0.0865, 'grad_norm': 0.010207077488303185, 'learning_rate': 8.800000000000001e-05, 'epoch': 56.0}\n"
          ]
        },
        {
          "name": "stderr",
          "output_type": "stream",
          "text": [
            "\n",
            "\u001b[A\n",
            "\u001b[A\n",
            "\u001b[A                                     \n",
            "\n",
            "                                                   \n",
            " 56%|█████▌    | 1008/1800 [11:43<08:28,  1.56it/s]\n",
            "\u001b[A"
          ]
        },
        {
          "name": "stdout",
          "output_type": "stream",
          "text": [
            "{'eval_loss': 1.7358590364456177, 'eval_accuracy': 0.75, 'eval_runtime': 0.3598, 'eval_samples_per_second': 100.054, 'eval_steps_per_second': 13.896, 'epoch': 56.0}\n"
          ]
        },
        {
          "name": "stderr",
          "output_type": "stream",
          "text": [
            " 57%|█████▋    | 1026/1800 [11:55<08:05,  1.59it/s]\n",
            " 57%|█████▋    | 1026/1800 [11:55<08:05,  1.59it/s]"
          ]
        },
        {
          "name": "stdout",
          "output_type": "stream",
          "text": [
            "{'loss': 0.0826, 'grad_norm': 2.5033740997314453, 'learning_rate': 8.6e-05, 'epoch': 57.0}\n"
          ]
        },
        {
          "name": "stderr",
          "output_type": "stream",
          "text": [
            "\n",
            "\u001b[A\n",
            "\u001b[A\n",
            "\u001b[A\n",
            "\u001b[A                                     \n",
            "\n",
            "                                                   \n",
            " 57%|█████▋    | 1026/1800 [11:55<08:05,  1.59it/s]\n",
            "\u001b[A"
          ]
        },
        {
          "name": "stdout",
          "output_type": "stream",
          "text": [
            "{'eval_loss': 1.7269848585128784, 'eval_accuracy': 0.75, 'eval_runtime': 0.3926, 'eval_samples_per_second': 91.707, 'eval_steps_per_second': 12.737, 'epoch': 57.0}\n"
          ]
        },
        {
          "name": "stderr",
          "output_type": "stream",
          "text": [
            " 58%|█████▊    | 1044/1800 [12:07<07:53,  1.60it/s]\n",
            " 58%|█████▊    | 1044/1800 [12:07<07:53,  1.60it/s]"
          ]
        },
        {
          "name": "stdout",
          "output_type": "stream",
          "text": [
            "{'loss': 0.0814, 'grad_norm': 0.0049003069289028645, 'learning_rate': 8.4e-05, 'epoch': 58.0}\n"
          ]
        },
        {
          "name": "stderr",
          "output_type": "stream",
          "text": [
            "\n",
            "\u001b[A\n",
            "\u001b[A\n",
            "\u001b[A\n",
            "\u001b[A                                     \n",
            "\n",
            "                                                   \n",
            " 58%|█████▊    | 1044/1800 [12:07<07:53,  1.60it/s]\n",
            "\u001b[A"
          ]
        },
        {
          "name": "stdout",
          "output_type": "stream",
          "text": [
            "{'eval_loss': 1.7306069135665894, 'eval_accuracy': 0.75, 'eval_runtime': 0.3457, 'eval_samples_per_second': 104.126, 'eval_steps_per_second': 14.462, 'epoch': 58.0}\n"
          ]
        },
        {
          "name": "stderr",
          "output_type": "stream",
          "text": [
            " 59%|█████▉    | 1062/1800 [12:18<07:45,  1.59it/s]\n",
            " 59%|█████▉    | 1062/1800 [12:18<07:45,  1.59it/s]"
          ]
        },
        {
          "name": "stdout",
          "output_type": "stream",
          "text": [
            "{'loss': 0.0934, 'grad_norm': 5.808035373687744, 'learning_rate': 8.2e-05, 'epoch': 59.0}\n"
          ]
        },
        {
          "name": "stderr",
          "output_type": "stream",
          "text": [
            "\n",
            "\u001b[A\n",
            "\u001b[A\n",
            "\u001b[A\n",
            "\u001b[A                                     \n",
            "\n",
            "                                                   \n",
            " 59%|█████▉    | 1062/1800 [12:19<07:45,  1.59it/s]\n",
            "\u001b[A"
          ]
        },
        {
          "name": "stdout",
          "output_type": "stream",
          "text": [
            "{'eval_loss': 1.754202961921692, 'eval_accuracy': 0.75, 'eval_runtime': 0.3614, 'eval_samples_per_second': 99.604, 'eval_steps_per_second': 13.834, 'epoch': 59.0}\n"
          ]
        },
        {
          "name": "stderr",
          "output_type": "stream",
          "text": [
            " 60%|██████    | 1080/1800 [12:30<07:29,  1.60it/s]\n",
            " 60%|██████    | 1080/1800 [12:30<07:29,  1.60it/s]"
          ]
        },
        {
          "name": "stdout",
          "output_type": "stream",
          "text": [
            "{'loss': 0.0739, 'grad_norm': 0.003498869715258479, 'learning_rate': 8e-05, 'epoch': 60.0}\n"
          ]
        },
        {
          "name": "stderr",
          "output_type": "stream",
          "text": [
            "\n",
            "\u001b[A\n",
            "\u001b[A\n",
            "\u001b[A\n",
            "\u001b[A                                     \n",
            "\n",
            "                                                   \n",
            " 60%|██████    | 1080/1800 [12:31<07:29,  1.60it/s]\n",
            "\u001b[A"
          ]
        },
        {
          "name": "stdout",
          "output_type": "stream",
          "text": [
            "{'eval_loss': 1.7342300415039062, 'eval_accuracy': 0.75, 'eval_runtime': 0.406, 'eval_samples_per_second': 88.679, 'eval_steps_per_second': 12.316, 'epoch': 60.0}\n"
          ]
        },
        {
          "name": "stderr",
          "output_type": "stream",
          "text": [
            " 61%|██████    | 1098/1800 [12:42<07:22,  1.59it/s]\n",
            " 61%|██████    | 1098/1800 [12:42<07:22,  1.59it/s]"
          ]
        },
        {
          "name": "stdout",
          "output_type": "stream",
          "text": [
            "{'loss': 0.084, 'grad_norm': 3.7286415100097656, 'learning_rate': 7.800000000000001e-05, 'epoch': 61.0}\n"
          ]
        },
        {
          "name": "stderr",
          "output_type": "stream",
          "text": [
            "\n",
            "\u001b[A\n",
            "\u001b[A\n",
            "\u001b[A\n",
            "\u001b[A                                     \n",
            "\n",
            "                                                   \n",
            " 61%|██████    | 1098/1800 [12:43<07:22,  1.59it/s]\n",
            "\u001b[A"
          ]
        },
        {
          "name": "stdout",
          "output_type": "stream",
          "text": [
            "{'eval_loss': 1.7457250356674194, 'eval_accuracy': 0.75, 'eval_runtime': 0.4081, 'eval_samples_per_second': 88.222, 'eval_steps_per_second': 12.253, 'epoch': 61.0}\n"
          ]
        },
        {
          "name": "stderr",
          "output_type": "stream",
          "text": [
            " 62%|██████▏   | 1116/1800 [12:54<07:02,  1.62it/s]\n",
            " 62%|██████▏   | 1116/1800 [12:54<07:02,  1.62it/s]"
          ]
        },
        {
          "name": "stdout",
          "output_type": "stream",
          "text": [
            "{'loss': 0.0761, 'grad_norm': 0.02806680090725422, 'learning_rate': 7.6e-05, 'epoch': 62.0}\n"
          ]
        },
        {
          "name": "stderr",
          "output_type": "stream",
          "text": [
            "\n",
            "\u001b[A\n",
            "\u001b[A\n",
            "\u001b[A                                     \n",
            "\n",
            "                                                   \n",
            " 62%|██████▏   | 1116/1800 [12:55<07:02,  1.62it/s]\n",
            "\u001b[A"
          ]
        },
        {
          "name": "stdout",
          "output_type": "stream",
          "text": [
            "{'eval_loss': 1.7595138549804688, 'eval_accuracy': 0.75, 'eval_runtime': 0.3652, 'eval_samples_per_second': 98.565, 'eval_steps_per_second': 13.69, 'epoch': 62.0}\n"
          ]
        },
        {
          "name": "stderr",
          "output_type": "stream",
          "text": [
            " 63%|██████▎   | 1134/1800 [13:06<06:46,  1.64it/s]\n",
            " 63%|██████▎   | 1134/1800 [13:06<06:46,  1.64it/s]"
          ]
        },
        {
          "name": "stdout",
          "output_type": "stream",
          "text": [
            "{'loss': 0.0902, 'grad_norm': 0.004328989889472723, 'learning_rate': 7.4e-05, 'epoch': 63.0}\n"
          ]
        },
        {
          "name": "stderr",
          "output_type": "stream",
          "text": [
            "\n",
            "\u001b[A\n",
            "\u001b[A\n",
            "\u001b[A\n",
            "\u001b[A                                     \n",
            "\n",
            "                                                   \n",
            " 63%|██████▎   | 1134/1800 [13:07<06:46,  1.64it/s]\n",
            "\u001b[A"
          ]
        },
        {
          "name": "stdout",
          "output_type": "stream",
          "text": [
            "{'eval_loss': 1.713559627532959, 'eval_accuracy': 0.75, 'eval_runtime': 0.5656, 'eval_samples_per_second': 63.651, 'eval_steps_per_second': 8.84, 'epoch': 63.0}\n"
          ]
        },
        {
          "name": "stderr",
          "output_type": "stream",
          "text": [
            " 64%|██████▍   | 1152/1800 [13:19<06:59,  1.55it/s]\n",
            " 64%|██████▍   | 1152/1800 [13:19<06:59,  1.55it/s]"
          ]
        },
        {
          "name": "stdout",
          "output_type": "stream",
          "text": [
            "{'loss': 0.0837, 'grad_norm': 3.691831588745117, 'learning_rate': 7.2e-05, 'epoch': 64.0}\n"
          ]
        },
        {
          "name": "stderr",
          "output_type": "stream",
          "text": [
            "\n",
            "\u001b[A\n",
            "\u001b[A\n",
            "\u001b[A\n",
            "\u001b[A                                     \n",
            "\n",
            "                                                   \n",
            " 64%|██████▍   | 1152/1800 [13:19<06:59,  1.55it/s]\n",
            "\u001b[A"
          ]
        },
        {
          "name": "stdout",
          "output_type": "stream",
          "text": [
            "{'eval_loss': 1.7067714929580688, 'eval_accuracy': 0.75, 'eval_runtime': 0.4203, 'eval_samples_per_second': 85.647, 'eval_steps_per_second': 11.895, 'epoch': 64.0}\n"
          ]
        },
        {
          "name": "stderr",
          "output_type": "stream",
          "text": [
            " 65%|██████▌   | 1170/1800 [13:32<07:23,  1.42it/s]\n",
            " 65%|██████▌   | 1170/1800 [13:32<07:23,  1.42it/s]"
          ]
        },
        {
          "name": "stdout",
          "output_type": "stream",
          "text": [
            "{'loss': 0.0794, 'grad_norm': 2.711935520172119, 'learning_rate': 7e-05, 'epoch': 65.0}\n"
          ]
        },
        {
          "name": "stderr",
          "output_type": "stream",
          "text": [
            "\n",
            "\u001b[A\n",
            "\u001b[A\n",
            "\u001b[A\n",
            "\u001b[A                                     \n",
            "\n",
            "                                                   \n",
            " 65%|██████▌   | 1170/1800 [13:32<07:23,  1.42it/s]\n",
            "\u001b[A"
          ]
        },
        {
          "name": "stdout",
          "output_type": "stream",
          "text": [
            "{'eval_loss': 1.7210536003112793, 'eval_accuracy': 0.75, 'eval_runtime': 0.4854, 'eval_samples_per_second': 74.162, 'eval_steps_per_second': 10.3, 'epoch': 65.0}\n"
          ]
        },
        {
          "name": "stderr",
          "output_type": "stream",
          "text": [
            " 66%|██████▌   | 1188/1800 [13:46<06:56,  1.47it/s]\n",
            " 66%|██████▌   | 1188/1800 [13:46<06:56,  1.47it/s]"
          ]
        },
        {
          "name": "stdout",
          "output_type": "stream",
          "text": [
            "{'loss': 0.085, 'grad_norm': 0.006057030986994505, 'learning_rate': 6.800000000000001e-05, 'epoch': 66.0}\n"
          ]
        },
        {
          "name": "stderr",
          "output_type": "stream",
          "text": [
            "\n",
            "\u001b[A\n",
            "\u001b[A\n",
            "\u001b[A\n",
            "\u001b[A                                     \n",
            "\n",
            "                                                   \n",
            " 66%|██████▌   | 1188/1800 [13:46<06:56,  1.47it/s]\n",
            "\u001b[A"
          ]
        },
        {
          "name": "stdout",
          "output_type": "stream",
          "text": [
            "{'eval_loss': 1.7495867013931274, 'eval_accuracy': 0.75, 'eval_runtime': 0.4602, 'eval_samples_per_second': 78.219, 'eval_steps_per_second': 10.864, 'epoch': 66.0}\n"
          ]
        },
        {
          "name": "stderr",
          "output_type": "stream",
          "text": [
            " 67%|██████▋   | 1206/1800 [13:59<07:02,  1.40it/s]\n",
            " 67%|██████▋   | 1206/1800 [13:59<07:02,  1.40it/s]"
          ]
        },
        {
          "name": "stdout",
          "output_type": "stream",
          "text": [
            "{'loss': 0.0765, 'grad_norm': 0.0027812316548079252, 'learning_rate': 6.6e-05, 'epoch': 67.0}\n"
          ]
        },
        {
          "name": "stderr",
          "output_type": "stream",
          "text": [
            "\n",
            "\u001b[A\n",
            "\u001b[A\n",
            "\u001b[A\n",
            "\u001b[A                                     \n",
            "\n",
            "                                                   \n",
            " 67%|██████▋   | 1206/1800 [14:00<07:02,  1.40it/s]\n",
            "\u001b[A"
          ]
        },
        {
          "name": "stdout",
          "output_type": "stream",
          "text": [
            "{'eval_loss': 1.7462573051452637, 'eval_accuracy': 0.75, 'eval_runtime': 0.4754, 'eval_samples_per_second': 75.729, 'eval_steps_per_second': 10.518, 'epoch': 67.0}\n"
          ]
        },
        {
          "name": "stderr",
          "output_type": "stream",
          "text": [
            " 68%|██████▊   | 1224/1800 [14:12<06:15,  1.53it/s]\n",
            " 68%|██████▊   | 1224/1800 [14:12<06:15,  1.53it/s]"
          ]
        },
        {
          "name": "stdout",
          "output_type": "stream",
          "text": [
            "{'loss': 0.0819, 'grad_norm': 0.0044011641293764114, 'learning_rate': 6.400000000000001e-05, 'epoch': 68.0}\n"
          ]
        },
        {
          "name": "stderr",
          "output_type": "stream",
          "text": [
            "\n",
            "\u001b[A\n",
            "\u001b[A\n",
            "\u001b[A\n",
            "\u001b[A                                     \n",
            "\n",
            "                                                   \n",
            " 68%|██████▊   | 1224/1800 [14:13<06:15,  1.53it/s]\n",
            "\u001b[A"
          ]
        },
        {
          "name": "stdout",
          "output_type": "stream",
          "text": [
            "{'eval_loss': 1.7474596500396729, 'eval_accuracy': 0.75, 'eval_runtime': 0.408, 'eval_samples_per_second': 88.239, 'eval_steps_per_second': 12.255, 'epoch': 68.0}\n"
          ]
        },
        {
          "name": "stderr",
          "output_type": "stream",
          "text": [
            " 69%|██████▉   | 1242/1800 [14:26<06:19,  1.47it/s]\n",
            " 69%|██████▉   | 1242/1800 [14:26<06:19,  1.47it/s]"
          ]
        },
        {
          "name": "stdout",
          "output_type": "stream",
          "text": [
            "{'loss': 0.0855, 'grad_norm': 0.0032504345290362835, 'learning_rate': 6.2e-05, 'epoch': 69.0}\n"
          ]
        },
        {
          "name": "stderr",
          "output_type": "stream",
          "text": [
            "\n",
            "\u001b[A\n",
            "\u001b[A\n",
            "\u001b[A\n",
            "\u001b[A                                     \n",
            "\n",
            "                                                   \n",
            " 69%|██████▉   | 1242/1800 [14:26<06:19,  1.47it/s]\n",
            "\u001b[A"
          ]
        },
        {
          "name": "stdout",
          "output_type": "stream",
          "text": [
            "{'eval_loss': 1.7618687152862549, 'eval_accuracy': 0.75, 'eval_runtime': 0.4845, 'eval_samples_per_second': 74.308, 'eval_steps_per_second': 10.321, 'epoch': 69.0}\n"
          ]
        },
        {
          "name": "stderr",
          "output_type": "stream",
          "text": [
            " 70%|███████   | 1260/1800 [14:39<06:00,  1.50it/s]\n",
            " 70%|███████   | 1260/1800 [14:39<06:00,  1.50it/s]"
          ]
        },
        {
          "name": "stdout",
          "output_type": "stream",
          "text": [
            "{'loss': 0.0808, 'grad_norm': 2.9751315116882324, 'learning_rate': 6e-05, 'epoch': 70.0}\n"
          ]
        },
        {
          "name": "stderr",
          "output_type": "stream",
          "text": [
            "\n",
            "\u001b[A\n",
            "\u001b[A\n",
            "\u001b[A\n",
            "\u001b[A                                     \n",
            "\n",
            "                                                   \n",
            " 70%|███████   | 1260/1800 [14:39<06:00,  1.50it/s]\n",
            "\u001b[A"
          ]
        },
        {
          "name": "stdout",
          "output_type": "stream",
          "text": [
            "{'eval_loss': 1.741839051246643, 'eval_accuracy': 0.75, 'eval_runtime': 0.4548, 'eval_samples_per_second': 79.149, 'eval_steps_per_second': 10.993, 'epoch': 70.0}\n"
          ]
        },
        {
          "name": "stderr",
          "output_type": "stream",
          "text": [
            " 71%|███████   | 1278/1800 [14:51<05:43,  1.52it/s]\n",
            " 71%|███████   | 1278/1800 [14:51<05:43,  1.52it/s]"
          ]
        },
        {
          "name": "stdout",
          "output_type": "stream",
          "text": [
            "{'loss': 0.0829, 'grad_norm': 0.012753698974847794, 'learning_rate': 5.8e-05, 'epoch': 71.0}\n"
          ]
        },
        {
          "name": "stderr",
          "output_type": "stream",
          "text": [
            "\n",
            "\u001b[A\n",
            "\u001b[A\n",
            "\u001b[A\n",
            "\u001b[A                                     \n",
            "\n",
            "                                                   \n",
            " 71%|███████   | 1278/1800 [14:52<05:43,  1.52it/s]\n",
            "\u001b[A"
          ]
        },
        {
          "name": "stdout",
          "output_type": "stream",
          "text": [
            "{'eval_loss': 1.7606695890426636, 'eval_accuracy': 0.75, 'eval_runtime': 0.3923, 'eval_samples_per_second': 91.756, 'eval_steps_per_second': 12.744, 'epoch': 71.0}\n"
          ]
        },
        {
          "name": "stderr",
          "output_type": "stream",
          "text": [
            " 72%|███████▏  | 1296/1800 [15:03<05:17,  1.59it/s]\n",
            " 72%|███████▏  | 1296/1800 [15:03<05:17,  1.59it/s]"
          ]
        },
        {
          "name": "stdout",
          "output_type": "stream",
          "text": [
            "{'loss': 0.0757, 'grad_norm': 2.453768253326416, 'learning_rate': 5.6000000000000006e-05, 'epoch': 72.0}\n"
          ]
        },
        {
          "name": "stderr",
          "output_type": "stream",
          "text": [
            "\n",
            "\u001b[A\n",
            "\u001b[A\n",
            "\u001b[A\n",
            "\u001b[A                                     \n",
            "\n",
            "                                                   \n",
            " 72%|███████▏  | 1296/1800 [15:04<05:17,  1.59it/s]\n",
            "\u001b[A"
          ]
        },
        {
          "name": "stdout",
          "output_type": "stream",
          "text": [
            "{'eval_loss': 1.7515143156051636, 'eval_accuracy': 0.75, 'eval_runtime': 0.4392, 'eval_samples_per_second': 81.96, 'eval_steps_per_second': 11.383, 'epoch': 72.0}\n"
          ]
        },
        {
          "name": "stderr",
          "output_type": "stream",
          "text": [
            " 73%|███████▎  | 1314/1800 [15:15<05:10,  1.57it/s]\n",
            " 73%|███████▎  | 1314/1800 [15:15<05:10,  1.57it/s]"
          ]
        },
        {
          "name": "stdout",
          "output_type": "stream",
          "text": [
            "{'loss': 0.0774, 'grad_norm': 0.007705623749643564, 'learning_rate': 5.4000000000000005e-05, 'epoch': 73.0}\n"
          ]
        },
        {
          "name": "stderr",
          "output_type": "stream",
          "text": [
            "\n",
            "\u001b[A\n",
            "\u001b[A\n",
            "\u001b[A\n",
            "\u001b[A                                     \n",
            "\n",
            "                                                   \n",
            " 73%|███████▎  | 1314/1800 [15:16<05:10,  1.57it/s]\n",
            "\u001b[A"
          ]
        },
        {
          "name": "stdout",
          "output_type": "stream",
          "text": [
            "{'eval_loss': 1.755933403968811, 'eval_accuracy': 0.75, 'eval_runtime': 0.4397, 'eval_samples_per_second': 81.875, 'eval_steps_per_second': 11.372, 'epoch': 73.0}\n"
          ]
        },
        {
          "name": "stderr",
          "output_type": "stream",
          "text": [
            " 74%|███████▍  | 1332/1800 [15:28<04:56,  1.58it/s]\n",
            " 74%|███████▍  | 1332/1800 [15:28<04:56,  1.58it/s]"
          ]
        },
        {
          "name": "stdout",
          "output_type": "stream",
          "text": [
            "{'loss': 0.0798, 'grad_norm': 0.0018412353238090873, 'learning_rate': 5.2000000000000004e-05, 'epoch': 74.0}\n"
          ]
        },
        {
          "name": "stderr",
          "output_type": "stream",
          "text": [
            "\n",
            "\u001b[A\n",
            "\u001b[A\n",
            "\u001b[A\n",
            "\u001b[A                                     \n",
            "\n",
            "                                                   \n",
            " 74%|███████▍  | 1332/1800 [15:28<04:56,  1.58it/s]\n",
            "\u001b[A"
          ]
        },
        {
          "name": "stdout",
          "output_type": "stream",
          "text": [
            "{'eval_loss': 1.7556012868881226, 'eval_accuracy': 0.75, 'eval_runtime': 0.5178, 'eval_samples_per_second': 69.53, 'eval_steps_per_second': 9.657, 'epoch': 74.0}\n"
          ]
        },
        {
          "name": "stderr",
          "output_type": "stream",
          "text": [
            " 75%|███████▌  | 1350/1800 [15:40<04:47,  1.56it/s]\n",
            " 75%|███████▌  | 1350/1800 [15:40<04:47,  1.56it/s]"
          ]
        },
        {
          "name": "stdout",
          "output_type": "stream",
          "text": [
            "{'loss': 0.079, 'grad_norm': 2.716559410095215, 'learning_rate': 5e-05, 'epoch': 75.0}\n"
          ]
        },
        {
          "name": "stderr",
          "output_type": "stream",
          "text": [
            "\n",
            "\u001b[A\n",
            "\u001b[A\n",
            "\u001b[A\n",
            "\u001b[A                                     \n",
            "\n",
            "                                                   \n",
            " 75%|███████▌  | 1350/1800 [15:40<04:47,  1.56it/s]\n",
            "\u001b[A"
          ]
        },
        {
          "name": "stdout",
          "output_type": "stream",
          "text": [
            "{'eval_loss': 1.764742374420166, 'eval_accuracy': 0.75, 'eval_runtime': 0.4392, 'eval_samples_per_second': 81.959, 'eval_steps_per_second': 11.383, 'epoch': 75.0}\n"
          ]
        },
        {
          "name": "stderr",
          "output_type": "stream",
          "text": [
            " 76%|███████▌  | 1368/1800 [15:52<04:37,  1.56it/s]\n",
            " 76%|███████▌  | 1368/1800 [15:52<04:37,  1.56it/s]"
          ]
        },
        {
          "name": "stdout",
          "output_type": "stream",
          "text": [
            "{'loss': 0.0762, 'grad_norm': 1.2485874891281128, 'learning_rate': 4.8e-05, 'epoch': 76.0}\n"
          ]
        },
        {
          "name": "stderr",
          "output_type": "stream",
          "text": [
            "\n",
            "\u001b[A\n",
            "\u001b[A\n",
            "\u001b[A\n",
            "\u001b[A                                     \n",
            "\n",
            "                                                   \n",
            " 76%|███████▌  | 1368/1800 [15:53<04:37,  1.56it/s]\n",
            "\u001b[A"
          ]
        },
        {
          "name": "stdout",
          "output_type": "stream",
          "text": [
            "{'eval_loss': 1.7634891271591187, 'eval_accuracy': 0.75, 'eval_runtime': 0.4079, 'eval_samples_per_second': 88.263, 'eval_steps_per_second': 12.259, 'epoch': 76.0}\n"
          ]
        },
        {
          "name": "stderr",
          "output_type": "stream",
          "text": [
            " 77%|███████▋  | 1386/1800 [16:04<04:25,  1.56it/s]\n",
            " 77%|███████▋  | 1386/1800 [16:04<04:25,  1.56it/s]"
          ]
        },
        {
          "name": "stdout",
          "output_type": "stream",
          "text": [
            "{'loss': 0.0787, 'grad_norm': 4.6501641273498535, 'learning_rate': 4.600000000000001e-05, 'epoch': 77.0}\n"
          ]
        },
        {
          "name": "stderr",
          "output_type": "stream",
          "text": [
            "\n",
            "\u001b[A\n",
            "\u001b[A\n",
            "\u001b[A\n",
            "\u001b[A                                     \n",
            "\n",
            "                                                   \n",
            " 77%|███████▋  | 1386/1800 [16:05<04:25,  1.56it/s]\n",
            "\u001b[A"
          ]
        },
        {
          "name": "stdout",
          "output_type": "stream",
          "text": [
            "{'eval_loss': 1.7769392728805542, 'eval_accuracy': 0.75, 'eval_runtime': 0.4548, 'eval_samples_per_second': 79.152, 'eval_steps_per_second': 10.993, 'epoch': 77.0}\n"
          ]
        },
        {
          "name": "stderr",
          "output_type": "stream",
          "text": [
            " 78%|███████▊  | 1404/1800 [16:17<04:10,  1.58it/s]\n",
            " 78%|███████▊  | 1404/1800 [16:17<04:10,  1.58it/s]"
          ]
        },
        {
          "name": "stdout",
          "output_type": "stream",
          "text": [
            "{'loss': 0.0807, 'grad_norm': 1.8578336238861084, 'learning_rate': 4.4000000000000006e-05, 'epoch': 78.0}\n"
          ]
        },
        {
          "name": "stderr",
          "output_type": "stream",
          "text": [
            "\n",
            "\u001b[A\n",
            "\u001b[A\n",
            "\u001b[A\n",
            "\u001b[A                                     \n",
            "\n",
            "                                                   \n",
            " 78%|███████▊  | 1404/1800 [16:17<04:10,  1.58it/s]\n",
            "\u001b[A"
          ]
        },
        {
          "name": "stdout",
          "output_type": "stream",
          "text": [
            "{'eval_loss': 1.7667083740234375, 'eval_accuracy': 0.7777777777777778, 'eval_runtime': 0.5334, 'eval_samples_per_second': 67.491, 'eval_steps_per_second': 9.374, 'epoch': 78.0}\n"
          ]
        },
        {
          "name": "stderr",
          "output_type": "stream",
          "text": [
            " 79%|███████▉  | 1422/1800 [16:28<03:43,  1.69it/s]\n",
            " 79%|███████▉  | 1422/1800 [16:28<03:43,  1.69it/s]"
          ]
        },
        {
          "name": "stdout",
          "output_type": "stream",
          "text": [
            "{'loss': 0.0778, 'grad_norm': 0.0023350995033979416, 'learning_rate': 4.2e-05, 'epoch': 79.0}\n"
          ]
        },
        {
          "name": "stderr",
          "output_type": "stream",
          "text": [
            "\n",
            "\u001b[A\n",
            "\u001b[A\n",
            "\u001b[A\n",
            "\u001b[A                                     \n",
            "\n",
            "                                                   \n",
            " 79%|███████▉  | 1422/1800 [16:29<03:43,  1.69it/s]\n",
            "\u001b[A"
          ]
        },
        {
          "name": "stdout",
          "output_type": "stream",
          "text": [
            "{'eval_loss': 1.7766458988189697, 'eval_accuracy': 0.75, 'eval_runtime': 0.3767, 'eval_samples_per_second': 95.564, 'eval_steps_per_second': 13.273, 'epoch': 79.0}\n"
          ]
        },
        {
          "name": "stderr",
          "output_type": "stream",
          "text": [
            " 80%|████████  | 1440/1800 [16:39<03:29,  1.72it/s]\n",
            " 80%|████████  | 1440/1800 [16:39<03:29,  1.72it/s]"
          ]
        },
        {
          "name": "stdout",
          "output_type": "stream",
          "text": [
            "{'loss': 0.0766, 'grad_norm': 0.0026569468900561333, 'learning_rate': 4e-05, 'epoch': 80.0}\n"
          ]
        },
        {
          "name": "stderr",
          "output_type": "stream",
          "text": [
            "\n",
            "\u001b[A\n",
            "\u001b[A\n",
            "\u001b[A\n",
            "\u001b[A                                     \n",
            "\n",
            "                                                   \n",
            " 80%|████████  | 1440/1800 [16:40<03:29,  1.72it/s]\n",
            "\u001b[A"
          ]
        },
        {
          "name": "stdout",
          "output_type": "stream",
          "text": [
            "{'eval_loss': 1.7982540130615234, 'eval_accuracy': 0.75, 'eval_runtime': 0.3763, 'eval_samples_per_second': 95.672, 'eval_steps_per_second': 13.288, 'epoch': 80.0}\n"
          ]
        },
        {
          "name": "stderr",
          "output_type": "stream",
          "text": [
            " 81%|████████  | 1458/1800 [16:51<03:24,  1.67it/s]\n",
            " 81%|████████  | 1458/1800 [16:51<03:24,  1.67it/s]"
          ]
        },
        {
          "name": "stdout",
          "output_type": "stream",
          "text": [
            "{'loss': 0.072, 'grad_norm': 0.6160391569137573, 'learning_rate': 3.8e-05, 'epoch': 81.0}\n"
          ]
        },
        {
          "name": "stderr",
          "output_type": "stream",
          "text": [
            "\n",
            "\u001b[A\n",
            "\u001b[A\n",
            "\u001b[A                                     \n",
            "\n",
            "                                                   \n",
            " 81%|████████  | 1458/1800 [16:51<03:24,  1.67it/s]\n",
            "\u001b[A"
          ]
        },
        {
          "name": "stdout",
          "output_type": "stream",
          "text": [
            "{'eval_loss': 1.7914981842041016, 'eval_accuracy': 0.75, 'eval_runtime': 0.3602, 'eval_samples_per_second': 99.956, 'eval_steps_per_second': 13.883, 'epoch': 81.0}\n"
          ]
        },
        {
          "name": "stderr",
          "output_type": "stream",
          "text": [
            " 82%|████████▏ | 1476/1800 [17:02<03:10,  1.70it/s]\n",
            " 82%|████████▏ | 1476/1800 [17:02<03:10,  1.70it/s]"
          ]
        },
        {
          "name": "stdout",
          "output_type": "stream",
          "text": [
            "{'loss': 0.0775, 'grad_norm': 1.951627254486084, 'learning_rate': 3.6e-05, 'epoch': 82.0}\n"
          ]
        },
        {
          "name": "stderr",
          "output_type": "stream",
          "text": [
            "\n",
            "\u001b[A\n",
            "\u001b[A\n",
            "\u001b[A\n",
            "\u001b[A                                     \n",
            "\n",
            "                                                   \n",
            " 82%|████████▏ | 1476/1800 [17:02<03:10,  1.70it/s]\n",
            "\u001b[A"
          ]
        },
        {
          "name": "stdout",
          "output_type": "stream",
          "text": [
            "{'eval_loss': 1.7989376783370972, 'eval_accuracy': 0.75, 'eval_runtime': 0.4553, 'eval_samples_per_second': 79.074, 'eval_steps_per_second': 10.982, 'epoch': 82.0}\n"
          ]
        },
        {
          "name": "stderr",
          "output_type": "stream",
          "text": [
            " 83%|████████▎ | 1494/1800 [17:13<03:02,  1.68it/s]\n",
            " 83%|████████▎ | 1494/1800 [17:13<03:02,  1.68it/s]"
          ]
        },
        {
          "name": "stdout",
          "output_type": "stream",
          "text": [
            "{'loss': 0.0727, 'grad_norm': 0.0013136867200955749, 'learning_rate': 3.4000000000000007e-05, 'epoch': 83.0}\n"
          ]
        },
        {
          "name": "stderr",
          "output_type": "stream",
          "text": [
            "\n",
            "\u001b[A\n",
            "\u001b[A\n",
            "\u001b[A                                     \n",
            "\n",
            "                                                   \n",
            " 83%|████████▎ | 1494/1800 [17:14<03:02,  1.68it/s]\n",
            "\u001b[A"
          ]
        },
        {
          "name": "stdout",
          "output_type": "stream",
          "text": [
            "{'eval_loss': 1.7935049533843994, 'eval_accuracy': 0.75, 'eval_runtime': 0.34, 'eval_samples_per_second': 105.87, 'eval_steps_per_second': 14.704, 'epoch': 83.0}\n"
          ]
        },
        {
          "name": "stderr",
          "output_type": "stream",
          "text": [
            " 84%|████████▍ | 1512/1800 [17:26<02:53,  1.66it/s]\n",
            " 84%|████████▍ | 1512/1800 [17:26<02:53,  1.66it/s]"
          ]
        },
        {
          "name": "stdout",
          "output_type": "stream",
          "text": [
            "{'loss': 0.0749, 'grad_norm': 0.0020313330460339785, 'learning_rate': 3.2000000000000005e-05, 'epoch': 84.0}\n"
          ]
        },
        {
          "name": "stderr",
          "output_type": "stream",
          "text": [
            "\n",
            "\u001b[A\n",
            "\u001b[A\n",
            "\u001b[A                                     \n",
            "\n",
            "                                                   \n",
            " 84%|████████▍ | 1512/1800 [17:26<02:53,  1.66it/s]\n",
            "\u001b[A"
          ]
        },
        {
          "name": "stdout",
          "output_type": "stream",
          "text": [
            "{'eval_loss': 1.7958120107650757, 'eval_accuracy': 0.75, 'eval_runtime': 0.3607, 'eval_samples_per_second': 99.816, 'eval_steps_per_second': 13.863, 'epoch': 84.0}\n"
          ]
        },
        {
          "name": "stderr",
          "output_type": "stream",
          "text": [
            " 85%|████████▌ | 1530/1800 [17:37<02:37,  1.72it/s]\n",
            " 85%|████████▌ | 1530/1800 [17:37<02:37,  1.72it/s]"
          ]
        },
        {
          "name": "stdout",
          "output_type": "stream",
          "text": [
            "{'loss': 0.0813, 'grad_norm': 0.00853060558438301, 'learning_rate': 3e-05, 'epoch': 85.0}\n"
          ]
        },
        {
          "name": "stderr",
          "output_type": "stream",
          "text": [
            "\n",
            "\u001b[A\n",
            "\u001b[A\n",
            "\u001b[A\n",
            "\u001b[A                                     \n",
            "\n",
            "                                                   \n",
            " 85%|████████▌ | 1530/1800 [17:37<02:37,  1.72it/s]\n",
            "\u001b[A"
          ]
        },
        {
          "name": "stdout",
          "output_type": "stream",
          "text": [
            "{'eval_loss': 1.797699213027954, 'eval_accuracy': 0.7777777777777778, 'eval_runtime': 0.3924, 'eval_samples_per_second': 91.754, 'eval_steps_per_second': 12.744, 'epoch': 85.0}\n"
          ]
        },
        {
          "name": "stderr",
          "output_type": "stream",
          "text": [
            " 86%|████████▌ | 1548/1800 [17:48<02:27,  1.70it/s]\n",
            " 86%|████████▌ | 1548/1800 [17:48<02:27,  1.70it/s]"
          ]
        },
        {
          "name": "stdout",
          "output_type": "stream",
          "text": [
            "{'loss': 0.0855, 'grad_norm': 3.225288152694702, 'learning_rate': 2.8000000000000003e-05, 'epoch': 86.0}\n"
          ]
        },
        {
          "name": "stderr",
          "output_type": "stream",
          "text": [
            "\n",
            "\u001b[A\n",
            "\u001b[A\n",
            "\u001b[A\n",
            "\u001b[A                                     \n",
            "\n",
            "                                                   \n",
            " 86%|████████▌ | 1548/1800 [17:49<02:27,  1.70it/s]\n",
            "\u001b[A"
          ]
        },
        {
          "name": "stdout",
          "output_type": "stream",
          "text": [
            "{'eval_loss': 1.798876404762268, 'eval_accuracy': 0.7777777777777778, 'eval_runtime': 0.3767, 'eval_samples_per_second': 95.567, 'eval_steps_per_second': 13.273, 'epoch': 86.0}\n"
          ]
        },
        {
          "name": "stderr",
          "output_type": "stream",
          "text": [
            " 87%|████████▋ | 1566/1800 [18:00<02:18,  1.69it/s]\n",
            " 87%|████████▋ | 1566/1800 [18:00<02:18,  1.69it/s]"
          ]
        },
        {
          "name": "stdout",
          "output_type": "stream",
          "text": [
            "{'loss': 0.0801, 'grad_norm': 2.8185272216796875, 'learning_rate': 2.6000000000000002e-05, 'epoch': 87.0}\n"
          ]
        },
        {
          "name": "stderr",
          "output_type": "stream",
          "text": [
            "\n",
            "\u001b[A\n",
            "\u001b[A\n",
            "\u001b[A\n",
            "\u001b[A                                     \n",
            "\n",
            "                                                   \n",
            " 87%|████████▋ | 1566/1800 [18:00<02:18,  1.69it/s]\n",
            "\u001b[A"
          ]
        },
        {
          "name": "stdout",
          "output_type": "stream",
          "text": [
            "{'eval_loss': 1.790000319480896, 'eval_accuracy': 0.75, 'eval_runtime': 0.3924, 'eval_samples_per_second': 91.753, 'eval_steps_per_second': 12.744, 'epoch': 87.0}\n"
          ]
        },
        {
          "name": "stderr",
          "output_type": "stream",
          "text": [
            " 88%|████████▊ | 1584/1800 [18:11<02:06,  1.71it/s]\n",
            " 88%|████████▊ | 1584/1800 [18:11<02:06,  1.71it/s]"
          ]
        },
        {
          "name": "stdout",
          "output_type": "stream",
          "text": [
            "{'loss': 0.0896, 'grad_norm': 5.49118709564209, 'learning_rate': 2.4e-05, 'epoch': 88.0}\n"
          ]
        },
        {
          "name": "stderr",
          "output_type": "stream",
          "text": [
            "\n",
            "\u001b[A\n",
            "\u001b[A\n",
            "\u001b[A\n",
            "\u001b[A                                     \n",
            "\n",
            "                                                   \n",
            " 88%|████████▊ | 1584/1800 [18:11<02:06,  1.71it/s]\n",
            "\u001b[A"
          ]
        },
        {
          "name": "stdout",
          "output_type": "stream",
          "text": [
            "{'eval_loss': 1.7927335500717163, 'eval_accuracy': 0.7777777777777778, 'eval_runtime': 0.3767, 'eval_samples_per_second': 95.564, 'eval_steps_per_second': 13.273, 'epoch': 88.0}\n"
          ]
        },
        {
          "name": "stderr",
          "output_type": "stream",
          "text": [
            " 89%|████████▉ | 1602/1800 [18:22<01:55,  1.72it/s]\n",
            " 89%|████████▉ | 1602/1800 [18:22<01:55,  1.72it/s]"
          ]
        },
        {
          "name": "stdout",
          "output_type": "stream",
          "text": [
            "{'loss': 0.079, 'grad_norm': 0.0025680866092443466, 'learning_rate': 2.2000000000000003e-05, 'epoch': 89.0}\n"
          ]
        },
        {
          "name": "stderr",
          "output_type": "stream",
          "text": [
            "\n",
            "\u001b[A\n",
            "\u001b[A\n",
            "\u001b[A\n",
            "\u001b[A                                     \n",
            "\n",
            "                                                   \n",
            " 89%|████████▉ | 1602/1800 [18:22<01:55,  1.72it/s]\n",
            "\u001b[A"
          ]
        },
        {
          "name": "stdout",
          "output_type": "stream",
          "text": [
            "{'eval_loss': 1.7942447662353516, 'eval_accuracy': 0.7777777777777778, 'eval_runtime': 0.4709, 'eval_samples_per_second': 76.451, 'eval_steps_per_second': 10.618, 'epoch': 89.0}\n"
          ]
        },
        {
          "name": "stderr",
          "output_type": "stream",
          "text": [
            " 90%|█████████ | 1620/1800 [18:33<01:44,  1.72it/s]\n",
            " 90%|█████████ | 1620/1800 [18:33<01:44,  1.72it/s]"
          ]
        },
        {
          "name": "stdout",
          "output_type": "stream",
          "text": [
            "{'loss': 0.0809, 'grad_norm': 0.007261812686920166, 'learning_rate': 2e-05, 'epoch': 90.0}\n"
          ]
        },
        {
          "name": "stderr",
          "output_type": "stream",
          "text": [
            "\n",
            "\u001b[A\n",
            "\u001b[A\n",
            "\u001b[A\n",
            "\u001b[A                                     \n",
            "\n",
            "                                                   \n",
            " 90%|█████████ | 1620/1800 [18:34<01:44,  1.72it/s]\n",
            "\u001b[A"
          ]
        },
        {
          "name": "stdout",
          "output_type": "stream",
          "text": [
            "{'eval_loss': 1.7879674434661865, 'eval_accuracy': 0.7777777777777778, 'eval_runtime': 0.3923, 'eval_samples_per_second': 91.756, 'eval_steps_per_second': 12.744, 'epoch': 90.0}\n"
          ]
        },
        {
          "name": "stderr",
          "output_type": "stream",
          "text": [
            " 91%|█████████ | 1638/1800 [18:45<01:36,  1.68it/s]\n",
            " 91%|█████████ | 1638/1800 [18:45<01:36,  1.68it/s]"
          ]
        },
        {
          "name": "stdout",
          "output_type": "stream",
          "text": [
            "{'loss': 0.0867, 'grad_norm': 0.003670173231512308, 'learning_rate': 1.8e-05, 'epoch': 91.0}\n"
          ]
        },
        {
          "name": "stderr",
          "output_type": "stream",
          "text": [
            "\n",
            "\u001b[A\n",
            "\u001b[A\n",
            "\u001b[A\n",
            "\u001b[A                                     \n",
            "\n",
            "                                                   \n",
            " 91%|█████████ | 1638/1800 [18:45<01:36,  1.68it/s]\n",
            "\u001b[A"
          ]
        },
        {
          "name": "stdout",
          "output_type": "stream",
          "text": [
            "{'eval_loss': 1.7844609022140503, 'eval_accuracy': 0.7777777777777778, 'eval_runtime': 0.3923, 'eval_samples_per_second': 91.759, 'eval_steps_per_second': 12.744, 'epoch': 91.0}\n"
          ]
        },
        {
          "name": "stderr",
          "output_type": "stream",
          "text": [
            " 92%|█████████▏| 1656/1800 [18:56<01:22,  1.74it/s]\n",
            " 92%|█████████▏| 1656/1800 [18:56<01:22,  1.74it/s]"
          ]
        },
        {
          "name": "stdout",
          "output_type": "stream",
          "text": [
            "{'loss': 0.0852, 'grad_norm': 3.5309884548187256, 'learning_rate': 1.6000000000000003e-05, 'epoch': 92.0}\n"
          ]
        },
        {
          "name": "stderr",
          "output_type": "stream",
          "text": [
            "\n",
            "\u001b[A\n",
            "\u001b[A\n",
            "\u001b[A                                     \n",
            "\n",
            "                                                   \n",
            " 92%|█████████▏| 1656/1800 [18:56<01:22,  1.74it/s]\n",
            "\u001b[A"
          ]
        },
        {
          "name": "stdout",
          "output_type": "stream",
          "text": [
            "{'eval_loss': 1.783113956451416, 'eval_accuracy': 0.7777777777777778, 'eval_runtime': 0.3466, 'eval_samples_per_second': 103.88, 'eval_steps_per_second': 14.428, 'epoch': 92.0}\n"
          ]
        },
        {
          "name": "stderr",
          "output_type": "stream",
          "text": [
            " 93%|█████████▎| 1674/1800 [19:07<01:13,  1.70it/s]\n",
            " 93%|█████████▎| 1674/1800 [19:07<01:13,  1.70it/s]"
          ]
        },
        {
          "name": "stdout",
          "output_type": "stream",
          "text": [
            "{'loss': 0.0799, 'grad_norm': 2.499545097351074, 'learning_rate': 1.4000000000000001e-05, 'epoch': 93.0}\n"
          ]
        },
        {
          "name": "stderr",
          "output_type": "stream",
          "text": [
            "\n",
            "\u001b[A\n",
            "\u001b[A\n",
            "\u001b[A                                     \n",
            "\n",
            "                                                   \n",
            " 93%|█████████▎| 1674/1800 [19:07<01:13,  1.70it/s]\n",
            "\u001b[A"
          ]
        },
        {
          "name": "stdout",
          "output_type": "stream",
          "text": [
            "{'eval_loss': 1.78633451461792, 'eval_accuracy': 0.7777777777777778, 'eval_runtime': 0.3611, 'eval_samples_per_second': 99.697, 'eval_steps_per_second': 13.847, 'epoch': 93.0}\n"
          ]
        },
        {
          "name": "stderr",
          "output_type": "stream",
          "text": [
            " 94%|█████████▍| 1692/1800 [19:18<01:03,  1.70it/s]\n",
            " 94%|█████████▍| 1692/1800 [19:18<01:03,  1.70it/s]"
          ]
        },
        {
          "name": "stdout",
          "output_type": "stream",
          "text": [
            "{'loss': 0.0737, 'grad_norm': 0.002215585671365261, 'learning_rate': 1.2e-05, 'epoch': 94.0}\n"
          ]
        },
        {
          "name": "stderr",
          "output_type": "stream",
          "text": [
            "\n",
            "\u001b[A\n",
            "\u001b[A\n",
            "\u001b[A\n",
            "\u001b[A                                     \n",
            "\n",
            "                                                   \n",
            " 94%|█████████▍| 1692/1800 [19:19<01:03,  1.70it/s]\n",
            "\u001b[A"
          ]
        },
        {
          "name": "stdout",
          "output_type": "stream",
          "text": [
            "{'eval_loss': 1.7928303480148315, 'eval_accuracy': 0.7777777777777778, 'eval_runtime': 0.3923, 'eval_samples_per_second': 91.764, 'eval_steps_per_second': 12.745, 'epoch': 94.0}\n"
          ]
        },
        {
          "name": "stderr",
          "output_type": "stream",
          "text": [
            " 95%|█████████▌| 1710/1800 [19:29<00:52,  1.70it/s]\n",
            " 95%|█████████▌| 1710/1800 [19:29<00:52,  1.70it/s]"
          ]
        },
        {
          "name": "stdout",
          "output_type": "stream",
          "text": [
            "{'loss': 0.0771, 'grad_norm': 0.003560261568054557, 'learning_rate': 1e-05, 'epoch': 95.0}\n"
          ]
        },
        {
          "name": "stderr",
          "output_type": "stream",
          "text": [
            "\n",
            "\u001b[A\n",
            "\u001b[A\n",
            "\u001b[A\n",
            "\u001b[A                                     \n",
            "\n",
            "                                                   \n",
            " 95%|█████████▌| 1710/1800 [19:30<00:52,  1.70it/s]\n",
            "\u001b[A"
          ]
        },
        {
          "name": "stdout",
          "output_type": "stream",
          "text": [
            "{'eval_loss': 1.7953262329101562, 'eval_accuracy': 0.7777777777777778, 'eval_runtime': 0.3767, 'eval_samples_per_second': 95.555, 'eval_steps_per_second': 13.271, 'epoch': 95.0}\n"
          ]
        },
        {
          "name": "stderr",
          "output_type": "stream",
          "text": [
            " 96%|█████████▌| 1728/1800 [19:41<00:42,  1.70it/s]\n",
            " 96%|█████████▌| 1728/1800 [19:41<00:42,  1.70it/s]"
          ]
        },
        {
          "name": "stdout",
          "output_type": "stream",
          "text": [
            "{'loss': 0.0696, 'grad_norm': 0.0019398174481466413, 'learning_rate': 8.000000000000001e-06, 'epoch': 96.0}\n"
          ]
        },
        {
          "name": "stderr",
          "output_type": "stream",
          "text": [
            "\n",
            "\u001b[A\n",
            "\u001b[A\n",
            "\u001b[A\n",
            "\u001b[A                                     \n",
            "\n",
            "                                                   \n",
            " 96%|█████████▌| 1728/1800 [19:41<00:42,  1.70it/s]\n",
            "\u001b[A"
          ]
        },
        {
          "name": "stdout",
          "output_type": "stream",
          "text": [
            "{'eval_loss': 1.7943369150161743, 'eval_accuracy': 0.7777777777777778, 'eval_runtime': 0.3763, 'eval_samples_per_second': 95.656, 'eval_steps_per_second': 13.286, 'epoch': 96.0}\n"
          ]
        },
        {
          "name": "stderr",
          "output_type": "stream",
          "text": [
            " 97%|█████████▋| 1746/1800 [19:52<00:31,  1.73it/s]\n",
            " 97%|█████████▋| 1746/1800 [19:52<00:31,  1.73it/s]"
          ]
        },
        {
          "name": "stdout",
          "output_type": "stream",
          "text": [
            "{'loss': 0.0832, 'grad_norm': 0.003526812419295311, 'learning_rate': 6e-06, 'epoch': 97.0}\n"
          ]
        },
        {
          "name": "stderr",
          "output_type": "stream",
          "text": [
            "\n",
            "\u001b[A\n",
            "\u001b[A\n",
            "\u001b[A\n",
            "\u001b[A                                     \n",
            "\n",
            "                                                   \n",
            " 97%|█████████▋| 1746/1800 [19:52<00:31,  1.73it/s]\n",
            "\u001b[A"
          ]
        },
        {
          "name": "stdout",
          "output_type": "stream",
          "text": [
            "{'eval_loss': 1.7942776679992676, 'eval_accuracy': 0.7777777777777778, 'eval_runtime': 0.3843, 'eval_samples_per_second': 93.677, 'eval_steps_per_second': 13.011, 'epoch': 97.0}\n"
          ]
        },
        {
          "name": "stderr",
          "output_type": "stream",
          "text": [
            " 98%|█████████▊| 1764/1800 [20:03<00:21,  1.70it/s]\n",
            " 98%|█████████▊| 1764/1800 [20:03<00:21,  1.70it/s]"
          ]
        },
        {
          "name": "stdout",
          "output_type": "stream",
          "text": [
            "{'loss': 0.08, 'grad_norm': 3.4068307876586914, 'learning_rate': 4.000000000000001e-06, 'epoch': 98.0}\n"
          ]
        },
        {
          "name": "stderr",
          "output_type": "stream",
          "text": [
            "\n",
            "\u001b[A\n",
            "\u001b[A\n",
            "\u001b[A\n",
            "\u001b[A                                     \n",
            "\n",
            "                                                   \n",
            " 98%|█████████▊| 1764/1800 [20:04<00:21,  1.70it/s]\n",
            "\u001b[A"
          ]
        },
        {
          "name": "stdout",
          "output_type": "stream",
          "text": [
            "{'eval_loss': 1.7948668003082275, 'eval_accuracy': 0.7777777777777778, 'eval_runtime': 0.408, 'eval_samples_per_second': 88.243, 'eval_steps_per_second': 12.256, 'epoch': 98.0}\n"
          ]
        },
        {
          "name": "stderr",
          "output_type": "stream",
          "text": [
            " 99%|█████████▉| 1782/1800 [20:14<00:10,  1.66it/s]\n",
            " 99%|█████████▉| 1782/1800 [20:14<00:10,  1.66it/s]"
          ]
        },
        {
          "name": "stdout",
          "output_type": "stream",
          "text": [
            "{'loss': 0.0697, 'grad_norm': 0.007434210740029812, 'learning_rate': 2.0000000000000003e-06, 'epoch': 99.0}\n"
          ]
        },
        {
          "name": "stderr",
          "output_type": "stream",
          "text": [
            "\n",
            "\u001b[A\n",
            "\u001b[A\n",
            "\u001b[A\n",
            "\u001b[A                                     \n",
            "\n",
            "                                                   \n",
            " 99%|█████████▉| 1782/1800 [20:15<00:10,  1.66it/s]\n",
            "\u001b[A"
          ]
        },
        {
          "name": "stdout",
          "output_type": "stream",
          "text": [
            "{'eval_loss': 1.7958502769470215, 'eval_accuracy': 0.7777777777777778, 'eval_runtime': 0.3924, 'eval_samples_per_second': 91.755, 'eval_steps_per_second': 12.744, 'epoch': 99.0}\n"
          ]
        },
        {
          "name": "stderr",
          "output_type": "stream",
          "text": [
            "100%|██████████| 1800/1800 [20:26<00:00,  1.72it/s]\n",
            "100%|██████████| 1800/1800 [20:27<00:00,  1.72it/s]"
          ]
        },
        {
          "name": "stdout",
          "output_type": "stream",
          "text": [
            "{'loss': 0.0786, 'grad_norm': 4.7932515144348145, 'learning_rate': 0.0, 'epoch': 100.0}\n"
          ]
        },
        {
          "name": "stderr",
          "output_type": "stream",
          "text": [
            "\n",
            "\u001b[A\n",
            "\u001b[A\n",
            "\u001b[A\n",
            "\u001b[A                                     \n",
            "\n",
            "                                                   \n",
            "100%|██████████| 1800/1800 [20:27<00:00,  1.72it/s]\n",
            "\u001b[A\n",
            "100%|██████████| 1800/1800 [20:27<00:00,  1.47it/s]"
          ]
        },
        {
          "name": "stdout",
          "output_type": "stream",
          "text": [
            "{'eval_loss': 1.7953420877456665, 'eval_accuracy': 0.7777777777777778, 'eval_runtime': 0.3924, 'eval_samples_per_second': 91.75, 'eval_steps_per_second': 12.743, 'epoch': 100.0}\n",
            "{'train_runtime': 1227.8183, 'train_samples_per_second': 11.565, 'train_steps_per_second': 1.466, 'train_loss': 0.1387373232179218, 'epoch': 100.0}\n"
          ]
        },
        {
          "name": "stderr",
          "output_type": "stream",
          "text": [
            "\n"
          ]
        },
        {
          "data": {
            "text/plain": [
              "TrainOutput(global_step=1800, training_loss=0.1387373232179218, metrics={'train_runtime': 1227.8183, 'train_samples_per_second': 11.565, 'train_steps_per_second': 1.466, 'total_flos': 146990090160000.0, 'train_loss': 0.1387373232179218, 'epoch': 100.0})"
            ]
          },
          "execution_count": 124,
          "metadata": {},
          "output_type": "execute_result"
        }
      ],
      "source": [
        "# Train the models separately\n",
        "print(\"Training Cause Model:\")\n",
        "cause_trainer.train()\n",
        "print(\"\\nTraining Isolation Model:\")\n",
        "isolation_trainer.train()"
      ]
    },
    {
      "cell_type": "code",
      "execution_count": null,
      "metadata": {},
      "outputs": [
        {
          "data": {
            "image/png": "[encoded data removed]",
            "text/plain": [
              "<Figure size 1200x600 with 1 Axes>"
            ]
          },
          "metadata": {},
          "output_type": "display_data"
        },
        {
          "data": {
            "image/png": "[encoded data removed]",
            "text/plain": [
              "<Figure size 1200x600 with 1 Axes>"
            ]
          },
          "metadata": {},
          "output_type": "display_data"
        }
      ],
      "source": [
        "def plot_training_metrics(cause_trainer, isolation_trainer):\n",
        "    \"\"\"Plot training and validation metrics from both trainers\"\"\"\n",
        "    \n",
        "    # Get training histories\n",
        "    cause_history = cause_trainer.state.log_history\n",
        "    isolation_history = isolation_trainer.state.log_history\n",
        "    \n",
        "    # Extract metrics\n",
        "    cause_train_loss = []\n",
        "    cause_eval_loss = []\n",
        "    isolation_train_loss = []\n",
        "    isolation_eval_loss = []\n",
        "    cause_accuracy = []\n",
        "    isolation_accuracy = []\n",
        "    epochs = []\n",
        "    \n",
        "    # Process cause trainer history\n",
        "    for entry in cause_history:\n",
        "        if 'loss' in entry and 'epoch' in entry and 'eval_loss' not in entry:\n",
        "            cause_train_loss.append(entry['loss'])\n",
        "            epochs.append(entry['epoch'])\n",
        "        if 'eval_loss' in entry:\n",
        "            cause_eval_loss.append(entry['eval_loss'])\n",
        "            cause_accuracy.append(entry['eval_accuracy'])\n",
        "    \n",
        "    # Process isolation trainer history\n",
        "    for entry in isolation_history:\n",
        "        if 'loss' in entry and 'epoch' in entry and 'eval_loss' not in entry:\n",
        "            isolation_train_loss.append(entry['loss'])\n",
        "        if 'eval_loss' in entry:\n",
        "            isolation_eval_loss.append(entry['eval_loss'])\n",
        "            isolation_accuracy.append(entry['eval_accuracy'])\n",
        "    \n",
        "    # Plot accuracies\n",
        "    plt.figure(figsize=(12, 6))\n",
        "    plt.plot(epochs, cause_accuracy, label='Cause Training Accuracy')\n",
        "    plt.plot(epochs, isolation_accuracy, label='Isolation Training Accuracy') \n",
        "    plt.title('Model Accuracies')\n",
        "    plt.xlabel('Epochs')\n",
        "    plt.ylabel('Accuracy')\n",
        "    plt.legend(loc='lower right')\n",
        "    plt.grid(True)\n",
        "    plt.show()\n",
        "    \n",
        "    # Plot losses\n",
        "    plt.figure(figsize=(12, 6))\n",
        "    plt.plot(epochs, cause_train_loss, label='Cause Training Loss')\n",
        "    plt.plot(epochs, cause_eval_loss, label='Cause Validation Loss')\n",
        "    plt.plot(epochs, isolation_train_loss, label='Isolation Training Loss')\n",
        "    plt.plot(epochs, isolation_eval_loss, label='Isolation Validation Loss')\n",
        "    plt.title('Model Losses')\n",
        "    plt.xlabel('Epochs')\n",
        "    plt.ylabel('Loss')\n",
        "    plt.legend(loc='upper right')\n",
        "    plt.grid(True)\n",
        "    plt.show()   \n",
        "    \n",
        "    # Get training histories\n",
        "    cause_history = cause_trainer.state.log_history\n",
        "    isolation_history = isolation_trainer.state.log_history\n",
        "    \n",
        "    # Extract metrics\n",
        "    train_loss = []\n",
        "    eval_loss = []\n",
        "    cause_accuracy = []\n",
        "    isolation_accuracy = []\n",
        "    epochs = []\n",
        "    \n",
        "\n",
        "\n",
        "plot_training_metrics(cause_trainer, isolation_trainer)"
      ]
    },
    {
      "cell_type": "markdown",
      "metadata": {
        "id": "gqZbK3pior3b"
      },
      "source": [
        "# 5. Evaluate Model"
      ]
    },
    {
      "cell_type": "code",
      "execution_count": 134,
      "metadata": {
        "id": "H_4rf_8OtA7n"
      },
      "outputs": [],
      "source": [
        "from sklearn.metrics import classification_report"
      ]
    },
    {
      "cell_type": "markdown",
      "metadata": {},
      "source": [
        "### evaluating the model on the train set"
      ]
    },
    {
      "cell_type": "code",
      "execution_count": 138,
      "metadata": {
        "id": "jXO8wmpNsiM2"
      },
      "outputs": [
        {
          "name": "stdout",
          "output_type": "stream",
          "text": [
            "Evaluating on training set:\n"
          ]
        },
        {
          "name": "stderr",
          "output_type": "stream",
          "text": [
            "100%|██████████| 18/18 [00:01<00:00,  9.61it/s]\n",
            "100%|██████████| 18/18 [00:01<00:00, 10.15it/s]\n"
          ]
        },
        {
          "name": "stdout",
          "output_type": "stream",
          "text": [
            "Classification Report - Cause:\n",
            "              precision    recall  f1-score   support\n",
            "\n",
            "      Animal       1.00      1.00      1.00         4\n",
            "    Customer       1.00      1.00      1.00         5\n",
            "   Equipment       1.00      1.00      1.00        54\n",
            "   Lightning       1.00      1.00      1.00        18\n",
            "       Other       1.00      1.00      1.00         4\n",
            "     Planned       1.00      1.00      1.00         1\n",
            "        Tree       1.00      1.00      1.00        35\n",
            "     Vehicle       1.00      1.00      1.00        18\n",
            "     Weather       1.00      1.00      1.00         3\n",
            "\n",
            "    accuracy                           1.00       142\n",
            "   macro avg       1.00      1.00      1.00       142\n",
            "weighted avg       1.00      1.00      1.00       142\n",
            "\n",
            "\n",
            "Classification Report - Isolation Equipment:\n",
            "                  precision    recall  f1-score   support\n",
            "\n",
            "         Breaker       1.00      0.94      0.97        65\n",
            "            CO15       1.00      1.00      1.00        10\n",
            "          CO15LB       0.88      1.00      0.93         7\n",
            "        Customer       1.00      1.00      1.00         4\n",
            "            Fuse       1.00      0.91      0.95        11\n",
            "       Fuse CO15       1.00      1.00      1.00         1\n",
            "       R-OVR-1PT       1.00      1.00      1.00         3\n",
            "         R100-4E       1.00      1.00      1.00        12\n",
            "           R100E       0.00      0.00      0.00         1\n",
            "        Recloser       1.00      1.00      1.00         8\n",
            "      SECT200NLB       1.00      1.00      1.00         3\n",
            "   Sectionalizer       0.75      1.00      0.86        12\n",
            "Service Restorer       0.50      1.00      0.67         1\n",
            "          Switch       1.00      1.00      1.00         4\n",
            "\n",
            "        accuracy                           0.96       142\n",
            "       macro avg       0.87      0.92      0.88       142\n",
            "    weighted avg       0.96      0.96      0.96       142\n",
            "\n"
          ]
        },
        {
          "data": {
            "image/png": "[encoded data removed]",
            "text/plain": [
              "<Figure size 2000x800 with 4 Axes>"
            ]
          },
          "metadata": {},
          "output_type": "display_data"
        }
      ],
      "source": [
        "import numpy as np\n",
        "from sklearn.metrics import classification_report, confusion_matrix\n",
        "import matplotlib.pyplot as plt\n",
        "import seaborn as sns\n",
        "\n",
        "# Evaluate on training set\n",
        "print(\"Evaluating on training set:\")\n",
        "cause_predictions = cause_trainer.predict(tokenized_train_cause)\n",
        "isolation_predictions = isolation_trainer.predict(tokenized_train_isolation)\n",
        "\n",
        "# Extract predictions\n",
        "cause_preds = np.argmax(cause_predictions.predictions, axis=1)\n",
        "isolation_preds = np.argmax(isolation_predictions.predictions, axis=1)\n",
        "\n",
        "# Get true labels\n",
        "cause_true = df_train['cause_label'].values\n",
        "isolation_true = df_train['isolation_label'].values\n",
        "\n",
        "# Get unique labels present in data\n",
        "unique_cause_labels = np.unique(np.concatenate([cause_true, cause_preds]))\n",
        "unique_isolation_labels = np.unique(np.concatenate([isolation_true, isolation_preds]))\n",
        "\n",
        "# Get class names for present labels\n",
        "cause_class_names = le_cause.classes_[unique_cause_labels]\n",
        "isolation_class_names = le_isolation.classes_[unique_isolation_labels]\n",
        "\n",
        "# Print classification reports with only present classes\n",
        "print(\"Classification Report - Cause:\")\n",
        "print(classification_report(\n",
        "    cause_true, cause_preds,\n",
        "    labels=unique_cause_labels,\n",
        "    target_names=cause_class_names,\n",
        "    zero_division=0\n",
        "))\n",
        "\n",
        "print(\"\\nClassification Report - Isolation Equipment:\")\n",
        "print(classification_report(\n",
        "    isolation_true, isolation_preds,\n",
        "    labels=unique_isolation_labels,\n",
        "    target_names=isolation_class_names,\n",
        "    zero_division=0\n",
        "))\n",
        "\n",
        "# Create figure for confusion matrices\n",
        "fig, (ax1, ax2) = plt.subplots(1, 2, figsize=(20, 8))\n",
        "\n",
        "# Plot Cause confusion matrix with present labels only\n",
        "cause_conf_matrix = confusion_matrix(cause_true, cause_preds, labels=unique_cause_labels)\n",
        "sns.heatmap(cause_conf_matrix, annot=True, fmt='d', cmap='Blues',\n",
        "            xticklabels=cause_class_names,\n",
        "            yticklabels=cause_class_names,\n",
        "            ax=ax1)\n",
        "ax1.set_title('Confusion Matrix - Cause')\n",
        "ax1.set_xlabel('Predicted')\n",
        "ax1.set_ylabel('True')\n",
        "plt.setp(ax1.get_xticklabels(), rotation=45, ha='right')\n",
        "\n",
        "# Plot Isolation Equipment confusion matrix with present labels only\n",
        "isolation_conf_matrix = confusion_matrix(isolation_true, isolation_preds, labels=unique_isolation_labels)\n",
        "sns.heatmap(isolation_conf_matrix, annot=True, fmt='d', cmap='Blues',\n",
        "            xticklabels=isolation_class_names,\n",
        "            yticklabels=isolation_class_names,\n",
        "            ax=ax2)\n",
        "ax2.set_title('Confusion Matrix - Isolation Equipment')\n",
        "ax2.set_xlabel('Predicted')\n",
        "ax2.set_ylabel('True')\n",
        "plt.setp(ax2.get_xticklabels(), rotation=45, ha='right')\n",
        "\n",
        "plt.tight_layout()\n",
        "plt.show()"
      ]
    },
    {
      "cell_type": "markdown",
      "metadata": {},
      "source": [
        "✅ Model performs exceptionally well (99% accuracy).\n",
        "⚠️ Class 8 has poor performance (likely due to an imbalanced dataset or insufficient training examples)"
      ]
    },
    {
      "cell_type": "markdown",
      "metadata": {},
      "source": [
        " ### evaluating the model on the test set"
      ]
    },
    {
      "cell_type": "code",
      "execution_count": 139,
      "metadata": {
        "colab": {
          "base_uri": "https://localhost:8080/",
          "height": 263
        },
        "id": "OIMu476_cZGn",
        "outputId": "814f38c6-b441-4aa0-8d21-2371cc7fa03d"
      },
      "outputs": [
        {
          "name": "stderr",
          "output_type": "stream",
          "text": [
            "100%|██████████| 5/5 [00:00<00:00, 15.99it/s]\n",
            "100%|██████████| 5/5 [00:00<00:00, 15.00it/s]\n"
          ]
        },
        {
          "name": "stdout",
          "output_type": "stream",
          "text": [
            "Classification Report - Cause:\n",
            "              precision    recall  f1-score   support\n",
            "\n",
            "      Animal       1.00      1.00      1.00         3\n",
            "    Customer       1.00      1.00      1.00         1\n",
            "   Equipment       1.00      1.00      1.00        19\n",
            "   Lightning       1.00      1.00      1.00         3\n",
            "     Planned       1.00      1.00      1.00         1\n",
            "        Tree       1.00      1.00      1.00         4\n",
            "     Vehicle       1.00      1.00      1.00         5\n",
            "\n",
            "    accuracy                           1.00        36\n",
            "   macro avg       1.00      1.00      1.00        36\n",
            "weighted avg       1.00      1.00      1.00        36\n",
            "\n",
            "\n",
            "Classification Report - Isolation Equipment:\n",
            "               precision    recall  f1-score   support\n",
            "\n",
            "      Breaker       0.92      1.00      0.96        11\n",
            "         CO15       0.00      0.00      0.00         2\n",
            "       CO15LB       0.00      0.00      0.00         0\n",
            "     Customer       1.00      1.00      1.00         1\n",
            "         Fuse       1.00      0.50      0.67         8\n",
            "    Fuse CO15       0.00      0.00      0.00         0\n",
            "          OCB       0.00      0.00      0.00         1\n",
            "    R-OVR-1PT       1.00      1.00      1.00         3\n",
            "      R100-4E       1.00      1.00      1.00         1\n",
            "     Recloser       1.00      0.80      0.89         5\n",
            "   SECT200NLB       1.00      1.00      1.00         1\n",
            "Sectionalizer       0.43      1.00      0.60         3\n",
            "\n",
            "     accuracy                           0.78        36\n",
            "    macro avg       0.61      0.61      0.59        36\n",
            " weighted avg       0.84      0.78      0.78        36\n",
            "\n"
          ]
        },
        {
          "data": {
            "image/png": "[encoded data removed]",
            "text/plain": [
              "<Figure size 2000x800 with 4 Axes>"
            ]
          },
          "metadata": {},
          "output_type": "display_data"
        }
      ],
      "source": [
        "# Get predictions for both models on test set\n",
        "cause_predictions = cause_trainer.predict(tokenized_test_cause)  # Changed from tokenized_test\n",
        "isolation_predictions = isolation_trainer.predict(tokenized_test_isolation)  # Changed from tokenized_test\n",
        "\n",
        "# Extract predictions\n",
        "cause_preds = np.argmax(cause_predictions.predictions, axis=1)  \n",
        "isolation_preds = np.argmax(isolation_predictions.predictions, axis=1)\n",
        "\n",
        "# Get ground truth values\n",
        "cause_true = df_test['cause_label'].values  # Changed from tolist() for consistency\n",
        "isolation_true = df_test['isolation_label'].values\n",
        "\n",
        "# Get unique labels present in test data\n",
        "unique_cause_labels = np.unique(np.concatenate([cause_true, cause_preds]))\n",
        "unique_isolation_labels = np.unique(np.concatenate([isolation_true, isolation_preds]))\n",
        "\n",
        "# Get class names for present labels\n",
        "cause_class_names = le_cause.classes_[unique_cause_labels]\n",
        "isolation_class_names = le_isolation.classes_[unique_isolation_labels]\n",
        "\n",
        "# Print classification reports with only present classes\n",
        "print(\"Classification Report - Cause:\")\n",
        "print(classification_report(\n",
        "    cause_true, cause_preds,\n",
        "    labels=unique_cause_labels,\n",
        "    target_names=cause_class_names,\n",
        "    zero_division=0\n",
        "))\n",
        "\n",
        "print(\"\\nClassification Report - Isolation Equipment:\")\n",
        "print(classification_report(\n",
        "    isolation_true, isolation_preds,\n",
        "    labels=unique_isolation_labels, \n",
        "    target_names=isolation_class_names,\n",
        "    zero_division=0\n",
        "))\n",
        "\n",
        "# Create figure for confusion matrices\n",
        "fig, (ax1, ax2) = plt.subplots(1, 2, figsize=(20, 8))\n",
        "\n",
        "# Plot Cause confusion matrix with present labels only\n",
        "cause_conf_matrix = confusion_matrix(cause_true, cause_preds, labels=unique_cause_labels)\n",
        "sns.heatmap(cause_conf_matrix, annot=True, fmt='d', cmap='Blues',\n",
        "            xticklabels=cause_class_names,\n",
        "            yticklabels=cause_class_names,\n",
        "            ax=ax1)\n",
        "ax1.set_title('Confusion Matrix - Cause')\n",
        "ax1.set_xlabel('Predicted')\n",
        "ax1.set_ylabel('True')\n",
        "plt.setp(ax1.get_xticklabels(), rotation=45, ha='right')\n",
        "\n",
        "# Plot Isolation Equipment confusion matrix with present labels only\n",
        "isolation_conf_matrix = confusion_matrix(isolation_true, isolation_preds, labels=unique_isolation_labels)\n",
        "sns.heatmap(isolation_conf_matrix, annot=True, fmt='d', cmap='Blues',\n",
        "            xticklabels=isolation_class_names,\n",
        "            yticklabels=isolation_class_names,\n",
        "            ax=ax2)\n",
        "ax2.set_title('Confusion Matrix - Isolation Equipment')\n",
        "ax2.set_xlabel('Predicted')\n",
        "ax2.set_ylabel('True')\n",
        "plt.setp(ax2.get_xticklabels(), rotation=45, ha='right')\n",
        "\n",
        "plt.tight_layout()\n",
        "plt.show()"
      ]
    },
    {
      "cell_type": "markdown",
      "metadata": {},
      "source": [
        "### Using the saved ticket model for real time application"
      ]
    },
    {
      "cell_type": "code",
      "execution_count": 142,
      "metadata": {
        "id": "uhqP5LYnXMyo"
      },
      "outputs": [],
      "source": [
        "from transformers import AutoModelForSequenceClassification, AutoTokenizer\n",
        "import torch\n",
        "\n",
        "# Function to clean input text\n",
        "def clean_text(text):\n",
        "    text = text.lower()\n",
        "    text = re.sub(r'[^\\w\\s]', '', text)\n",
        "    return text\n",
        "\n",
        "def classify_text(text, cause_model, isolation_model, tokenizer):\n",
        "    \"\"\"Classify text using the trained cause and isolation models\"\"\"\n",
        "    \n",
        "    # Clean and preprocess input text\n",
        "    cleaned_text = clean_text(text)\n",
        "    \n",
        "    # Tokenize the cleaned text\n",
        "    inputs = tokenizer(cleaned_text, \n",
        "                      return_tensors=\"pt\",\n",
        "                      truncation=True, \n",
        "                      padding=True)\n",
        "    \n",
        "    # Get predictions from both models\n",
        "    with torch.no_grad():\n",
        "        cause_outputs = cause_model(**inputs)\n",
        "        isolation_outputs = isolation_model(**inputs)\n",
        "    \n",
        "    # Get predicted classes\n",
        "    cause_class = torch.argmax(cause_outputs.logits, dim=-1)\n",
        "    isolation_class = torch.argmax(isolation_outputs.logits, dim=-1)\n",
        "    \n",
        "    # Map predictions to labels\n",
        "    predicted_cause = le_cause.inverse_transform([cause_class.item()])[0]\n",
        "    predicted_isolation = le_isolation.inverse_transform([isolation_class.item()])[0]\n",
        "    \n",
        "    return predicted_cause, predicted_isolation"
      ]
    },
    {
      "cell_type": "code",
      "execution_count": null,
      "metadata": {},
      "outputs": [
        {
          "name": "stdout",
          "output_type": "stream",
          "text": [
            "Predicted cause: Customer\n",
            "Predicted isolation: CO15LB\n"
          ]
        }
      ],
      "source": [
        "# User input and classification\n",
        "text = input(\"Enter text to classify: \")\n",
        "cause, isolation = classify_text(text, cause_model, isolation_model, tokenizer)\n",
        "print(f\"text: {text}\")\n",
        "print(f\"Predicted cause: {cause}\")\n",
        "print(f\"Predicted isolation: {isolation}\")"
      ]
    },
    {
      "cell_type": "code",
      "execution_count": null,
      "metadata": {},
      "outputs": [
        {
          "name": "stdout",
          "output_type": "stream",
          "text": [
            "Predicted cause: Equipment\n",
            "Predicted isolation: Breaker\n"
          ]
        }
      ],
      "source": [
        "# User input and classification\n",
        "text = input(\"Enter text to classify: \")\n",
        "cause, isolation = classify_text(text, cause_model, isolation_model, tokenizer)\n",
        "print(f\"text: {text}\")\n",
        "print(f\"Predicted cause: {cause}\")\n",
        "print(f\"Predicted isolation: {isolation}\")"
      ]
    }
  ],
  "metadata": {
    "accelerator": "GPU",
    "colab": {
      "provenance": [],
      "toc_visible": true
    },
    "gpuClass": "standard",
    "kernelspec": {
      "display_name": "Python 3",
      "name": "python3"
    },
    "language_info": {
      "codemirror_mode": {
        "name": "ipython",
        "version": 3
      },
      "file_extension": ".py",
      "mimetype": "text/x-python",
      "name": "python",
      "nbconvert_exporter": "python",
      "pygments_lexer": "ipython3",
      "version": "3.11.9"
    },
    "widgets": {
      "application/vnd.jupyter.widget-state+json": {
        "08b43815a9604e5b962861a7002dffff": {
          "model_module": "@jupyter-widgets/controls",
          "model_module_version": "1.5.0",
          "model_name": "DescriptionStyleModel",
          "state": {
            "_model_module": "@jupyter-widgets/controls",
            "_model_module_version": "1.5.0",
            "_model_name": "DescriptionStyleModel",
            "_view_count": null,
            "_view_module": "@jupyter-widgets/base",
            "_view_module_version": "1.2.0",
            "_view_name": "StyleView",
            "description_width": ""
          }
        },
        "237f962b863645b8bcb2e62437c82c5c": {
          "model_module": "@jupyter-widgets/base",
          "model_module_version": "1.2.0",
          "model_name": "LayoutModel",
          "state": {
            "_model_module": "@jupyter-widgets/base",
            "_model_module_version": "1.2.0",
            "_model_name": "LayoutModel",
            "_view_count": null,
            "_view_module": "@jupyter-widgets/base",
            "_view_module_version": "1.2.0",
            "_view_name": "LayoutView",
            "align_content": null,
            "align_items": null,
            "align_self": null,
            "border": null,
            "bottom": null,
            "display": null,
            "flex": null,
            "flex_flow": null,
            "grid_area": null,
            "grid_auto_columns": null,
            "grid_auto_flow": null,
            "grid_auto_rows": null,
            "grid_column": null,
            "grid_gap": null,
            "grid_row": null,
            "grid_template_areas": null,
            "grid_template_columns": null,
            "grid_template_rows": null,
            "height": null,
            "justify_content": null,
            "justify_items": null,
            "left": null,
            "margin": null,
            "max_height": null,
            "max_width": null,
            "min_height": null,
            "min_width": null,
            "object_fit": null,
            "object_position": null,
            "order": null,
            "overflow": null,
            "overflow_x": null,
            "overflow_y": null,
            "padding": null,
            "right": null,
            "top": null,
            "visibility": null,
            "width": null
          }
        },
        "32fd4c7ee6c34fcabd99d7d534725736": {
          "model_module": "@jupyter-widgets/controls",
          "model_module_version": "1.5.0",
          "model_name": "ProgressStyleModel",
          "state": {
            "_model_module": "@jupyter-widgets/controls",
            "_model_module_version": "1.5.0",
            "_model_name": "ProgressStyleModel",
            "_view_count": null,
            "_view_module": "@jupyter-widgets/base",
            "_view_module_version": "1.2.0",
            "_view_name": "StyleView",
            "bar_color": null,
            "description_width": ""
          }
        },
        "3a27c70ff13c4b10a7dff9d3c26e6aa9": {
          "model_module": "@jupyter-widgets/controls",
          "model_module_version": "1.5.0",
          "model_name": "HTMLModel",
          "state": {
            "_dom_classes": [],
            "_model_module": "@jupyter-widgets/controls",
            "_model_module_version": "1.5.0",
            "_model_name": "HTMLModel",
            "_view_count": null,
            "_view_module": "@jupyter-widgets/controls",
            "_view_module_version": "1.5.0",
            "_view_name": "HTMLView",
            "description": "",
            "description_tooltip": null,
            "layout": "IPY_MODEL_9d0bbf5585394b74940cfbfb4028f736",
            "placeholder": "​",
            "style": "IPY_MODEL_6f18b6c539cd4548b6bec432b392ba88",
            "value": " 1/1 [00:01&lt;00:00,  1.73s/ba]"
          }
        },
        "498012cbf13349eb9f4d166b4874df05": {
          "model_module": "@jupyter-widgets/controls",
          "model_module_version": "1.5.0",
          "model_name": "HTMLModel",
          "state": {
            "_dom_classes": [],
            "_model_module": "@jupyter-widgets/controls",
            "_model_module_version": "1.5.0",
            "_model_name": "HTMLModel",
            "_view_count": null,
            "_view_module": "@jupyter-widgets/controls",
            "_view_module_version": "1.5.0",
            "_view_name": "HTMLView",
            "description": "",
            "description_tooltip": null,
            "layout": "IPY_MODEL_a6512cbd14e14c0ebff3521058523a85",
            "placeholder": "​",
            "style": "IPY_MODEL_b768d60049934053bd862ed8fafcc283",
            "value": "100%"
          }
        },
        "4c9a3d025d794f83906684a1f21f7cc9": {
          "model_module": "@jupyter-widgets/controls",
          "model_module_version": "1.5.0",
          "model_name": "HTMLModel",
          "state": {
            "_dom_classes": [],
            "_model_module": "@jupyter-widgets/controls",
            "_model_module_version": "1.5.0",
            "_model_name": "HTMLModel",
            "_view_count": null,
            "_view_module": "@jupyter-widgets/controls",
            "_view_module_version": "1.5.0",
            "_view_name": "HTMLView",
            "description": "",
            "description_tooltip": null,
            "layout": "IPY_MODEL_8cf3e53b8fb645b098bc3e9341dc78d6",
            "placeholder": "​",
            "style": "IPY_MODEL_08b43815a9604e5b962861a7002dffff",
            "value": "100%"
          }
        },
        "5d25773c687b4b4ab69e1c10c8fa89b0": {
          "model_module": "@jupyter-widgets/controls",
          "model_module_version": "1.5.0",
          "model_name": "HBoxModel",
          "state": {
            "_dom_classes": [],
            "_model_module": "@jupyter-widgets/controls",
            "_model_module_version": "1.5.0",
            "_model_name": "HBoxModel",
            "_view_count": null,
            "_view_module": "@jupyter-widgets/controls",
            "_view_module_version": "1.5.0",
            "_view_name": "HBoxView",
            "box_style": "",
            "children": [
              "IPY_MODEL_498012cbf13349eb9f4d166b4874df05",
              "IPY_MODEL_f8a32737b8964837a2f5226174847726",
              "IPY_MODEL_dabc5d9de971483f8fd051e9b2b6bce8"
            ],
            "layout": "IPY_MODEL_237f962b863645b8bcb2e62437c82c5c"
          }
        },
        "6f18b6c539cd4548b6bec432b392ba88": {
          "model_module": "@jupyter-widgets/controls",
          "model_module_version": "1.5.0",
          "model_name": "DescriptionStyleModel",
          "state": {
            "_model_module": "@jupyter-widgets/controls",
            "_model_module_version": "1.5.0",
            "_model_name": "DescriptionStyleModel",
            "_view_count": null,
            "_view_module": "@jupyter-widgets/base",
            "_view_module_version": "1.2.0",
            "_view_name": "StyleView",
            "description_width": ""
          }
        },
        "7cf440d3ff2345e5b2d6742221742fe5": {
          "model_module": "@jupyter-widgets/base",
          "model_module_version": "1.2.0",
          "model_name": "LayoutModel",
          "state": {
            "_model_module": "@jupyter-widgets/base",
            "_model_module_version": "1.2.0",
            "_model_name": "LayoutModel",
            "_view_count": null,
            "_view_module": "@jupyter-widgets/base",
            "_view_module_version": "1.2.0",
            "_view_name": "LayoutView",
            "align_content": null,
            "align_items": null,
            "align_self": null,
            "border": null,
            "bottom": null,
            "display": null,
            "flex": null,
            "flex_flow": null,
            "grid_area": null,
            "grid_auto_columns": null,
            "grid_auto_flow": null,
            "grid_auto_rows": null,
            "grid_column": null,
            "grid_gap": null,
            "grid_row": null,
            "grid_template_areas": null,
            "grid_template_columns": null,
            "grid_template_rows": null,
            "height": null,
            "justify_content": null,
            "justify_items": null,
            "left": null,
            "margin": null,
            "max_height": null,
            "max_width": null,
            "min_height": null,
            "min_width": null,
            "object_fit": null,
            "object_position": null,
            "order": null,
            "overflow": null,
            "overflow_x": null,
            "overflow_y": null,
            "padding": null,
            "right": null,
            "top": null,
            "visibility": null,
            "width": null
          }
        },
        "7fa00d57f78040c2a09d85e084a60735": {
          "model_module": "@jupyter-widgets/base",
          "model_module_version": "1.2.0",
          "model_name": "LayoutModel",
          "state": {
            "_model_module": "@jupyter-widgets/base",
            "_model_module_version": "1.2.0",
            "_model_name": "LayoutModel",
            "_view_count": null,
            "_view_module": "@jupyter-widgets/base",
            "_view_module_version": "1.2.0",
            "_view_name": "LayoutView",
            "align_content": null,
            "align_items": null,
            "align_self": null,
            "border": null,
            "bottom": null,
            "display": null,
            "flex": null,
            "flex_flow": null,
            "grid_area": null,
            "grid_auto_columns": null,
            "grid_auto_flow": null,
            "grid_auto_rows": null,
            "grid_column": null,
            "grid_gap": null,
            "grid_row": null,
            "grid_template_areas": null,
            "grid_template_columns": null,
            "grid_template_rows": null,
            "height": null,
            "justify_content": null,
            "justify_items": null,
            "left": null,
            "margin": null,
            "max_height": null,
            "max_width": null,
            "min_height": null,
            "min_width": null,
            "object_fit": null,
            "object_position": null,
            "order": null,
            "overflow": null,
            "overflow_x": null,
            "overflow_y": null,
            "padding": null,
            "right": null,
            "top": null,
            "visibility": null,
            "width": null
          }
        },
        "8a999e8f563d4da7b7f4caf84b73aa7f": {
          "model_module": "@jupyter-widgets/controls",
          "model_module_version": "1.5.0",
          "model_name": "FloatProgressModel",
          "state": {
            "_dom_classes": [],
            "_model_module": "@jupyter-widgets/controls",
            "_model_module_version": "1.5.0",
            "_model_name": "FloatProgressModel",
            "_view_count": null,
            "_view_module": "@jupyter-widgets/controls",
            "_view_module_version": "1.5.0",
            "_view_name": "ProgressView",
            "bar_style": "success",
            "description": "",
            "description_tooltip": null,
            "layout": "IPY_MODEL_7fa00d57f78040c2a09d85e084a60735",
            "max": 1,
            "min": 0,
            "orientation": "horizontal",
            "style": "IPY_MODEL_32fd4c7ee6c34fcabd99d7d534725736",
            "value": 1
          }
        },
        "8cf3e53b8fb645b098bc3e9341dc78d6": {
          "model_module": "@jupyter-widgets/base",
          "model_module_version": "1.2.0",
          "model_name": "LayoutModel",
          "state": {
            "_model_module": "@jupyter-widgets/base",
            "_model_module_version": "1.2.0",
            "_model_name": "LayoutModel",
            "_view_count": null,
            "_view_module": "@jupyter-widgets/base",
            "_view_module_version": "1.2.0",
            "_view_name": "LayoutView",
            "align_content": null,
            "align_items": null,
            "align_self": null,
            "border": null,
            "bottom": null,
            "display": null,
            "flex": null,
            "flex_flow": null,
            "grid_area": null,
            "grid_auto_columns": null,
            "grid_auto_flow": null,
            "grid_auto_rows": null,
            "grid_column": null,
            "grid_gap": null,
            "grid_row": null,
            "grid_template_areas": null,
            "grid_template_columns": null,
            "grid_template_rows": null,
            "height": null,
            "justify_content": null,
            "justify_items": null,
            "left": null,
            "margin": null,
            "max_height": null,
            "max_width": null,
            "min_height": null,
            "min_width": null,
            "object_fit": null,
            "object_position": null,
            "order": null,
            "overflow": null,
            "overflow_x": null,
            "overflow_y": null,
            "padding": null,
            "right": null,
            "top": null,
            "visibility": null,
            "width": null
          }
        },
        "9aa1a30d899344949dd1a1ab49d7a489": {
          "model_module": "@jupyter-widgets/controls",
          "model_module_version": "1.5.0",
          "model_name": "DescriptionStyleModel",
          "state": {
            "_model_module": "@jupyter-widgets/controls",
            "_model_module_version": "1.5.0",
            "_model_name": "DescriptionStyleModel",
            "_view_count": null,
            "_view_module": "@jupyter-widgets/base",
            "_view_module_version": "1.2.0",
            "_view_name": "StyleView",
            "description_width": ""
          }
        },
        "9d0bbf5585394b74940cfbfb4028f736": {
          "model_module": "@jupyter-widgets/base",
          "model_module_version": "1.2.0",
          "model_name": "LayoutModel",
          "state": {
            "_model_module": "@jupyter-widgets/base",
            "_model_module_version": "1.2.0",
            "_model_name": "LayoutModel",
            "_view_count": null,
            "_view_module": "@jupyter-widgets/base",
            "_view_module_version": "1.2.0",
            "_view_name": "LayoutView",
            "align_content": null,
            "align_items": null,
            "align_self": null,
            "border": null,
            "bottom": null,
            "display": null,
            "flex": null,
            "flex_flow": null,
            "grid_area": null,
            "grid_auto_columns": null,
            "grid_auto_flow": null,
            "grid_auto_rows": null,
            "grid_column": null,
            "grid_gap": null,
            "grid_row": null,
            "grid_template_areas": null,
            "grid_template_columns": null,
            "grid_template_rows": null,
            "height": null,
            "justify_content": null,
            "justify_items": null,
            "left": null,
            "margin": null,
            "max_height": null,
            "max_width": null,
            "min_height": null,
            "min_width": null,
            "object_fit": null,
            "object_position": null,
            "order": null,
            "overflow": null,
            "overflow_x": null,
            "overflow_y": null,
            "padding": null,
            "right": null,
            "top": null,
            "visibility": null,
            "width": null
          }
        },
        "a6512cbd14e14c0ebff3521058523a85": {
          "model_module": "@jupyter-widgets/base",
          "model_module_version": "1.2.0",
          "model_name": "LayoutModel",
          "state": {
            "_model_module": "@jupyter-widgets/base",
            "_model_module_version": "1.2.0",
            "_model_name": "LayoutModel",
            "_view_count": null,
            "_view_module": "@jupyter-widgets/base",
            "_view_module_version": "1.2.0",
            "_view_name": "LayoutView",
            "align_content": null,
            "align_items": null,
            "align_self": null,
            "border": null,
            "bottom": null,
            "display": null,
            "flex": null,
            "flex_flow": null,
            "grid_area": null,
            "grid_auto_columns": null,
            "grid_auto_flow": null,
            "grid_auto_rows": null,
            "grid_column": null,
            "grid_gap": null,
            "grid_row": null,
            "grid_template_areas": null,
            "grid_template_columns": null,
            "grid_template_rows": null,
            "height": null,
            "justify_content": null,
            "justify_items": null,
            "left": null,
            "margin": null,
            "max_height": null,
            "max_width": null,
            "min_height": null,
            "min_width": null,
            "object_fit": null,
            "object_position": null,
            "order": null,
            "overflow": null,
            "overflow_x": null,
            "overflow_y": null,
            "padding": null,
            "right": null,
            "top": null,
            "visibility": null,
            "width": null
          }
        },
        "ab8d99542b9b40d7b0ac96176992ef37": {
          "model_module": "@jupyter-widgets/base",
          "model_module_version": "1.2.0",
          "model_name": "LayoutModel",
          "state": {
            "_model_module": "@jupyter-widgets/base",
            "_model_module_version": "1.2.0",
            "_model_name": "LayoutModel",
            "_view_count": null,
            "_view_module": "@jupyter-widgets/base",
            "_view_module_version": "1.2.0",
            "_view_name": "LayoutView",
            "align_content": null,
            "align_items": null,
            "align_self": null,
            "border": null,
            "bottom": null,
            "display": null,
            "flex": null,
            "flex_flow": null,
            "grid_area": null,
            "grid_auto_columns": null,
            "grid_auto_flow": null,
            "grid_auto_rows": null,
            "grid_column": null,
            "grid_gap": null,
            "grid_row": null,
            "grid_template_areas": null,
            "grid_template_columns": null,
            "grid_template_rows": null,
            "height": null,
            "justify_content": null,
            "justify_items": null,
            "left": null,
            "margin": null,
            "max_height": null,
            "max_width": null,
            "min_height": null,
            "min_width": null,
            "object_fit": null,
            "object_position": null,
            "order": null,
            "overflow": null,
            "overflow_x": null,
            "overflow_y": null,
            "padding": null,
            "right": null,
            "top": null,
            "visibility": null,
            "width": null
          }
        },
        "af7f39e0956741b6b6f807580b58b54d": {
          "model_module": "@jupyter-widgets/base",
          "model_module_version": "1.2.0",
          "model_name": "LayoutModel",
          "state": {
            "_model_module": "@jupyter-widgets/base",
            "_model_module_version": "1.2.0",
            "_model_name": "LayoutModel",
            "_view_count": null,
            "_view_module": "@jupyter-widgets/base",
            "_view_module_version": "1.2.0",
            "_view_name": "LayoutView",
            "align_content": null,
            "align_items": null,
            "align_self": null,
            "border": null,
            "bottom": null,
            "display": null,
            "flex": null,
            "flex_flow": null,
            "grid_area": null,
            "grid_auto_columns": null,
            "grid_auto_flow": null,
            "grid_auto_rows": null,
            "grid_column": null,
            "grid_gap": null,
            "grid_row": null,
            "grid_template_areas": null,
            "grid_template_columns": null,
            "grid_template_rows": null,
            "height": null,
            "justify_content": null,
            "justify_items": null,
            "left": null,
            "margin": null,
            "max_height": null,
            "max_width": null,
            "min_height": null,
            "min_width": null,
            "object_fit": null,
            "object_position": null,
            "order": null,
            "overflow": null,
            "overflow_x": null,
            "overflow_y": null,
            "padding": null,
            "right": null,
            "top": null,
            "visibility": null,
            "width": null
          }
        },
        "b768d60049934053bd862ed8fafcc283": {
          "model_module": "@jupyter-widgets/controls",
          "model_module_version": "1.5.0",
          "model_name": "DescriptionStyleModel",
          "state": {
            "_model_module": "@jupyter-widgets/controls",
            "_model_module_version": "1.5.0",
            "_model_name": "DescriptionStyleModel",
            "_view_count": null,
            "_view_module": "@jupyter-widgets/base",
            "_view_module_version": "1.2.0",
            "_view_name": "StyleView",
            "description_width": ""
          }
        },
        "d5cbfebcf7a94e43bc81e4d1cdb8e7a5": {
          "model_module": "@jupyter-widgets/controls",
          "model_module_version": "1.5.0",
          "model_name": "ProgressStyleModel",
          "state": {
            "_model_module": "@jupyter-widgets/controls",
            "_model_module_version": "1.5.0",
            "_model_name": "ProgressStyleModel",
            "_view_count": null,
            "_view_module": "@jupyter-widgets/base",
            "_view_module_version": "1.2.0",
            "_view_name": "StyleView",
            "bar_color": null,
            "description_width": ""
          }
        },
        "dabc5d9de971483f8fd051e9b2b6bce8": {
          "model_module": "@jupyter-widgets/controls",
          "model_module_version": "1.5.0",
          "model_name": "HTMLModel",
          "state": {
            "_dom_classes": [],
            "_model_module": "@jupyter-widgets/controls",
            "_model_module_version": "1.5.0",
            "_model_name": "HTMLModel",
            "_view_count": null,
            "_view_module": "@jupyter-widgets/controls",
            "_view_module_version": "1.5.0",
            "_view_name": "HTMLView",
            "description": "",
            "description_tooltip": null,
            "layout": "IPY_MODEL_af7f39e0956741b6b6f807580b58b54d",
            "placeholder": "​",
            "style": "IPY_MODEL_9aa1a30d899344949dd1a1ab49d7a489",
            "value": " 4/4 [00:08&lt;00:00,  2.88s/ba]"
          }
        },
        "e527af17d4164f819097e19e36434ad5": {
          "model_module": "@jupyter-widgets/controls",
          "model_module_version": "1.5.0",
          "model_name": "HBoxModel",
          "state": {
            "_dom_classes": [],
            "_model_module": "@jupyter-widgets/controls",
            "_model_module_version": "1.5.0",
            "_model_name": "HBoxModel",
            "_view_count": null,
            "_view_module": "@jupyter-widgets/controls",
            "_view_module_version": "1.5.0",
            "_view_name": "HBoxView",
            "box_style": "",
            "children": [
              "IPY_MODEL_4c9a3d025d794f83906684a1f21f7cc9",
              "IPY_MODEL_8a999e8f563d4da7b7f4caf84b73aa7f",
              "IPY_MODEL_3a27c70ff13c4b10a7dff9d3c26e6aa9"
            ],
            "layout": "IPY_MODEL_ab8d99542b9b40d7b0ac96176992ef37"
          }
        },
        "f8a32737b8964837a2f5226174847726": {
          "model_module": "@jupyter-widgets/controls",
          "model_module_version": "1.5.0",
          "model_name": "FloatProgressModel",
          "state": {
            "_dom_classes": [],
            "_model_module": "@jupyter-widgets/controls",
            "_model_module_version": "1.5.0",
            "_model_name": "FloatProgressModel",
            "_view_count": null,
            "_view_module": "@jupyter-widgets/controls",
            "_view_module_version": "1.5.0",
            "_view_name": "ProgressView",
            "bar_style": "success",
            "description": "",
            "description_tooltip": null,
            "layout": "IPY_MODEL_7cf440d3ff2345e5b2d6742221742fe5",
            "max": 4,
            "min": 0,
            "orientation": "horizontal",
            "style": "IPY_MODEL_d5cbfebcf7a94e43bc81e4d1cdb8e7a5",
            "value": 4
          }
        }
      }
    }
  },
  "nbformat": 4,
  "nbformat_minor": 0
}
